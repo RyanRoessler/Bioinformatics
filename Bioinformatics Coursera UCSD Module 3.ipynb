{
 "cells": [
  {
   "cell_type": "markdown",
   "id": "05fb0bb7-ca1a-4755-825e-7fa5d3d60f42",
   "metadata": {},
   "source": [
    "## Locating regulatory motifs / transcription factor binding sites"
   ]
  },
  {
   "cell_type": "markdown",
   "id": "fd8475ee-dbb2-4fa9-9ec5-53df4f8366a3",
   "metadata": {},
   "source": [
    "### Regulatory motifs are not conserved, and may vary at some positions. Thus, we must develop 'motif finding' algorithms.\n",
    "> ### In contrast to a *DnaA* box, which is a pattern that clumps, or appears frequently, within a relatively short interval of the genome, a regulatory motif is a pattern that appears at least once (perhaps with variation) in each of many different regions that are scattered throughout the genome."
   ]
  },
  {
   "cell_type": "markdown",
   "id": "f8d32c2d-38b3-498a-ae41-cdbf701560dc",
   "metadata": {},
   "source": [
    "## Implanted Motif Problem: Find all (k, d)-motifs in a collection of strings\n",
    "> ### Given a collection of DNA strings and an integer *d*, a k-mer is a (k,d)-motif if it appears in every string from Dna with at most *d* mismatches. "
   ]
  },
  {
   "cell_type": "markdown",
   "id": "14830e8a-5008-4f5f-9336-9f7c594efd76",
   "metadata": {},
   "source": [
    "### Brute force / exhaustive search approach:\n",
    "> #### Generate all k-mers in the first DNA string, and then check which of them are (k, d)-motifs."
   ]
  },
  {
   "cell_type": "code",
   "execution_count": null,
   "id": "87e27c0c-d608-4dbf-b390-18f388c843b7",
   "metadata": {},
   "outputs": [],
   "source": [
    "# Pseudocode\n",
    "\n",
    "MotifEnumeration(Dna, k, d)\n",
    "    Patterns ← an empty set\n",
    "    for each k-mer Pattern in the first string in Dna\n",
    "        for each k-mer Pattern’ differing from Pattern by at most d mismatches\n",
    "            if Pattern' appears in each string from Dna with at most d mismatches\n",
    "                add Pattern' to Patterns\n",
    "    remove duplicates from Patterns\n",
    "    return Patterns"
   ]
  },
  {
   "cell_type": "code",
   "execution_count": 68,
   "id": "d084adeb-50ce-475c-ada2-b691307ca797",
   "metadata": {
    "tags": []
   },
   "outputs": [
    {
     "name": "stdout",
     "output_type": "stream",
     "text": [
      "Motifs with up to 1 mismatches:\n",
      "CCCGC CCCTC CCCCC CCCAC\n"
     ]
    }
   ],
   "source": [
    "def HammingDistance(p, q):\n",
    "    if len(p) != len(q):\n",
    "        return -1  # Invalid input, return an error code\n",
    "    return sum([1 for nucleotide in range(len(p)) if p[nucleotide] != q[nucleotide]])\n",
    "\n",
    "# Generates all possible neighbors of our pattern with d or fewer mismatches\n",
    "def Neighbors(pattern, d):\n",
    "    nucleotides = 'ACGT'\n",
    "    # Case: d = 0\n",
    "    if d == 0:\n",
    "        return {pattern}\n",
    "    \n",
    "    # Case: pattern is 1 letter\n",
    "    if len(pattern) == 1:\n",
    "        return set(nucleotides)\n",
    "    \n",
    "    # Case: d > 0 and pattern > 1 letter\n",
    "    neighborhood = set()\n",
    "    # Starting with possible mismatches at the first letter, keeping the suffix of the pattern the same\n",
    "    # Then, use recursion to iterate over all possible mismatches at each remaining letter index\n",
    "    suffix_neighbors = Neighbors(pattern[1:], d)\n",
    "    for neighbor in suffix_neighbors:\n",
    "        # If the Hamming distace of the suffix is < d, the neighbor differs by at most d mismatches\n",
    "        if HammingDistance(pattern[1:], neighbor) < int(d):\n",
    "            for nuc in nucleotides:\n",
    "                # Concatenate each of the four nucleotides to the suffix of the pattern\n",
    "                neighborhood.add(nuc + neighbor)\n",
    "        else:\n",
    "            neighborhood.add(pattern[0] + neighbor)\n",
    "    return neighborhood\n",
    "\n",
    "# This function uses a given number of DNA sequences to check, separated by spaces\n",
    "def MotifEnumeration(Dna, k, d):\n",
    "    patterns = set()\n",
    "    for i in range(len(Dna[0]) - int(k) + 1):\n",
    "        # Sliding window of length k to find all patterns in all sequences\n",
    "        pattern = Dna[0][i:i + int(k)]\n",
    "        # Recursion to find all possible neighbors of each pattern in sliding window\n",
    "        pattern_neighbors = Neighbors(pattern, d)\n",
    "        motifs_found = set()\n",
    "        # For each neighbor in the set of all possible neighbors for all patterns across all sequences\n",
    "        for neighbor in pattern_neighbors:\n",
    "            is_motif = True\n",
    "            # For each sequence in our given number of DNA sequences\n",
    "            for seq in Dna:\n",
    "                motif_found = False\n",
    "                for j in range(len(seq) - int(k) + 1):\n",
    "                    # If the number of mismatches is d or fewer in a sliding window of patterns\n",
    "                    if HammingDistance(neighbor, seq[j:j + int(k)]) <= int(d):\n",
    "                        # Motif found and move to the next pattern in the current sequence\n",
    "                        motif_found = True\n",
    "                        break\n",
    "                if not motif_found:\n",
    "                    is_motif = False\n",
    "                    break\n",
    "            # After all sequences are parsed, parse neighborhood for \"is-motif = True\"\n",
    "            # If true, add that motif to \"motifs_found\" set\n",
    "            if is_motif:\n",
    "                motifs_found.add(neighbor)\n",
    "        patterns.update(motifs_found)\n",
    "    return ' '.join(list(set(patterns)))\n",
    "\n",
    "\n",
    "\n",
    "file_path = r'C:\\Users\\ryanr\\OneDrive\\Desktop\\Coursera\\Bioinformatics UCSD\\dataset_30302_8.txt'\n",
    "with open(file_path, 'r') as file:\n",
    "    K = file.readline().strip()\n",
    "    D = file.readline().strip()\n",
    "    # split() creates a list, rather than a line of strings separated by spaces\n",
    "    DNA = file.readline().strip().split()\n",
    "\n",
    "# * unpacks elements of the list and prints them separated by spaces\n",
    "print(\"Motifs with up to \", D, \" mismatches:\\n\", *MotifEnumeration(DNA, K, D), sep='')"
   ]
  },
  {
   "cell_type": "markdown",
   "id": "ee121cd6-544c-46c9-aad3-0544f81de846",
   "metadata": {},
   "source": [
    "## Given a k-mer Pattern and a set of strings *Dna = {Dna$_1$, … , Dna$_t$}*, we define *d(Pattern, Dna)* as the sum of distances between *Pattern* and all strings in *Dna*.\n",
    "\n",
    "> ### For example, for the strings *Dna* shown below, *d(AAA, Dna)* = 1 + 1 + 2 + 0 + 1 = 5."
   ]
  },
  {
   "cell_type": "markdown",
   "id": "92e37c46-16b5-4e07-8d2f-b863344c6494",
   "metadata": {
    "tags": []
   },
   "source": [
    "<img src=\"d_Pattern_Dna.png\" width=\"500\" />"
   ]
  },
  {
   "cell_type": "markdown",
   "id": "dab2f162-27d4-49fd-9484-e3b574d4df5d",
   "metadata": {},
   "source": [
    "### Our goal is to find a k-mer *Pattern* that minimizes *d(Pattern, Dna)* over all k-mers *Pattern*. We call such a k-mer a **median string** for Dna.\n",
    "\n",
    "> ### Median String Problem: Find a median string.\n",
    " - Input: A collection of strings Dna and an integer k.\n",
    " - Output: A k-mer Pattern that minimizes d(Pattern, Dna) among all possible choices of k-mers."
   ]
  },
  {
   "cell_type": "code",
   "execution_count": null,
   "id": "20b28cab-06df-40c1-a36d-bef6d55640c1",
   "metadata": {},
   "outputs": [],
   "source": [
    "# Pseudocode for a brute force solution to the Median String Problem\n",
    "\n",
    "Median_String(Dna, k)\n",
    "    distance ← ∞\n",
    "    for each k-mer Pattern from AA…AA to TT…TT\n",
    "        if distance > d(Pattern, Dna)\n",
    "             distance ← d(Pattern, Dna)\n",
    "             Median ← Pattern\n",
    "    return Median"
   ]
  },
  {
   "cell_type": "code",
   "execution_count": 127,
   "id": "11470da1-af97-4e67-8b04-13b2f6d83994",
   "metadata": {
    "tags": []
   },
   "outputs": [
    {
     "name": "stdout",
     "output_type": "stream",
     "text": [
      "6-mers that minimize d(Pattern, Dna): ['AACGAT', 'ACAACG', 'ACCAGC', 'ACGATC', 'AGAGTA', 'AGCATA', 'AGTACC', 'ATATGG', 'ATCAAA', 'ATGGTT', 'CAACGA', 'CAGCAT', 'CATATG', 'CCAGCA', 'CGACAA', 'CGATCA', 'CGCGGT', 'CGGTTG', 'GACAAC', 'GAGTAC', 'GATCAA', 'GCATAT', 'GCGACA', 'GCGGTT', 'GGTTGC', 'GGTTTC', 'GTACCA', 'GTTGCG', 'GTTTCG', 'TACCAG', 'TATGGT', 'TCGCGG', 'TGCGAC', 'TGGTTT', 'TTCGCG', 'TTGCGA', 'TTTCGC']\n"
     ]
    }
   ],
   "source": [
    "import itertools\n",
    "\n",
    "# d(Pattern, Dna)\n",
    "    # Given a k-mer Pattern and a set of strings Dna:\n",
    "    # Sum of all minimum Hamming distances between Pattern and all strings Dna\n",
    "def Sum_Distances(pattern, Dna):\n",
    "    distance_sum = 0\n",
    "    k = len(pattern)\n",
    "    # For each sequence in Dna\n",
    "    for seq in Dna.split():\n",
    "        min_distance = float('inf')\n",
    "        for nuc in range(len(seq) - int(k) + 1):\n",
    "            # Scanning window of Pattern size\n",
    "            kmer = seq[nuc:nuc + int(k)]\n",
    "            # Hamming distance between a given pattern and each window of nucleotides\n",
    "            distance = HammingDistance(pattern, kmer)\n",
    "            # Update minimum Hamming distance\n",
    "            if distance < min_distance:\n",
    "                min_distance = distance\n",
    "        distance_sum += min_distance\n",
    "    return distance_sum\n",
    "\n",
    "# Find all k-mer Patterns (\"median string\") that minimize d(Pattern, Dna)\n",
    "def Median_String(Dna, k):\n",
    "    min_distance = float('inf')\n",
    "    medians = []\n",
    "    # For all possible variations of k nucleotides (pattern)\n",
    "    for pattern in [''.join(p) for p in itertools.product('ACGT', repeat = int(k))]:\n",
    "        # Update min_distance generated by Sum_Distances(pattern, Dna) using each pattern\n",
    "        if Sum_Distances(pattern, Dna) < min_distance:\n",
    "            min_distance = Sum_Distances(pattern, Dna)\n",
    "            medians = [pattern]\n",
    "        elif Sum_Distances(pattern, Dna) == min_distance:\n",
    "            medians.append(pattern)\n",
    "    return medians\n",
    "\n",
    "\n",
    "\n",
    "file_path = r'C:\\Users\\ryanr\\OneDrive\\Desktop\\Coursera\\Bioinformatics UCSD\\dataset_30304_9.txt'\n",
    "with open(file_path, 'r') as file:\n",
    "    K = file.readline().strip()\n",
    "    DNA = file.readline().strip()\n",
    "    \n",
    "print(f\"{K}-mers that minimize d(Pattern, Dna): {Median_String(DNA, K)}\")"
   ]
  },
  {
   "cell_type": "markdown",
   "id": "f39e3f7c-b0f3-41e7-ae70-119bdadecf6e",
   "metadata": {},
   "source": [
    "### Shown below is a motif matrix *Motifs* with its nucleotide counts *Count(Motifs)*, profile matrix *Profile(Motifs)* (for which P$_{i,j}$ is the frequency of the i-th nucleotide in the j-th column of the motif matrix), and consensus string *Consensus(Motifs)* (the most popular letters in each column of the motif matrix).\n",
    "\n",
    "<img src=\"motifs-count-consensus-profile.png\" width=\"500\">"
   ]
  },
  {
   "cell_type": "markdown",
   "id": "16b95ed4-8dd8-4d00-a535-8d40b835ff8f",
   "metadata": {},
   "source": [
    "### The probability *Pr(ACGGGGATTACC | Profile)* that *Profile* generates ACGGGGATTACC is computed by simply multiplying the corresponding entries in the profile matrix, shown below:\n",
    "\n",
    "<img src=\"profile-prob.png\" width=\"500\">"
   ]
  },
  {
   "cell_type": "markdown",
   "id": "0dac09a2-96b6-4cab-aea9-3375c742f0f0",
   "metadata": {},
   "source": [
    "### Given a profile matrix *Profile*, evaluate the probability of every k-mer in a string *Seq* and find a **Profile-most probable** k-mer in *Seq*, i.e., find a k-mer that was most likely to have been generated by *Profile* among all k-mers in *Seq*."
   ]
  },
  {
   "cell_type": "code",
   "execution_count": 126,
   "id": "02de95a5-118c-43cc-8ffd-6d5fb4302912",
   "metadata": {
    "tags": []
   },
   "outputs": [
    {
     "name": "stdout",
     "output_type": "stream",
     "text": [
      "Profile-most probable 12-mer in given sequence: ATATAAGGCTAA\n"
     ]
    }
   ],
   "source": [
    "# Find profile-most probable k-mer given a DNA sequence, integer k, and Profile matrix\n",
    "def Profile_Most_Probable(seq, k, profile):\n",
    "    max_prob = -1\n",
    "    most_probable_kmer = \"\"\n",
    "    for i in range(len(seq) - int(k) + 1):\n",
    "        # For each kmer of scanning window size k\n",
    "        kmer = seq[i:i + int(k)]\n",
    "        prob = 1\n",
    "        for nuc in range(int(k)):\n",
    "            # If current nucleotide == A, C, G or T\n",
    "            if kmer[nuc] == 'A':\n",
    "                # Set probability = corresponding probability in Profile\n",
    "                # As we iterate through to k-th nucleotide in kmer, use that column in Profile\n",
    "                prob *= profile[0][nuc]\n",
    "            elif kmer[nuc] == 'C':\n",
    "                prob *= profile[1][nuc]\n",
    "            elif kmer[nuc] == 'G':\n",
    "                prob *= profile[2][nuc]\n",
    "            elif kmer[nuc] == 'T':\n",
    "                prob *= profile[3][nuc]\n",
    "            # kmer now has an associated probability\n",
    "        if prob > max_prob:\n",
    "            # Update the maximum probability found and assign the corresponding kmer to moxt_probable_kmer\n",
    "            max_prob = prob\n",
    "            most_probable_kmer = kmer\n",
    "    return most_probable_kmer\n",
    "    \n",
    "    \n",
    "    \n",
    "file_path = r'C:\\Users\\ryanr\\OneDrive\\Desktop\\Coursera\\Bioinformatics UCSD\\dataset_30305_3.txt'\n",
    "with open(file_path, 'r') as file:\n",
    "    Seq = file.readline().strip()\n",
    "    K = file.readline().strip()\n",
    "    # Read final lines as a matrix\n",
    "    Profile = [[float(num) for num in line.split()] for line in file]\n",
    "\n",
    "print(f\"Profile-most probable {K}-mer in given sequence: {Profile_Most_Probable(Seq, K, Profile)}\")"
   ]
  },
  {
   "cell_type": "markdown",
   "id": "9b171d11-366b-4c5b-99a6-bdc561f81606",
   "metadata": {},
   "source": [
    "## Greedy approach to motif finding:\n",
    "\n",
    "#### **GreedyMotifSearch** will start by forming a motif matrix by selecting the first k-mer in the first *Dna* string. For a given k-mer choice *Motif$_1$* in *Dna$_1$*, it builds a profile matrix for this k-mer, and sets *Motif$_2$* equal to the profile-most probable k-mer in *Dna$_2$*. It then iterates by updating *Profile* to use *Motif$_1$* and *Motif$_2$*, and sets *Motif$_3$* equal to the profile-most probable k-mer in *Dna$_3$*, and so on. After obtaining a k-mer from each string, we test to see whether the current motif matrix *Motifs* outscores the current best scoring one. Finally, *Motif$_1$* moves over one nucleotide in *Dna$_1$* and repeats the whole process."
   ]
  },
  {
   "cell_type": "code",
   "execution_count": null,
   "id": "5f3e56b8-db05-4816-93b3-96182337eafb",
   "metadata": {},
   "outputs": [],
   "source": [
    "# Pseudocode\n",
    "\n",
    "GreedyMotifSearch(Dna, k, t)\n",
    "    BestMotifs ← motif matrix formed by first k-mers in each string from Dna\n",
    "    for each k-mer Motif in the first string from Dna\n",
    "        Motif1 ← Motif\n",
    "        for i = 2 to t\n",
    "            form Profile from motifs Motif1, …, Motifi - 1\n",
    "            Motifi ← Profile-most probable k-mer in the i-th string in Dna\n",
    "        Motifs ← (Motif1, …, Motift)\n",
    "        if Score(Motifs) < Score(BestMotifs)\n",
    "            BestMotifs ← Motifs\n",
    "    return BestMotifs"
   ]
  },
  {
   "cell_type": "code",
   "execution_count": 124,
   "id": "cd684174-88a1-4643-a145-75599fa51077",
   "metadata": {
    "tags": []
   },
   "outputs": [
    {
     "name": "stdout",
     "output_type": "stream",
     "text": [
      "Optimal motif matrix from Dna using greedy approach:\n",
      "CACACCGAGCTG ACCCTCCACATC TTAGTCCGAAGC CCTCAGTAGATT CCTCAGTAAGAA CCTCAGCAAGAA CTCCCCTAGATA CACAAGCGGGAT GAGTGGAGGGAC TCACTGTAGGTC TTTCAGCAGCAT CTTTAGTAAGAA GATTAGCAAGAA CATCAGTAAGAA CTTAAGGAAGAA TTTGAGGAAGAA ATTCAGTAAGAA GTTGAGTAAGAA TTTTAGTAAGAA TCTGAGAAAGAA CTACAGGGGGTT GATAAGCAAGAA AATTAGCAAGAA TCTGAGTAAGAA CTTCAGCAAGAA\n"
     ]
    }
   ],
   "source": [
    "# Build a profile matrix Profile for a given k-mer\n",
    "    # Takes a list of motifs as input\n",
    "def Build_Profile_Matrix(motifs):\n",
    "    # Length of each kmer/motif or row in the matrix\n",
    "    k = len(motifs[0])\n",
    "    # Initialize profile matrix with 4 rows (A,C,G,T) of lists containing k zeroes\n",
    "    profile = [[0] * k for _ in range(4)]\n",
    "    num_rows = len(motifs)\n",
    "    # For each column\n",
    "    for nuc in range(k):\n",
    "        # Initialize dictionary of nucleotide counts\n",
    "        count = {'A': 0, 'C': 0, 'G': 0, 'T': 0}\n",
    "        # For each row\n",
    "        for motif in motifs:\n",
    "            # Increment nucleotide counts in dictionary\n",
    "                # motif[nuc] accesses the element of motif at the nuc-th column\n",
    "                # count[motif[nuc]] is like count['A'] where motif[nuc] becomes the key whose value gets incremented\n",
    "            count[motif[nuc]] += 1\n",
    "        # For each row of Profile matrix\n",
    "        for j in range(4):\n",
    "            # Get value of j-th key (nucleotide) in {count} and divide by total number of rows in Motifs\n",
    "                # the Profile rows are consistently 'A,C,G,T' so row 0 corresponds to A, etc.\n",
    "            profile[j][nuc] = count['ACGT'[j]] / num_rows\n",
    "    return profile\n",
    "\n",
    "# Score a motif matrix, where each column is assigned a score and all columns are totaled\n",
    "# A column's score corresponds to the number of least conserved/most mutated nucleotides across all rows\n",
    "    # The lower the score, the better / most conserved\n",
    "def Score(motifs):\n",
    "    consensus = \"\"\n",
    "    # Number of matrix columns\n",
    "    num_cols = len(motifs[0])\n",
    "    # Number of matrix rows\n",
    "    num_rows = len(motifs)\n",
    "    # For each column\n",
    "    for nuc in range(num_cols):\n",
    "        # Initialize dictionary of nucleotide counts, which will update for every column in Motifs\n",
    "        count = {'A': 0, 'C': 0, 'G': 0, 'T': 0}\n",
    "        # For each row\n",
    "        for motif in motifs:\n",
    "            # Increment each nucleotide in count\n",
    "            count[motif[nuc]] += 1\n",
    "        # Build the consensus motif using the most-occurring nucleotide in current column for all rows\n",
    "        consensus += max(count, key=count.get)\n",
    "    # Calculate score\n",
    "    score = 0\n",
    "    # For each row\n",
    "    for motif in motifs:\n",
    "        # For each column\n",
    "        for nuc in range(num_cols):\n",
    "            # If the nucleotide differs from the corresponding consensus necleotide, increment score\n",
    "            if motif[nuc] != consensus[nuc]:\n",
    "                score += 1\n",
    "    return score\n",
    "\n",
    "# Construct motif matrices using Profile, and compare their scores to find the one with the lowest score\n",
    "    # 't' is number of strings in Dna\n",
    "def Greedy_Motif_Search(Dna, k, t):\n",
    "    best_motifs = [string[:int(k)] for string in Dna]\n",
    "    # Specify/Stay in the first Dna string: building each motif matrix from Motif_1\n",
    "    for i in range(len(Dna[0]) - int(k) + 1):\n",
    "        # List of k-mers for each motif matrix, where the first in the list is from the first string Dna_1\n",
    "        # At first, [kmers] has only Motif_1 from Dna_1, which iterates as a scanning window creating each motif matrix\n",
    "        kmers = [Dna[0][i:i + int(k)]]\n",
    "        # For each string in Dna\n",
    "        for string in range(1, int(t)):\n",
    "            # Construct Profile using preceding k-mers\n",
    "            profile = Build_Profile_Matrix(kmers)\n",
    "            # Append the profile-most probable kmer in the next string\n",
    "            kmers.append(Profile_Most_Probable(Dna[string], k, profile))\n",
    "        if Score(kmers) < Score(best_motifs):\n",
    "            best_motifs = kmers\n",
    "    return ' '.join(best_motifs)\n",
    "\n",
    "\n",
    "\n",
    "file_path = r'C:\\Users\\ryanr\\OneDrive\\Desktop\\Coursera\\Bioinformatics UCSD\\dataset_30305_5.txt'\n",
    "with open(file_path, 'r') as file:\n",
    "    K = file.readline().strip()\n",
    "    T = file.readline().strip()\n",
    "    # Read space-separated strings as a list\n",
    "    DNA = file.readline().strip().split()\n",
    "\n",
    "print(\"Optimal motif matrix from Dna using greedy approach:\\n\", Greedy_Motif_Search(DNA, K, T), sep='')"
   ]
  },
  {
   "cell_type": "markdown",
   "id": "5385f5d1-5e54-40bc-a765-dc751d5a69d0",
   "metadata": {},
   "source": [
    "### The above **GreedyMotifSearch** algorithm has a crucial flaw, which is the pervasive presence of zeroes in each *Profile* matrix. After finding the first *Profile* matrix for *Motif$_1$* and searching for the subsequent profile-most probable *Motif$_2$*, the probability of every k-mer except *Motif$_1$* is zero.\n",
    "\n",
    "> #### Cromwell's rule!\n",
    "\n",
    "### A solution is to use Laplace's Rule of Succession and simply add 1 to each element of *Count(Motifs)*\n",
    "> #### Using pseudocounts instead of zeroes"
   ]
  },
  {
   "cell_type": "code",
   "execution_count": 125,
   "id": "fce33be2-b602-4d1a-a1e8-eb235045f5a2",
   "metadata": {
    "tags": []
   },
   "outputs": [
    {
     "name": "stdout",
     "output_type": "stream",
     "text": [
      "Optimal motif matrix from Dna:\n",
      "CAAGCTTTCCTA CTACCTTTCCTT CAAACTTACCTG CGATCTTACCTA CTAGCTTGCCTT CGATCTTCCCTC CGAACTTTCCTT CAAACTTTCCTA CTACCTTCCCTC CGACCTTACCTT CAAACTTCCCTG CAAGCTTACCTC CAAGCTTACCTT CGAGCTTGCCTA CCAACTTGCCTT CCACCTTACCTA CGAGCTTGCCTT CAACCTTTCCTC CGAGCTTACCTA CCATCTTTCCTG CCACCTTCCCTT CGACCTTGCCTC CGACCTTTCCTC CAAACTTGCCTC CGATCTTGCCTT\n"
     ]
    }
   ],
   "source": [
    "# GreedyMotifSearch with pseudocounts using Laplace's Rule of Succession\n",
    "\n",
    "# Build a profile matrix Profile for a given k-mer\n",
    "    # Takes a list of motifs as input\n",
    "def Build_Profile_Matrix_New(motifs):\n",
    "    # Length of each kmer/motif or row in the matrix\n",
    "    k = len(motifs[0])\n",
    "    # Initialize profile matrix with 4 rows (A,C,G,T) of lists containing k zeroes\n",
    "    profile = [[0] * k for _ in range(4)]\n",
    "    num_rows = len(motifs)\n",
    "    # For each column\n",
    "    for nuc in range(k):\n",
    "        # Initialize dictionary of nucleotide counts\n",
    "        # LAPLACE'S RULE OF SUCCESSION: This is the only line we need to change\n",
    "        count = {'A': 1, 'C': 1, 'G': 1, 'T': 1}\n",
    "        # For each row\n",
    "        for motif in motifs:\n",
    "            # Increment nucleotide counts in dictionary\n",
    "                # motif[nuc] accesses the element of motif at the nuc-th column\n",
    "                # count[motif[nuc]] is like count['A'] where motif[nuc] becomes the key whose value gets incremented\n",
    "            count[motif[nuc]] += 1\n",
    "        # For each row of Profile matrix\n",
    "        for j in range(4):\n",
    "            # Get value of j-th key (nucleotide) in {count} and divide by total number of rows in Motifs\n",
    "                # the Profile rows are consistently 'A,C,G,T' so row 0 corresponds to A, etc.\n",
    "            profile[j][nuc] = count['ACGT'[j]] / num_rows\n",
    "    return profile\n",
    "\n",
    "def Greedy_Motif_Search(Dna, k, t):\n",
    "    best_motifs = [string[:int(k)] for string in Dna]\n",
    "    # Specify/Stay in the first Dna string: building each motif matrix from Motif_1\n",
    "    for i in range(len(Dna[0]) - int(k) + 1):\n",
    "        # List of k-mers for each motif matrix, where the first in the list is from the first string Dna_1\n",
    "        # At first, [kmers] has only Motif_1 from Dna_1, which iterates as a scanning window creating each motif matrix\n",
    "        kmers = [Dna[0][i:i + int(k)]]\n",
    "        # For each string in Dna\n",
    "        for string in range(1, int(t)):\n",
    "            # Construct Profile using preceding k-mers\n",
    "            profile = Build_Profile_Matrix_New(kmers)\n",
    "            # Append the profile-most probable kmer in the next string\n",
    "            kmers.append(Profile_Most_Probable(Dna[string], k, profile))\n",
    "        if Score(kmers) < Score(best_motifs):\n",
    "            best_motifs = kmers\n",
    "    return ' '.join(best_motifs)\n",
    "\n",
    "\n",
    "\n",
    "file_path = r'C:\\Users\\ryanr\\OneDrive\\Desktop\\Coursera\\Bioinformatics UCSD\\dataset_30306_9.txt'\n",
    "with open(file_path, 'r') as file:\n",
    "    K = file.readline().strip()\n",
    "    T = file.readline().strip()\n",
    "    # Read space-separated strings as a list\n",
    "    DNA = file.readline().strip().split()\n",
    "\n",
    "print(\"Optimal motif matrix from Dna:\\n\", Greedy_Motif_Search(DNA, K, T), sep='')"
   ]
  },
  {
   "cell_type": "code",
   "execution_count": 122,
   "id": "5066b32e-67a2-4586-9312-ed994eb13108",
   "metadata": {
    "tags": []
   },
   "outputs": [
    {
     "name": "stdout",
     "output_type": "stream",
     "text": [
      "0.9\n",
      "1.99\n",
      "0.14\n",
      "1.36\n",
      "1.37\n"
     ]
    }
   ],
   "source": [
    "import math\n",
    "\n",
    "# Calculate the entropy of a list of numbers rounded to 2 decimal points\n",
    "def CalculateEntropy(numbers):\n",
    "    ans = 0\n",
    "    for num in numbers:\n",
    "        if num == 0:\n",
    "            # Creating rule that log_2(0) = 0\n",
    "            ans -= 0\n",
    "        else:\n",
    "            ans -= num * math.log2(num)\n",
    "    return round(ans, 2)\n",
    "    \n",
    "    \n",
    "    \n",
    "numbers_1 = [0.5, 0, 0, 0.65]\n",
    "numbers_2 = [0.2, 0.25, 0.3, 0.25]\n",
    "numbers_3 = [0, 0, 0.9, 1]\n",
    "numbers_4 = [0.25, 0, 0.7, 0.25]\n",
    "numbers_5 = [0.2, 0.6, 0.0, 0.2]\n",
    "\n",
    "# Call function iteratively using eval()\n",
    "for i in range(5):\n",
    "    numbers_i = eval(f\"numbers_{i+1}\")\n",
    "    print(CalculateEntropy(numbers_i))"
   ]
  }
 ],
 "metadata": {
  "kernelspec": {
   "display_name": "Python 3 (ipykernel)",
   "language": "python",
   "name": "python3"
  },
  "language_info": {
   "codemirror_mode": {
    "name": "ipython",
    "version": 3
   },
   "file_extension": ".py",
   "mimetype": "text/x-python",
   "name": "python",
   "nbconvert_exporter": "python",
   "pygments_lexer": "ipython3",
   "version": "3.11.3"
  }
 },
 "nbformat": 4,
 "nbformat_minor": 5
}
