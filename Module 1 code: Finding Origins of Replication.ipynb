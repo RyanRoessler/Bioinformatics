{
 "cells": [
  {
   "cell_type": "markdown",
   "id": "66743892-0fbb-4323-81b5-5a653b787794",
   "metadata": {},
   "source": [
    "### Getting the number of each nucleotide in *Vibrio cholerae*:"
   ]
  },
  {
   "cell_type": "code",
   "execution_count": 8,
   "id": "9a987b22-bb8f-4d81-92f5-7edf24420a45",
   "metadata": {
    "tags": []
   },
   "outputs": [
    {
     "name": "stdout",
     "output_type": "stream",
     "text": [
      "A: 293942\n",
      "T: 294711\n",
      "C: 263573\n",
      "G: 256024\n"
     ]
    }
   ],
   "source": [
    "file_path = r'C:\\Users\\ryanr\\OneDrive\\Desktop\\Coursera\\Bioinformatics UCSD\\Vibrio_cholerae_genome_seq.txt'\n",
    "\n",
    "with open(file_path, 'r') as genome:\n",
    "    gen_seq = genome.readlines()\n",
    "\n",
    "print(\"A: \" + str(gen_seq[0].count('A')))\n",
    "print(\"T: \" + str(gen_seq[0].count('T')))\n",
    "print(\"C: \" + str(gen_seq[0].count('C')))\n",
    "print(\"G: \" + str(gen_seq[0].count('G')))"
   ]
  },
  {
   "cell_type": "markdown",
   "id": "120f5edc-6c82-4903-835b-c6a98a27ab5d",
   "metadata": {},
   "source": [
    "### Counting pattern occurrences in a sequence:"
   ]
  },
  {
   "cell_type": "code",
   "execution_count": null,
   "id": "6f0a1c9c-a46f-444a-870f-a8295ea52122",
   "metadata": {},
   "outputs": [],
   "source": [
    "# Pseudocode\n",
    "Seq = GACCATACTG\n",
    "Pattern = ATA\n",
    "\n",
    "PatternCount(seq, pattern)\n",
    "    count ← 0\n",
    "    for i ← 0 to |seq| − |pattern|\n",
    "        if seq(i, |pattern|) = pattern\n",
    "            count ← count + 1\n",
    "    return count"
   ]
  },
  {
   "cell_type": "markdown",
   "id": "c348d419-7c64-4626-8540-fe14e47bb6d3",
   "metadata": {},
   "source": [
    "### **Answer:**"
   ]
  },
  {
   "cell_type": "code",
   "execution_count": 21,
   "id": "9deddec9-0dc9-4cae-80ce-b64eedd658e0",
   "metadata": {
    "tags": []
   },
   "outputs": [
    {
     "name": "stdout",
     "output_type": "stream",
     "text": [
      "Seq: TAGAGATTATCCAATTATCCACCGTTATCCAATTTATCCACATTATCCATTTATCCAGTTATCCACTTATCCAGTTATCCATTGATTATCCATTATCCAGTCTTATCCATTTATCCATTATCCATTATCCATTATCCATTATCCATTATCCATTATCCAATTTATCCATTATCCAGGAACACCGGCAATGCCAGTTATCCAGATTATCCATTATCCATTATCCAACCGATTATCCAGCTTATCCACTGCCGTACATGATTATCCATTATCCAAATACAGTTATCCATAATTATCCAGGGTATTTATCCATTATCCAACTTATCCATTTATCCATTATCCATATTATCCAGGCACGCGTTATCCAGAGTGACTTGTTATCCATTTTATCCACATTATCCACAATAGTATTTATCCATTATCCAAAGCGCGTTATCCAAGTTATCCATTATCCATTATCCACCAACATTATCCAGATTATCCATGTGTTATCCAGTTATCCAGAGTTATCCAACACTTATCCACTTATCCATTTATCCATTATCCACCCATTATCCATTATCCACTGTCCTTATCCATGTTATCCACATTATCCATTTATCCATTATCCAGCTTTATCCACATCTTTATCCATTATCCAGACCATTATCCATGCTTATCCAAGGATCTTATCCACGAAGTTATCCATATACATTCAACGTTATCCACATAATTTATCCATTATCCATTATCCAACTTATCCAGTTATCCACTTATCCAGGCTTATCCAACCTTTATCCATTATCCAAGTCTTATCCATACTTATCCATTATCCACTTATCCATATTATCCACCCGTTATCCACGGTTATCCAGTTATCCACTTATCCAATTATCCATTATCCATTTATCCATTCTTTTATCCACTTTATCCACATGAGTATTTTATCCACGTTATCCAAGTTATCCATTTTATCCATTATCCATTATCCATTATCCACTCTTATCCACCGATTATCCAATTTATCCA\n",
      "Pattern: TTATCCATT\n"
     ]
    }
   ],
   "source": [
    "file_path = r'C:\\Users\\ryanr\\OneDrive\\Desktop\\Coursera\\Bioinformatics UCSD\\dataset_30272_6.txt'\n",
    "with open(file_path, 'r') as file:\n",
    "    # Read the first line and assign it to the variable 'Seq'\n",
    "    Seq = file.readline().strip()\n",
    "    # Read the second line and assign it to the variable 'pattern'\n",
    "    Pattern = file.readline().strip()\n",
    "    \n",
    "print(\"Seq:\", Seq)\n",
    "print(\"Pattern:\", Pattern)"
   ]
  },
  {
   "cell_type": "code",
   "execution_count": 7,
   "id": "7f5d3245-211e-4bbf-93a2-e46dac75b193",
   "metadata": {
    "tags": []
   },
   "outputs": [
    {
     "name": "stdout",
     "output_type": "stream",
     "text": [
      "Occurrences of 'TTATCCATT' in Vibrio cholerae: 38\n"
     ]
    }
   ],
   "source": [
    "def PatternCount(seq, pattern):\n",
    "    # List comprehension\n",
    "    return sum([1 for nuc in range(len(seq) - len(pattern)) if seq[nuc:nuc + len(pattern)] == pattern])\n",
    "\n",
    "\n",
    "occurrences = PatternCount(Seq, Pattern)\n",
    "print(\"Occurrences of 'TTATCCATT' in Vibrio cholerae:\", occurrences)"
   ]
  },
  {
   "cell_type": "markdown",
   "id": "0b6478ba-e8df-40fe-a092-97af4d44bda3",
   "metadata": {},
   "source": [
    "### Counting the most frequent pattern occurrences (k-mers of length 2, 3, etc.) in a sequence:"
   ]
  },
  {
   "cell_type": "code",
   "execution_count": null,
   "id": "73bd256d-f4a9-455b-84dd-262f110af885",
   "metadata": {},
   "outputs": [],
   "source": [
    "#Pseudocode\n",
    "FrequentWords(Seq, k)\n",
    "    FrequentPatterns ← an empty set\n",
    "    for i ← 0 to |Seq| − k\n",
    "        Pattern ← the k-mer Seq(i, k)\n",
    "        Count(i) ← PatternCount(Seq, Pattern)\n",
    "    maxCount ← maximum value in array Count\n",
    "    for i ← 0 to |Seq| − k\n",
    "        if Count(i) = maxCount\n",
    "            add Seq(i, k) to FrequentPatterns\n",
    "    remove duplicates from FrequentPatterns\n",
    "    return FrequentPatterns"
   ]
  },
  {
   "cell_type": "code",
   "execution_count": null,
   "id": "2fd185a3-346d-4f85-bf8b-611fc9b80993",
   "metadata": {},
   "outputs": [],
   "source": [
    "#Pseudocode\n",
    "# Takes a string 'Seq' and an integer 'k' (k-mer length) as input and returns their\n",
    "# frequency table as a map of string keys to integer values\n",
    "FrequencyTable(Seq, k)\n",
    "    freqMap ← empty map\n",
    "    n ← |Seq|\n",
    "    for i ← 0 to n − k\n",
    "        Pattern ← Seq(i, k)\n",
    "        if freqMap[Pattern] doesn't exist\n",
    "            freqMap[Pattern]← 1\n",
    "        else\n",
    "           freqMap[pattern] ← freqMap[pattern] + 1 \n",
    "    return freqMap\n",
    "Example of freqMap output:\n",
    "[ ACT | GCA | TCC | ... ]\n",
    "[  0  |  3  |  1  | ... ]"
   ]
  },
  {
   "cell_type": "code",
   "execution_count": null,
   "id": "0463e4bc-1a1d-4575-83bf-446c243d4c34",
   "metadata": {},
   "outputs": [],
   "source": [
    "# More efficient way of finding most frequent pattern occurances\n",
    "# Pseudocode\n",
    "# function MaxMap takes a map of strings to integers as input and returns the max value of this map as output\n",
    "BetterFrequentWords(Seq, k)\n",
    "    FrequentPatterns ← an array of strings of length 0\n",
    "    freqMap ← FrequencyTable(Seq, k)\n",
    "    max ← MaxMap(freqMap)\n",
    "    for all strings Pattern in freqMap\n",
    "        if freqMap[pattern] = max\n",
    "            append Pattern to frequentPatterns\n",
    "    return frequentPatterns"
   ]
  },
  {
   "cell_type": "markdown",
   "id": "688ff7e0-e67c-4531-98a9-db2b88c09caa",
   "metadata": {},
   "source": [
    "### **Answer:**"
   ]
  },
  {
   "cell_type": "code",
   "execution_count": 22,
   "id": "c91df483-191e-420a-82f7-c23995eb6afb",
   "metadata": {
    "tags": []
   },
   "outputs": [
    {
     "name": "stdout",
     "output_type": "stream",
     "text": [
      "Frequency Table: {'ATTTGGCATTTGGC': 8, 'TTTGGCATTTGGCA': 4, 'TTGGCATTTGGCAT': 4, 'TGGCATTTGGCATT': 4, 'GGCATTTGGCATTT': 4, 'GCATTTGGCATTTG': 4, 'CATTTGGCATTTGG': 4, 'TTTGGCATTTGGCT': 3, 'TTGGCATTTGGCTA': 2, 'TGGCATTTGGCTAC': 2, 'GGCATTTGGCTACG': 2, 'GCATTTGGCTACGT': 2, 'CATTTGGCTACGTT': 2, 'ATTTGGCTACGTTT': 9, 'TTTGGCTACGTTTT': 9, 'TTGGCTACGTTTTT': 5, 'TGGCTACGTTTTTT': 2, 'GGCTACGTTTTTTT': 2, 'GCTACGTTTTTTTG': 2, 'CTACGTTTTTTTGA': 2, 'TACGTTTTTTTGAC': 5, 'ACGTTTTTTTGACA': 5, 'CGTTTTTTTGACAA': 5, 'GTTTTTTTGACAAA': 5, 'TTTTTTTGACAAAA': 2, 'TTTTTTGACAAAAT': 2, 'TTTTTGACAAAATT': 2, 'TTTTGACAAAATTT': 3, 'TTTGACAAAATTTG': 4, 'TTGACAAAATTTGG': 4, 'TGACAAAATTTGGC': 4, 'GACAAAATTTGGCG': 2, 'ACAAAATTTGGCGG': 2, 'CAAAATTTGGCGGA': 2, 'AAAATTTGGCGGAT': 2, 'AAATTTGGCGGATA': 2, 'AATTTGGCGGATAG': 2, 'ATTTGGCGGATAGT': 3, 'TTTGGCGGATAGTT': 2, 'TTGGCGGATAGTTT': 2, 'TGGCGGATAGTTTT': 2, 'GGCGGATAGTTTTG': 2, 'GCGGATAGTTTTGA': 2, 'CGGATAGTTTTGAC': 2, 'GGATAGTTTTGACA': 4, 'GATAGTTTTGACAA': 4, 'ATAGTTTTGACAAA': 4, 'TAGTTTTGACAAAA': 2, 'AGTTTTGACAAAAT': 2, 'GTTTTGACAAAATT': 2, 'GACAAAATTTGGCT': 2, 'ACAAAATTTGGCTA': 2, 'CAAAATTTGGCTAC': 2, 'AAAATTTGGCTACG': 2, 'AAATTTGGCTACGT': 2, 'AATTTGGCTACGTT': 3, 'TTGGCTACGTTTTG': 5, 'TGGCTACGTTTTGG': 5, 'GGCTACGTTTTGGA': 5, 'GCTACGTTTTGGAT': 5, 'CTACGTTTTGGATA': 5, 'TACGTTTTGGATAG': 11, 'ACGTTTTGGATAGT': 11, 'CGTTTTGGATAGTG': 5, 'GTTTTGGATAGTGG': 5, 'TTTTGGATAGTGGA': 5, 'TTTGGATAGTGGAT': 5, 'TTGGATAGTGGATA': 5, 'TGGATAGTGGATAG': 5, 'GGATAGTGGATAGT': 6, 'GATAGTGGATAGTT': 2, 'ATAGTGGATAGTTA': 2, 'TAGTGGATAGTTAC': 2, 'AGTGGATAGTTACG': 2, 'GTGGATAGTTACGT': 2, 'TGGATAGTTACGTT': 2, 'GGATAGTTACGTTT': 4, 'GATAGTTACGTTTT': 4, 'ATAGTTACGTTTTA': 3, 'TAGTTACGTTTTAT': 3, 'AGTTACGTTTTATT': 3, 'GTTACGTTTTATTT': 3, 'TTACGTTTTATTTG': 3, 'TACGTTTTATTTGG': 5, 'ACGTTTTATTTGGC': 5, 'CGTTTTATTTGGCT': 4, 'GTTTTATTTGGCTT': 3, 'TTTTATTTGGCTTT': 3, 'TTTATTTGGCTTTG': 3, 'TTATTTGGCTTTGA': 3, 'TATTTGGCTTTGAC': 4, 'ATTTGGCTTTGACA': 6, 'TTTGGCTTTGACAA': 6, 'TTGGCTTTGACAAA': 6, 'TGGCTTTGACAAAG': 2, 'GGCTTTGACAAAGG': 2, 'GCTTTGACAAAGGA': 2, 'CTTTGACAAAGGAT': 2, 'TTTGACAAAGGATA': 5, 'TTGACAAAGGATAG': 5, 'TGACAAAGGATAGT': 5, 'GACAAAGGATAGTA': 3, 'ACAAAGGATAGTAT': 3, 'CAAAGGATAGTATT': 3, 'AAAGGATAGTATTT': 3, 'AAGGATAGTATTTG': 3, 'AGGATAGTATTTGG': 3, 'GGATAGTATTTGGC': 10, 'GATAGTATTTGGCT': 6, 'ATAGTATTTGGCTA': 5, 'TAGTATTTGGCTAC': 5, 'AGTATTTGGCTACG': 5, 'GTATTTGGCTACGT': 5, 'TATTTGGCTACGTT': 6, 'CGTTTTGGATAGTA': 3, 'GTTTTGGATAGTAT': 3, 'TTTTGGATAGTATT': 3, 'TTTGGATAGTATTT': 3, 'TTGGATAGTATTTG': 3, 'TGGATAGTATTTGG': 7, 'GATAGTATTTGGCA': 3, 'ATAGTATTTGGCAT': 3, 'TAGTATTTGGCATT': 3, 'AGTATTTGGCATTT': 3, 'GTATTTGGCATTTG': 3, 'TATTTGGCATTTGG': 3, 'TTGGCATTTGGCTT': 2, 'TGGCATTTGGCTTT': 2, 'GGCATTTGGCTTTG': 2, 'GCATTTGGCTTTGA': 2, 'CATTTGGCTTTGAC': 2, 'TGGCTTTGACAAAT': 4, 'GGCTTTGACAAATT': 3, 'GCTTTGACAAATTT': 3, 'CTTTGACAAATTTG': 3, 'TTTGACAAATTTGA': 5, 'TTGACAAATTTGAC': 5, 'TGACAAATTTGACA': 5, 'GACAAATTTGACAA': 5, 'ACAAATTTGACAAA': 5, 'CAAATTTGACAAAT': 4, 'AAATTTGACAAATA': 4, 'AATTTGACAAATAC': 4, 'ATTTGACAAATACG': 5, 'TTTGACAAATACGT': 8, 'TTGACAAATACGTT': 8, 'TGACAAATACGTTT': 8, 'GACAAATACGTTTT': 8, 'ACAAATACGTTTTA': 3, 'CAAATACGTTTTAT': 3, 'AAATACGTTTTATT': 3, 'AATACGTTTTATTT': 3, 'ATACGTTTTATTTG': 3, 'GTTTTATTTGGCTA': 2, 'TTTTATTTGGCTAC': 2, 'TTTATTTGGCTACG': 2, 'TTATTTGGCTACGT': 2, 'TGGCTACGTTTTTA': 4, 'GGCTACGTTTTTAC': 4, 'GCTACGTTTTTACG': 4, 'CTACGTTTTTACGT': 4, 'TACGTTTTTACGTT': 9, 'ACGTTTTTACGTTT': 9, 'CGTTTTTACGTTTT': 9, 'GTTTTTACGTTTTG': 5, 'TTTTTACGTTTTGG': 5, 'TTTTACGTTTTGGA': 5, 'TTTACGTTTTGGAT': 5, 'TTACGTTTTGGATA': 5, 'GATAGTGGATAGTA': 5, 'ATAGTGGATAGTAT': 5, 'TAGTGGATAGTATT': 5, 'AGTGGATAGTATTT': 5, 'GTGGATAGTATTTG': 5, 'ATAGTATTTGGCTT': 2, 'TAGTATTTGGCTTT': 2, 'AGTATTTGGCTTTG': 2, 'GTATTTGGCTTTGA': 2, 'GGCTTTGACAAATA': 2, 'GCTTTGACAAATAC': 2, 'CTTTGACAAATACG': 2, 'ACAAATACGTTTTG': 2, 'CAAATACGTTTTGG': 2, 'AAATACGTTTTGGA': 2, 'AATACGTTTTGGAT': 2, 'ATACGTTTTGGATA': 3, 'CGTTTTGGATAGTC': 3, 'GTTTTGGATAGTCT': 3, 'TTTTGGATAGTCTA': 3, 'TTTGGATAGTCTAG': 3, 'TTGGATAGTCTAGG': 3, 'TGGATAGTCTAGGG': 3, 'GGATAGTCTAGGGC': 5, 'GATAGTCTAGGGCC': 5, 'ATAGTCTAGGGCCA': 5, 'TAGTCTAGGGCCAG': 2, 'AGTCTAGGGCCAGG': 2, 'GTCTAGGGCCAGGA': 2, 'TCTAGGGCCAGGAT': 2, 'CTAGGGCCAGGATA': 4, 'TAGGGCCAGGATAG': 4, 'AGGGCCAGGATAGT': 4, 'GGGCCAGGATAGTC': 3, 'GGCCAGGATAGTCT': 3, 'GCCAGGATAGTCTA': 3, 'CCAGGATAGTCTAG': 3, 'CAGGATAGTCTAGG': 3, 'AGGATAGTCTAGGG': 3, 'TAGTCTAGGGCCAT': 3, 'AGTCTAGGGCCATT': 2, 'GTCTAGGGCCATTT': 2, 'TCTAGGGCCATTTG': 2, 'CTAGGGCCATTTGA': 3, 'TAGGGCCATTTGAC': 3, 'AGGGCCATTTGACA': 3, 'GGGCCATTTGACAA': 3, 'GGCCATTTGACAAA': 3, 'GCCATTTGACAAAT': 3, 'CCATTTGACAAATA': 2, 'CATTTGACAAATAC': 2, 'ACAAATACGTTTTC': 2, 'CAAATACGTTTTCT': 2, 'AAATACGTTTTCTA': 2, 'AATACGTTTTCTAG': 2, 'ATACGTTTTCTAGG': 2, 'TACGTTTTCTAGGG': 3, 'ACGTTTTCTAGGGC': 3, 'CGTTTTCTAGGGCC': 3, 'GTTTTCTAGGGCCA': 3, 'TTTTCTAGGGCCAA': 2, 'TTTCTAGGGCCAAT': 2, 'TTCTAGGGCCAATT': 2, 'TCTAGGGCCAATTT': 2, 'CTAGGGCCAATTTG': 4, 'TAGGGCCAATTTGG': 4, 'AGGGCCAATTTGGC': 4, 'GGGCCAATTTGGCT': 3, 'GGCCAATTTGGCTA': 2, 'GCCAATTTGGCTAC': 2, 'CCAATTTGGCTACG': 2, 'CAATTTGGCTACGT': 2, 'GATAGTATTTGGCC': 3, 'ATAGTATTTGGCCT': 3, 'TAGTATTTGGCCTA': 3, 'AGTATTTGGCCTAG': 3, 'GTATTTGGCCTAGG': 3, 'TATTTGGCCTAGGG': 4, 'ATTTGGCCTAGGGC': 6, 'TTTGGCCTAGGGCC': 6, 'TTGGCCTAGGGCCA': 6, 'TGGCCTAGGGCCAA': 3, 'GGCCTAGGGCCAAT': 3, 'GCCTAGGGCCAATT': 3, 'CCTAGGGCCAATTT': 3, 'GGGCCAATTTGGCA': 2, 'GGCCAATTTGGCAT': 2, 'GCCAATTTGGCATT': 2, 'CCAATTTGGCATTT': 2, 'CAATTTGGCATTTG': 2, 'AATTTGGCATTTGG': 2, 'TTTGGCATTTGGCC': 2, 'TTGGCATTTGGCCT': 2, 'TGGCATTTGGCCTA': 2, 'GGCATTTGGCCTAG': 2, 'GCATTTGGCCTAGG': 2, 'CATTTGGCCTAGGG': 2, 'TGGCCTAGGGCCAT': 3, 'GGCCTAGGGCCATA': 2, 'GCCTAGGGCCATAC': 2, 'CCTAGGGCCATACG': 2, 'CTAGGGCCATACGT': 3, 'TAGGGCCATACGTT': 3, 'AGGGCCATACGTTT': 3, 'GGGCCATACGTTTT': 3, 'GGCCATACGTTTTT': 2, 'GCCATACGTTTTTA': 2, 'CCATACGTTTTTAC': 2, 'CATACGTTTTTACG': 2, 'ATACGTTTTTACGT': 3, 'CGTTTTGGATAGTT': 3, 'GTTTTGGATAGTTT': 3, 'TTTTGGATAGTTTT': 3, 'TTTGGATAGTTTTG': 3, 'TTGGATAGTTTTGA': 3, 'TGGATAGTTTTGAC': 3, 'TAGTTTTGACAAAG': 2, 'AGTTTTGACAAAGG': 2, 'GTTTTGACAAAGGA': 2, 'TTTTGACAAAGGAT': 3, 'GACAAAGGATAGTT': 3, 'ACAAAGGATAGTTA': 3, 'CAAAGGATAGTTAC': 3, 'AAAGGATAGTTACG': 3, 'AAGGATAGTTACGT': 3, 'AGGATAGTTACGTT': 3, 'ATAGTTACGTTTTT': 2, 'TAGTTACGTTTTTA': 2, 'AGTTACGTTTTTAC': 2, 'GTTACGTTTTTACG': 2, 'TTACGTTTTTACGT': 4, 'TGGCCTAGGGCCAG': 2, 'GGCCTAGGGCCAGG': 2, 'GCCTAGGGCCAGGA': 2, 'CCTAGGGCCAGGAT': 2, 'AGTCTAGGGCCATA': 2, 'GTCTAGGGCCATAC': 2, 'TCTAGGGCCATACG': 2, 'GGCCATACGTTTTG': 2, 'GCCATACGTTTTGG': 2, 'CCATACGTTTTGGA': 2, 'CATACGTTTTGGAT': 2, 'TTTGGCATTTGGCG': 2, 'TTGGCATTTGGCGG': 2, 'TGGCATTTGGCGGA': 2, 'GGCATTTGGCGGAT': 2, 'GCATTTGGCGGATA': 2, 'CATTTGGCGGATAG': 2, 'TTTGGCGGATAGTA': 2, 'TTGGCGGATAGTAT': 2, 'TGGCGGATAGTATT': 2, 'GGCGGATAGTATTT': 2, 'GCGGATAGTATTTG': 2, 'CGGATAGTATTTGG': 2, 'GTTTTTACGTTTTT': 4, 'TTTTTACGTTTTTT': 2, 'TTTTACGTTTTTTT': 2, 'TTTACGTTTTTTTG': 2, 'TTACGTTTTTTTGA': 2, 'TTTTTTTGACAAAT': 3, 'TTTTTTGACAAATA': 2, 'TTTTTGACAAATAC': 2, 'TTTTGACAAATACG': 3, 'ACAAATACGTTTTT': 4, 'CAAATACGTTTTTA': 2, 'AAATACGTTTTTAC': 2, 'AATACGTTTTTACG': 2, 'GTTTTTACGTTTTC': 2, 'TTTTTACGTTTTCT': 2, 'TTTTACGTTTTCTA': 2, 'TTTACGTTTTCTAG': 2, 'TTACGTTTTCTAGG': 2, 'TTTTCTAGGGCCAC': 2, 'TTTCTAGGGCCACT': 2, 'TTCTAGGGCCACTA': 2, 'TCTAGGGCCACTAG': 2, 'CTAGGGCCACTAGG': 4, 'TAGGGCCACTAGGG': 4, 'AGGGCCACTAGGGC': 4, 'GGGCCACTAGGGCC': 4, 'GGCCACTAGGGCCA': 4, 'GCCACTAGGGCCAC': 3, 'CCACTAGGGCCACT': 3, 'CACTAGGGCCACTA': 3, 'ACTAGGGCCACTAG': 3, 'GCCACTAGGGCCAG': 2, 'CCACTAGGGCCAGG': 2, 'CACTAGGGCCAGGA': 2, 'ACTAGGGCCAGGAT': 2, 'GGGCCAGGATAGTG': 2, 'GGCCAGGATAGTGG': 2, 'GCCAGGATAGTGGA': 2, 'CCAGGATAGTGGAT': 2, 'CAGGATAGTGGATA': 2, 'AGGATAGTGGATAG': 2, 'TAGTTTTGACAAAT': 2, 'AGTTTTGACAAATA': 2, 'GTTTTGACAAATAC': 2, 'CAAATACGTTTTTT': 3, 'AAATACGTTTTTTT': 3, 'AATACGTTTTTTTG': 3, 'ATACGTTTTTTTGA': 3, 'TTTTTTGACAAATT': 2, 'TTTTTGACAAATTT': 2, 'TTTTGACAAATTTG': 2, 'TTTTTTTGACAAAG': 2, 'TTTTTTGACAAAGG': 2, 'TTTTTGACAAAGGA': 2, 'CGTTTTATTTGGCC': 2, 'GTTTTATTTGGCCT': 2, 'TTTTATTTGGCCTA': 2, 'TTTATTTGGCCTAG': 2, 'TTATTTGGCCTAGG': 2, 'GGCCAATTTGGCTT': 2, 'GCCAATTTGGCTTT': 2, 'CCAATTTGGCTTTG': 2, 'CAATTTGGCTTTGA': 2, 'AATTTGGCTTTGAC': 2, 'TGGCTTTGACAAAA': 2, 'GGCTTTGACAAAAT': 2, 'GCTTTGACAAAATT': 2, 'CTTTGACAAAATTT': 2, 'GACAAAATTTGGCC': 2, 'ACAAAATTTGGCCT': 2, 'CAAAATTTGGCCTA': 2, 'AAAATTTGGCCTAG': 2, 'AAATTTGGCCTAGG': 2, 'AATTTGGCCTAGGG': 2, 'GGCCTAGGGCCATT': 2, 'GCCTAGGGCCATTT': 2, 'CCTAGGGCCATTTG': 2, 'CCATTTGACAAATT': 2, 'CATTTGACAAATTT': 2, 'ATTTGACAAATTTG': 2, 'CAAATTTGACAAAG': 2, 'AAATTTGACAAAGG': 2, 'AATTTGACAAAGGA': 2, 'ATTTGACAAAGGAT': 2, 'TTTTTACGTTTTTA': 3, 'TTTTACGTTTTTAC': 3, 'TTTACGTTTTTACG': 3}\n",
      "Most Frequent Patterns: ['TACGTTTTGGATAG', 'ACGTTTTGGATAGT']\n"
     ]
    }
   ],
   "source": [
    "# Create a frequency table of k-mer pattern occurrences as a dictionary\n",
    "def FrequencyTable(seq, k):\n",
    "    freqMap = {}\n",
    "    n = len(seq)\n",
    "    # For the whole sequence - k\n",
    "    for i in range(n - int(k) + 1):\n",
    "        # Scanning window of letters (of length k)\n",
    "        pattern = seq[i:i + int(k)]\n",
    "        # For each new k-length segment, it sets its value to 1 in dictionary\n",
    "        if pattern not in freqMap:\n",
    "            freqMap[pattern] = 1\n",
    "        # If k-length segment is already in dictionary, it increments its value (initially 1)\n",
    "        freqMap[pattern] += 1\n",
    "    return freqMap\n",
    "\n",
    "# Retrieve the most frequent patterns in frequency table\n",
    "def BetterFrequentWords(seq, k):\n",
    "    FrequentPatterns = []\n",
    "    # Create freqMap dictionary from FrequencyTable() function\n",
    "    freqMap = FrequencyTable(seq, int(k))\n",
    "    # Find the max number in dictionary values\n",
    "    max_count = max(freqMap.values())\n",
    "    # For pattern (key), count (value) in dictionary\n",
    "    for pattern, count in freqMap.items():\n",
    "        if count == max_count:\n",
    "            # Append FrequentPatterns list with patterns (keys) that have max_count values\n",
    "            FrequentPatterns.append(pattern)\n",
    "    return FrequentPatterns\n",
    "\n",
    "\n",
    "\n",
    "file_path = r'C:\\Users\\ryanr\\OneDrive\\Desktop\\Coursera\\Bioinformatics UCSD\\dataset_30272_13.txt'\n",
    "with open(file_path, 'r') as file:\n",
    "    Seq = file.readline().strip()\n",
    "    K = file.readline().strip()\n",
    "\n",
    "# Get the frequency table\n",
    "frequency_table = FrequencyTable(Seq, K)\n",
    "print(\"Frequency Table:\", frequency_table)\n",
    "\n",
    "# Get the most frequent patterns\n",
    "most_frequent_patterns = BetterFrequentWords(Seq, K)\n",
    "print(\"Most Frequent Patterns:\", most_frequent_patterns)"
   ]
  },
  {
   "cell_type": "markdown",
   "id": "dd347f04-7317-4998-b438-716300e97e59",
   "metadata": {},
   "source": [
    "### Finding the compliment of a sequence and reversing it:"
   ]
  },
  {
   "cell_type": "code",
   "execution_count": 23,
   "id": "58120f00-de49-4b5e-86b4-74300fa36d08",
   "metadata": {
    "tags": []
   },
   "outputs": [
    {
     "name": "stdout",
     "output_type": "stream",
     "text": [
      "Original Sequence: ACCTCAGGTT...GATAACCTTC\n",
      "\n",
      "Reversed Complementary Sequence: GAAGGTTATC...AACCTGAGGT\n"
     ]
    }
   ],
   "source": [
    "# Obtaining the reverse compliment of a DNA sequence\n",
    "def rev_comp_seq(seq):\n",
    "    # Assign complimentary letters\n",
    "    comp_dict = {'A':'T', 'T':'A', 'C':'G', 'G':'C'}\n",
    "    # Replace each nucleotide with its complementary letter\n",
    "    comp_seq = ''.join(comp_dict[n] for n in seq)\n",
    "    # Reverse the entire string\n",
    "    rev_comp_seq = comp_seq[::-1]\n",
    "    return rev_comp_seq\n",
    "\n",
    "\n",
    "\n",
    "file_path = r'C:\\Users\\ryanr\\OneDrive\\Desktop\\Coursera\\Bioinformatics UCSD\\dataset_30273_2.txt'\n",
    "with open(file_path, 'r') as file:\n",
    "    Seq = file.readline().strip()\n",
    "\n",
    "rev_comp_seq = rev_comp_seq(Seq)\n",
    "print(\"Original Sequence: \", Seq[:10], \"...\", Seq[-10:], sep='')\n",
    "print(\"\\nReversed Complementary Sequence: \", rev_comp_seq[:10], \"...\", rev_comp_seq[-10:], sep='')"
   ]
  },
  {
   "cell_type": "markdown",
   "id": "6d4ffe78-eff5-461f-a8dd-9959415c9b1f",
   "metadata": {},
   "source": [
    "### Finding all locations/occurrences of a pattern within a sequence:"
   ]
  },
  {
   "cell_type": "code",
   "execution_count": 24,
   "id": "49266c49-3b6d-4bcc-8fd1-f3bc1dcb386c",
   "metadata": {
    "tags": []
   },
   "outputs": [
    {
     "name": "stdout",
     "output_type": "stream",
     "text": [
      "The pattern 'ATTATCAAT' occurs at indices:\n",
      "11 141 148 155 172 278 285 354 428 468 566 573 593 765 772 779 798 805 853 882 889 904 973 980 987 994 1074 1081 1088 1138 1171 1201 1208 1261 1347 1362 1386 1393 1421 1465 1481 1507 1607 1737 1744 1759 1766 1814 1824 1881 1964 1982 2017 2040 2142 2186 2193 2223 2230 2257 2285 2301 2325 2332 2359 2422 2429 2476 2483 2499 2537 2615 2634 2643 2650 2657 2664 2717 2724 2740 2747 2757 2788 2833 2881 2926 3008 3053 3060 3091 3106 3135 3151 3195 3233 3240 3277 3323 3330 3345 3352 3418 3456 3463 3577 3584 3591 3598 3660 3676 3731 3738 3798 3851 3858 3865 3983 4018 4198 4205 4212 4219 4259 4274 4322 4354 4382 4463 4487 4541 4556 4563 4659 4696 4738 4807 4833 4840 4857 4864 4919 4954 4961 4986 4993 5076 5091 5116 5136 5233 5302 5309 5364 5374 5405 5412 5428 5498 5518 5525 5567 5585 5602 5649 5716 5827 5950 6053 6117 6124 6133 6140 6147 6218 6271 6288 6295 6323 6330 6395 6462 6560 6567 6602 6627 6642 6659 6738 6745 6756 6786 6801 6820 6843 6850 6882 6982 7132 7176 7217 7243 7250 7257 7276 7292 7441 7516 7523 7530 7537 7586 7593 7636 7653 7660 7683 7690 7697 7720 7821 7848 7864 7882 7924 7940 7994 8014 8021 8051 8075 8095 8193 8224 8273 8298 8359 8453 8474 8490 8553 8600 8607 8634 8725 8737 8764\n"
     ]
    }
   ],
   "source": [
    "# Find locations of a k-mer pattern within a DNA sequence\n",
    "def find_pattern_occurrences(seq, pattern):\n",
    "    occurrences = []\n",
    "    k = len(pattern)\n",
    "    # For whole sequence - k\n",
    "    for i in range(len(seq) - k + 1):\n",
    "        # Checking for our pattern using a scanning window of size k \n",
    "        if seq[i:i + k] == pattern:\n",
    "            # If our pattern is found, append the index to occurences list\n",
    "            occurrences.append(i)\n",
    "    occurrences_nocommas = ' '.join(map(str, occurrences))\n",
    "    return occurrences_nocommas\n",
    "\n",
    "\n",
    "\n",
    "file_path = r'C:\\Users\\ryanr\\OneDrive\\Desktop\\Coursera\\Bioinformatics UCSD\\dataset_30273_5.txt'\n",
    "with open(file_path, 'r') as file:\n",
    "    Pattern = file.readline().strip()\n",
    "    Seq = file.readline().strip()\n",
    "\n",
    "result = find_pattern_occurrences(Seq, Pattern)\n",
    "print(f\"The pattern '{Pattern}' occurs at indices:\\n{result}\")"
   ]
  },
  {
   "cell_type": "markdown",
   "id": "6b824c37-2c3a-4a02-be48-17965c6b26cb",
   "metadata": {},
   "source": [
    "### Finding where 'CTTGATCAT' occurs in the *Vibrio cholerae* genome:"
   ]
  },
  {
   "cell_type": "code",
   "execution_count": 25,
   "id": "c70a97f9-5662-4c85-b37f-23ca7be79195",
   "metadata": {
    "tags": []
   },
   "outputs": [
    {
     "name": "stdout",
     "output_type": "stream",
     "text": [
      "The pattern 'CTTGATCAT' occurs at indices:\n",
      "60039 98409 129189 152283 152354 152411 163207 197028 200160 357976 376771 392723 532935 600085 622755 1065555\n"
     ]
    }
   ],
   "source": [
    "file_path = r'C:\\Users\\ryanr\\OneDrive\\Desktop\\Coursera\\Bioinformatics UCSD\\Vibrio_cholerae.txt'\n",
    "with open(file_path, 'r') as genome:\n",
    "    Seq = genome.readline().strip()\n",
    "    \n",
    "Pattern = 'CTTGATCAT'\n",
    "\n",
    "result = find_pattern_occurrences(Seq, Pattern)\n",
    "print(f\"The pattern '{Pattern}' occurs at indices:\\n{result}\")"
   ]
  },
  {
   "cell_type": "markdown",
   "id": "83219886-0de2-49ec-b708-e75e2fe4b021",
   "metadata": {},
   "source": [
    "### Find a k-mer pattern forming a 'clump' in a sequence:\n",
    " - ### *Clump(L, t)* denotes a pattern being found *t* times within *L* nucleotides\n",
    " - ### e.g. find all 5-mers occuring *t* = 4 times within an *L* = 50 nucleotide section"
   ]
  },
  {
   "cell_type": "code",
   "execution_count": null,
   "id": "00964e26-f3be-4d68-9a15-3a59d4a4e59d",
   "metadata": {},
   "outputs": [],
   "source": [
    "# Pseudocode\n",
    "# Uses previous dictionary method, FrequencyTable\n",
    "FindClumps(Seq, k, L, t)\n",
    "    Patterns ← an array of strings of length 0\n",
    "    n ← |Seq|\n",
    "    for every integer i between 0 and n − L\n",
    "        Window ← Seq(i, L)\n",
    "        freqMap ← FrequencyTable(Window, k)\n",
    "        for every key s in freqMap\n",
    "            if freqMap[s] ≥ t\n",
    "                append s to Patterns\n",
    "    remove duplicates from Patterns\n",
    "    return Patterns"
   ]
  },
  {
   "cell_type": "code",
   "execution_count": 26,
   "id": "49140495-576b-45d0-86f9-87d0dbceeb02",
   "metadata": {
    "tags": []
   },
   "outputs": [
    {
     "name": "stdout",
     "output_type": "stream",
     "text": [
      "10-mers occurring at least 4 times in 100-long segments: GAACCTGGGT AACCTGGGTT CCCCATTGCG CCCCCATTGC CTTGTTGGTG CGCGAGCGGT GCGAGCGGTG TACCTAAAGT TCCAGATACC GTCCAGATAC TGTTACTGCA ACACCCAAAC GCACGGGAGG CACGGGAGGC\n"
     ]
    }
   ],
   "source": [
    "def FindClumps(Seq, k, L, t):\n",
    "    Patterns = []\n",
    "    n = len(Seq)\n",
    "    for i in range(n - int(L) + 1):\n",
    "        # Scanning window of length L\n",
    "        Window = Seq[i:i + int(L)]\n",
    "        # Creating a FrequencyTable dictionary of k-mers within L-length windows of sequence\n",
    "        freqMap = FrequencyTable(Window, k)\n",
    "        # For each key (k-mer) in dictionary\n",
    "        for j in freqMap:\n",
    "            # If value of key is t or higher, add to Patterns list\n",
    "            if freqMap[j] >= int(t) and j not in Patterns:\n",
    "                Patterns.append(j)\n",
    "    Patterns_nocommas = ' '.join(map(str, Patterns))\n",
    "    return Patterns_nocommas\n",
    "\n",
    "\n",
    "\n",
    "file_path = r'C:\\Users\\ryanr\\OneDrive\\Desktop\\Coursera\\Bioinformatics UCSD\\dataset_30274_5.txt'\n",
    "with open(file_path, 'r') as file:\n",
    "    Seq = file.readline().strip()\n",
    "    k, L, t = file.readline().strip().split()\n",
    "\n",
    "result = FindClumps(Seq, k, L, t)\n",
    "print(f\"{k}-mers occurring at least {t} times in {L}-long segments: {result}\")"
   ]
  },
  {
   "cell_type": "markdown",
   "id": "093daf23-cbb3-460c-9f35-a9ba81e5aee1",
   "metadata": {},
   "source": [
    "### How many different 9-mers form (500,3)-clumps in the E. coli genome?"
   ]
  },
  {
   "cell_type": "code",
   "execution_count": 27,
   "id": "fbe9b4ed-bc5c-4346-b5ce-3a4f173b525a",
   "metadata": {
    "tags": []
   },
   "outputs": [
    {
     "name": "stdout",
     "output_type": "stream",
     "text": [
      "9-mers occurring in (500, 3)-Clumps in E-coli:\n",
      "['AAGCAGAAG', 'CCGGCAGTT', 'AAATGGCGA', 'GCTGGCAGT', 'AGGGGGTCG', 'ACTTGAACC', 'CTGCGCACG', 'CTCAGTTGG', 'GGTGATTAG', 'CGACGCTGG', 'CGCTGATTG', 'TCGGGGTCG', 'ACAATGCCT', 'TCAGTTGGT', 'GCGCTTTGC', 'TCTTTAAAT', 'GCGTTAGCG', 'AAGACGCGC', 'GCGCGTCTT', 'GTTGCCGGA', 'ATCTGTAGG', 'CTTTTAATC', 'TATCCGCCC', 'GTAGCTCGT', 'TCCCCCCGG', 'GTCAAAAGT', 'GGTCGTCGG', 'TGCATCCGG', 'CATCCCCCC', 'ACGGTTATG', 'GCCTTATCC', 'AACACCTGA', 'CCTACACCG', 'TACGGATGG', 'CGCAAGCGT', 'CCCGGTGTG', 'AGCACGACC', 'TAAGCCGCT', 'GGGAGGATT', 'TAAATATGG', 'CGTGCTTCT', 'CAACGGTGG', 'CGCTTTGCT', 'TATTGCCCG', 'AAGAGATGG', 'TGATGTTGC', 'CCAACTGGC', 'AAAAGCCCG', 'CCCCGTAGG', 'AGACGCACA', 'CGACTGCCG', 'TTTACGTAA', 'AGCCGCTTT', 'CGAGCTCTT', 'GAGTCTCGT', 'CCCGGTCGG', 'GCGGGAATT', 'ACGGTCTGT', 'TTACGTAAA', 'TGTTCATAT', 'GACTTGAAC', 'ACCGCTACT', 'TCGAACCTC', 'GGGGGATTG', 'CTTCCCCGC', 'CACCCCGTA', 'CTGCTGAAA', 'CCGTCATCA', 'CGAACCTCC', 'AGCGGGTTT', 'GGCGGATGC', 'GAGTACTCT', 'CCTGGCGCT', 'AGGGGGGGG', 'ACGACCTTG', 'TGGCTGTCG', 'TCGCCCTTC', 'CGCTTCACC', 'TGCCGACCT', 'GACAGTCAT', 'GTCGGCGGT', 'TCCAGACGA', 'TACGGAGGG', 'GGTCGGGGC', 'GCTGCGCGC', 'AACCCGCCG', 'TATGCCGCA', 'GATTTTGTA', 'AAAAAGCCG', 'GATACCCCA', 'GCGTTCACG', 'ACTCTATCC', 'GGATGCATC', 'TGATGCGCC', 'TTATGTTCC', 'CGCCCTTCG', 'TGTCCAACT', 'AAGCCGCCG', 'GGCGCTGGC', 'CTCCACCCC', 'CATCCTTCC', 'CGGCCCCCG', 'CCGACCTGT', 'AAAAGCGGC', 'GCCGAGTAC', 'GTACGAGCT', 'TCTACCAAT', 'TCCCGCTCC', 'AGCTGAGCT', 'AGCTGGATG', 'CTTGAACCC', 'GGCGTAAAC', 'GGGCTTCTC', 'ACAACCGGT', 'GGCTTCTCA', 'TATCAGCAG', 'TGCCTGCGG', 'TGAACTGGC', 'AAGCGTCGC', 'TGATTTTGT', 'CTGGCGCGG', 'ACCCCGTAG', 'TCAGGAGTT', 'CGGGTTTTT', 'GACTGCCGG', 'GTCCGTAAG', 'AAGAACAGC', 'GCAGTTGAC', 'GCCGGTTGC', 'CGCGCAAAG', 'GCTTCTCAT', 'AAAAAGCAG', 'CCGCTGGCG', 'GCAGAGAAG', 'AGCAGCCTG', 'TTAGCGTCG', 'GCTTGGCGA', 'CGTAGCCGA', 'TCTTATCAG', 'GAGGGGGTC', 'AGATGGGAG', 'TCCGACAAC', 'ACGACCCAC', 'TGGTGCATC', 'CAGCTGAGC', 'TCCCCGCTG', 'TTCGATCCC', 'ATCATGCCT', 'ATCCGGCCC', 'GCCGTCGAA', 'AATTGGTCG', 'CCGCGCAAA', 'TTGTAGGTC', 'CGGCAGTTG', 'CGTTAGCGT', 'TAAGACGCA', 'CTGGCTGGC', 'CCGAACCGT', 'CGGTGCCTT', 'ACTTTCGTA', 'AAGACGCGT', 'GCTGGGAGA', 'GTTATGTTC', 'TGCCGGATG', 'TGCGCACGA', 'TGGTAGAGC', 'TCGCGAGTT', 'GATTAGCTC', 'CGGATAAGG', 'CTGATGCGA', 'GCAAGCGTC', 'CGCCGCATC', 'CTCGGTTCG', 'ATGCGCAAG', 'GCGGCGGCG', 'TTTGGCAAC', 'CAGCAGCCG', 'CGGGGTGGA', 'AACGCGTCT', 'TTGCCGCCG', 'GCATCTGCG', 'TTATCATGC', 'CGAAGGTCG', 'AAGGCACTT', 'GGGTGCGGG', 'CGGGAATAG', 'GACCGCTCG', 'AACGCCTTA', 'ATAGCGTCG', 'AACGCTCTC', 'TAGGTCGGA', 'GTCTCGTTT', 'CGCTGGCGC', 'ATCAGCACC', 'GAGATGGGA', 'GCCGCTATT', 'CTAGCGCGT', 'CTTGGCGAT', 'ATGCCGCAT', 'AGATGGTGC', 'ACGACTGCC', 'TACGCCGCA', 'GACTCGCTT', 'GGTTACGCC', 'GTCGGTTCA', 'TTCACGACG', 'GGACAGTCA', 'GACGCGCAA', 'CCGTTGCCG', 'TGAGCTACG', 'GGTGGTGGG', 'GCCTTACCG', 'TTACTCAGC', 'AAGTGATGG', 'CTTCTTTAA', 'GCAAGCTGG', 'CCGTACTTT', 'CAAAATCGC', 'ATAAGGCGT', 'ATCCGCGCA', 'CGTCATCAC', 'AGGATTCGA', 'CCGCTCACT', 'CAAAGCCGC', 'ACTAACACC', 'TTTAAATAT', 'TCAAATCCG', 'CAGCAGGCC', 'AAATAATCT', 'TCGCCCTGC', 'GACCGATAA', 'TGCCAAGGT', 'TGATGAAAT', 'TGATAAGCG', 'GGAGTTTGG', 'GTCTACCAA', 'ATGCGGCGC', 'AGCGCGTCT', 'CGTTGCCGG', 'ATCCGGCAG', 'TTATGCCGC', 'GCACTTGTG', 'ACGCGCAAG', 'TCGAATCCT', 'AAGCCGCTA', 'GAACGCCTT', 'TCGGGTCGT', 'CGGCGCGAG', 'GCCCTGCGG', 'GTCGGGGTC', 'CACGCTGCC', 'CGGCACTGG', 'ACTATGGCA', 'GTCGTCGGT', 'ATGAAATGA', 'GTCGCATCA', 'CAGAATATT', 'CGGCAACGC', 'AGAGCACCT', 'TGGGCAGAA', 'ATCAATTGG', 'ACGGATGGC', 'AATAGCTCA', 'CCGGTTTAT', 'TTTACCGCT', 'ACTCAGCGC', 'TCCTTCCCC', 'GTTCGAATC', 'AAATCCGGC', 'GACGCTGTC', 'CGACTTATC', 'GCGGTTACG', 'CGGGAGGAT', 'TCCGGCAGT', 'CTTTCGTAC', 'CTGGCAGTT', 'GGTTTTTAC', 'GCTCGTCGG', 'GCCTGGTAG', 'GGGCAGCCC', 'GAACAGCAA', 'ATGAAATTT', 'CGGCAATCA', 'GTTCGCCAC', 'AATAGCCTG', 'CGTTAGCTC', 'ATTAGCTCA', 'TCATCCGGC', 'GCCTGATTT', 'AATCTGGCA', 'CTACGGGGT', 'AGCTCCGGC', 'CCGACCGCT', 'GGTGCGAGG', 'GCTGCTGGC', 'AGCTCAGTT', 'TTGAACCCC', 'TAAGAGATG', 'GTCCAACTG', 'GCGGGTTTT', 'TCACGGTCT', 'CCTGCACGA', 'TTACAAGGA', 'AAAGCGCGC', 'GGTCGATCC', 'GTGCCGCAT', 'CTGTAGGTC', 'ACCGGTTGC', 'AGCGCACCA', 'CTTCGGGTC', 'ATCTTTCTG', 'TACGAGCTC', 'GGGGCTTCT', 'AATGATGAA', 'CGCCGCGCC', 'ACAGCGCAA', 'TCGGATAAG', 'AGTCTCGTT', 'GGAAGGATT', 'CTGGAACAG', 'TAAGGCGTT', 'TATGGCACT', 'GTCGGGCTC', 'TATCAGGCC', 'AGCTGGGAG', 'CGAGCCGGT', 'TGCTGAAAC', 'GATGGTGGT', 'CGAAGCTTC', 'CGATCCGCG', 'GGGCTCATA', 'AACAGCAAC', 'TAACCCGAA', 'CCGCAACCA', 'GCGGTGAGG', 'CCGCTTTCT', 'ATTGCGGCA', 'CAGCAACAG', 'ATCAGGCCT', 'GGTCGTTAG', 'CCCGCAACC', 'AATCAATTG', 'CGGATGCAT', 'GCCTACAAC', 'TGGCGGATG', 'GGTTCGAAT', 'GCCGCTGAC', 'CGCTCGGTT', 'GGCAACGCT', 'AGAGCACGA', 'CCTGATAAG', 'AGCCTGGTA', 'GGCGCGGGG', 'CTGAAAGAA', 'CAACAGGCT', 'CGTGATCGT', 'TCGAACCTT', 'CATGCCGAC', 'GCCAAGGTC', 'TGAAACTGA', 'AAAATATTT', 'AATAATCTA', 'CTTACCGCT', 'GACAACCGA', 'GATAAGCCG', 'CTCCAAAAG', 'CGTTCTTTA', 'GCGCGTCTG', 'ATCAGGCAT', 'TCTGTAGGC', 'ATCCAGCTG', 'AAGCGCGCA', 'CCAGAAGAA', 'TTCTTTTGG', 'GAACCCCCA', 'CGGTCTGTC', 'TTACGCCGC', 'GATAAGATG', 'TCGGATGCG', 'TTGCCTGAT', 'CCTGCGGGC', 'GATAAGGCA', 'CCCGCTCAC', 'GCGTTTATG', 'CCAAGGTCG', 'GCCGGATAA', 'ACTGGCTGT', 'TAGCGCATC', 'AACCGTAGG', 'TATTGCGGC', 'AAGCGGGTT', 'CAGCGCTGC', 'CCTTGCCAA', 'TATAAAATA', 'GGGGGGACT', 'ATGGTGCAT', 'GCACGACCC', 'AAGCGTAGC', 'AAAAAAAAG', 'AAGTTGAAG', 'ACTCGCTTC', 'AGAGATGGT', 'GCTGGCGAT', 'GGTCGGCGG', 'CGATAAGCC', 'AACAGGTCG', 'ATCCTTCCC', 'AATGCCTGA', 'GTTGACTTT', 'CGGTTACGC', 'CAAGGTCGG', 'CAGCGTCGC', 'TCTCTCGCT', 'TCAGGCCTA', 'GGTCGCAGG', 'CTCGTCGGG', 'TGGCAACAG', 'GCGAAAGTG', 'CCCGTAGGT', 'GGTCTGTCC', 'GAAAGCGGC', 'CGTAGGCCG', 'CCCCGGTGT', 'TGGGTCAAA', 'GTTCGTAGC', 'GATAAGACG', 'ATGAAGCAA', 'ATGCGCCGC', 'GGTGCCTTA', 'ACCCGAAGG', 'GGCGCAGGC', 'CATCGGGAA', 'CGTCTTATC', 'ACGCTGTCG', 'TCTCATCCC', 'ATTCATCTT', 'GTACTTTCG', 'TTTCTGCCC', 'GGATAAGAT', 'GTGAGGGGG', 'GTTGCCTGA', 'GCGCAAAGC', 'ATTGGTCGC', 'GGCAGGAAG', 'CGCCCTACA', 'ATAAGGCGG', 'TCGTACGAG', 'GTCTTATCA', 'GAAGTGCTC', 'GGGGGAAGG', 'CAATGCCTG', 'GCAGGTTCG', 'ACATCCAAC', 'TCCTGCACG', 'GCGGATTCG', 'TCGATCCGC', 'GCTAGCGCG', 'CCGACATCC', 'CGTCGGTTC', 'AAAGCGGCT', 'GTCGCGTCT', 'AATTTGTAG', 'TATGGCGGT', 'CCACCTCTT', 'CTACCAATT', 'CTACCGCTA', 'TCCGGCCCC', 'GAATTTGTA', 'GAAAGAAGC', 'GACGCATAG', 'CCCGCTGGC', 'GCTTTGTTG', 'GCCTGCGCC', 'GCCGCCGTC', 'TAGCTCGTC', 'ATGCGACGC', 'CGGTGTGTG', 'GGCGCACAA', 'AGGCGTTCA', 'CGAGTCTCG', 'CGCTTAACG', 'CATCCTGCA', 'CTACATGTG', 'GCGACGCTG', 'GCTCCACCC', 'CGTACGAGC', 'AGTGATGGT', 'ACGCGGGGT', 'GTGGGGGAA', 'CGCCGTCGA', 'GTCGCAGGT', 'GCTTTCTTT', 'AATCCTGCA', 'GCCCTTCGG', 'TCCCGTCAT', 'AAATATGGC', 'GATCCGCGC', 'CCGGCAATC', 'AAGAAAGCG', 'TTGGCGCAC', 'CGGTTCGTA', 'ATATTGGTG', 'CTCATAACC', 'CGCTCACTG', 'TCGGGGCTT', 'ACAGGTCGA', 'TGCTGAAAA', 'GGTGAAACT', 'TCCAACTGG', 'CAGCTCCGG', 'CGGATAAGA', 'GTTCGATCC', 'GCTCAGTTG', 'AGCTAGCGC', 'GAAGGATTA', 'TAAGATGCG', 'CGCTATTGC', 'GCGCTGGCG', 'GCAGTCGGC', 'CTGGCGGCA', 'GTAGGCCGG', 'GGGGGGATT', 'TACGGGGTG', 'GCCGGATGC', 'AGTTAAATA', 'AGCGCAATA', 'AGCTGCAGC', 'CTGGCTGTC', 'TAGCTCAGT', 'GATGAAATG', 'TATCCCCGC', 'GTGCATCCG', 'CGCTGGTGG', 'TGAAGTGCT', 'GCGGACTGA', 'ACTTGTGCC', 'GTGCCGAAC', 'GGCAGTTGG', 'CGCTGTCGC', 'GGCCGGATA', 'ATCGCAGCG', 'GTCGGCACC', 'CAGTCATTC', 'ACTGACCGA', 'GCGGGCAGC', 'TGCCGAACC', 'AGCGCGCAA', 'GTGAACGCC', 'CGTGGACAG', 'TTAACGCGT', 'AAGGCGTTC', 'CCCTGCGGG', 'CAGCGCAAT', 'TTCGAACCT', 'CGTCGCATC', 'TGAACGCCT', 'TGCGCGCTT', 'TTAAATAAT', 'GCGACGCTT', 'GCTCTTCTT', 'CCGCTACTA', 'TCGTCGGGC', 'CAAGGAGGG', 'CAGCAGCAA', 'ATTTTGTAG', 'TTTGTAGGT', 'ACAACCGAT', 'GGGTCGTTG', 'GCAGCCGCA', 'GCGTCTACC', 'TACTAAAGC', 'GGCATCTGC', 'GCGCGTCTA', 'CGAAAAAAA', 'GGGGTCGGC', 'ATCGGGAAA', 'CTACACCGC', 'GAGCTACGG', 'ACATCTAAC', 'GAAGAAAGC', 'AGTTGGTAG', 'TGCTTCTTC', 'TTATCCGGC', 'GTAGGTCGG', 'TGCGCCTGT', 'TCCGACCTA', 'CCACGTCCG', 'GGTGCTACC', 'ATCCGGCAA', 'TGGAGTTTG', 'GGGAACTCG', 'CATTACGCG', 'TTCGGGTCG', 'GACGCGTTA', 'ACGCTTAAC', 'TTGAAAGTG', 'GTGAAGTGC', 'GCGCGGGGA', 'TTGCCGTTA', 'TGACCGATA', 'TGTCGCCAG', 'CGACCCACC', 'ACGATATTA', 'GCCGCATCC', 'TGATTTAGC', 'GCCAGCAGC', 'CGGTTTATC', 'GGATACGGG', 'TGGCGCGTC', 'AGGTTTTCC', 'TCAGCTGGG', 'TATCCGACC', 'GGCCTACGA', 'TGGCACTAT', 'GCAGCCCGC', 'AAAGCCCGT', 'GGTCGGGGT', 'GCCGCCGCC', 'GGGTCAAAA', 'CCGAGCCGG', 'CTCGCCCTG', 'AGTTGTCGA', 'CGCGCAAGC', 'CTGGCAGTC', 'CCCTACATG', 'TGCACTGAA', 'ACTTTTAAT', 'AAGTTGCCG', 'CCCCCGGTG', 'AGTTGGCGC', 'CGCTTCGCT', 'GACGCACAG', 'CATAACCCG', 'CGATGCCTG', 'GCTGTCGCC', 'AACAGGCTA', 'CGCAATAGC', 'AATCCGGCC', 'GGTAGCTCG', 'GCAGCCACA', 'GGTGGGGGA', 'GCTGTGAAG', 'TGTGCCGAA', 'TGCAGCTGA', 'CGGATACGG', 'GCCCGCTCA', 'TAGAGCAGT', 'GGGGAACAC', 'TAGAGCACG', 'CATAGCGTC', 'GCCTACACC', 'AGCGCCTTA', 'CGGCCTACG', 'CCGCTATTG', 'GTAGGCCTG', 'TTTCTTTTG', 'CCAGCTGAG', 'CCAGCAGGC', 'TTTGAAAGT', 'GGCACTGGA', 'TGTCGCGTC', 'TTGTAGGCC', 'TAGCGCGTC', 'AGGTCGGGG', 'GGTTCGTAG', 'AACCTCCGA', 'TAAGGCGGT', 'TCGTTAGCT', 'AGAAAAAGC', 'ACCCCCACG', 'GGCGATACC', 'GCCGACCTG', 'CGTTTATGC', 'GCCGCTTTC', 'GCACCGTTG', 'TGTGCCGCA', 'CGCCACCTT', 'TTTTGAAAG', 'CAGCCACAA', 'TGCTCCCTT', 'TATCCAGCG', 'CCGGATAAG', 'GCGCGAGCG', 'CGGCTGCCG', 'CCTACATGT', 'CGACGCTGT', 'TTGGCGATA', 'GGTGGAGCA', 'AGCAGAAGC', 'TCATCCTTC', 'TACCGCTAC', 'CCGTAGGTC', 'AAAAAAAGC', 'GAACTGGAA', 'AGGCATTTG', 'GCTACGGAT', 'TAGCTCAGC', 'TTTATCCCC', 'CATCAACGC', 'CGCCGCAGC', 'TATTGGTGA', 'TCTCATCCT', 'ACGGTGCTA', 'CTTATCCGG', 'GGGGGGGGA', 'GCTAATGCG', 'GAGTTCGAG', 'GGGCAGAAT', 'GTCGCCAGT', 'CTGCACGAC', 'CCGGACGGT', 'CTTTGCTTA', 'AGGGGGGGA', 'GGTTATGTT', 'CGGGTCGTT', 'TTATTGCGG', 'GCTGGCTGG', 'GCATCCGGG', 'CTGGCGCTG', 'GCGCTTCGC', 'TCGTTTCCC', 'CTACGCCAG', 'CCGACAACC', 'GGCCCCCGC', 'AGGCACTTG', 'TCTGTCCAA', 'CGCGTTAGC', 'AACTGGCTG', 'CGGGCTCAT', 'CACTTGTGC', 'TCATCCTGC', 'GCTCGCCCT', 'ACCTTGCCA', 'ATTCGAACC', 'CAGAAGCAG', 'TCGAACCCC', 'GATACGGGC', 'CTGGAGTTT', 'CTGATGCGC', 'GAGCTCTTC', 'TAAGCGTAG', 'GGTGGGTCA', 'CTTTTGAAA', 'CGACGCTTA', 'GGTCAAAAG', 'CGCTCGCCC', 'CGCCAGACA', 'CAAGCGTCG', 'TGGTCGCAG', 'TGCACCTTT', 'TGCTTATCC', 'CGACCTTGC', 'GCCTACGGA', 'GTCGGATAA', 'TTGGCAACA', 'ACGCGACTT', 'TAGGGCAGA', 'TGGCGATAC', 'TTCACGGTC', 'ACCCGCCGA', 'GGTTGCCTG', 'TCGAGTCTC', 'CCGCAGGCG', 'CTGGCGGCG', 'ACACTAACA', 'AACCGGTTG', 'ATCCGACAA', 'CCAGCAGCA', 'CTAATGCGG', 'CGTTCACGG', 'TGATGCGAC', 'CAGCCCGCT', 'CGTAAACGC', 'ACGCATAGC', 'GGGTCGCGA', 'CCGCTGTTC', 'AGAATCTGT', 'AAGCGGCTG', 'CGACAACCG', 'ACATCAACG', 'TCTCCGTTC', 'GTTGCCTGC', 'AAAAATGAT', 'TTTGTAGGC', 'CGGTCGGGG', 'GAGCGCCTT', 'GGGGAAGGA', 'TATGTTCCG', 'TTTGTGCTG', 'ATCTTCTTC', 'TTAGCTCAG', 'CAGCCGCAA', 'CTCGTTTCC', 'TGGAGCAGC', 'TTTTTACGT', 'GCTGCCGGA', 'GAACCTCCG', 'GACATCAAC', 'CTGCCAGCG', 'GCCAAAGCG', 'AATCAATGC', 'CGAGGGGGG', 'TCGAAGCTT', 'CCACCCCGT', 'GCTACCGCT', 'GCGGCGTAA', 'GGATTACTC', 'AAGCGGTTG', 'GGGGACTTG', 'GCTTCGCCC', 'AAGCTAGCG', 'CAGGTGAAA', 'GTAAACGCC', 'CGGGGAACT', 'TGGCGCGGG', 'TTATCAAAA', 'GCGACCAGC', 'CACTGTAGG', 'GTTTCCCGC', 'CCGGTCGGG', 'ACGACGCGG', 'CACGCCGCA', 'CTCAGCGCT', 'TCGGCGGTT', 'TGCGTATCG', 'GCCTACGGG', 'CTGCTCCCT', 'GCGTAAACG', 'AGCTCGTCG', 'GCTTTGCTT', 'AAAACCCGC', 'GCGCATCAG', 'AACCGATGC', 'TGATAAAAA', 'ATACAGCGA', 'ATCCGACAT', 'CGATCCCGT', 'TACGGATGC', 'GATAAGCGT', 'CGGCCTACA', 'CGAACCGTA', 'AATCGCAGC', 'CCCGTCATC', 'ATTCTGGTG', 'CCTCCGACC', 'ATGATGAAA', 'TTCACGCCG', 'CTGACCGAT', 'TTTAGCGTG', 'AGAGCAGTT', 'CATCACCCA', 'CTGCGTTCA', 'CACCAGCGC', 'CATGCCTAC', 'CTCTATCCA', 'CTCACTGCG', 'TTGCCGGAT', 'ATCCGGCCT', 'GGTGATGTT', 'GCAACGCTC', 'CGCTCCAAA', 'AGACGCGCA', 'GGGGAACTC', 'GAAAGTGAT', 'CGGCGTAAA', 'CGACATCAA', 'CGGCGGTTC', 'TCAATGCCT', 'CACGACCTT', 'CGATACCCC', 'TCATCCTGA', 'AGTACTCTA', 'CGGGGCTTC', 'AGCCCGCTC', 'ATAAAATAT', 'GCCAGCCAC', 'AGAATATTT', 'TACACCGCT', 'AGGCAGTCG', 'GATGCGACG', 'AAAGCAGAA', 'TTCATCTTT', 'CAGCGCACC', 'CACCTCCCT', 'ACGGATGCA', 'CCTACGGAG', 'GAAGGTCGT', 'TGGGAGAGC', 'CACTGCGTT', 'CCTCCCTTA', 'GATTGACTC', 'CTACTAAAG', 'AGGTTCGAA', 'CGGGGTCGC', 'GCGACTTAT', 'CCAGCTCTT', 'TCAGGCAAC', 'GGCGTTCAC', 'TTTGGGTAT', 'CGCACAGCG', 'AGCCGGTTG', 'ACCGCTGTG', 'TACGCGTCG', 'CCCGGACGG', 'TTTTGGGTA', 'GAATCCTGC', 'AGTTCGAGT', 'GGGTCGTTA', 'TAACGCGTC', 'CGCACGACT', 'TTCGTAGCC', 'CTGGCGGAT', 'CGGATGCGC', 'CCAAAGCGC', 'GATGCCTGA', 'ATACCCCAA', 'ATTATTGCG', 'CCTGATGCG', 'CCTACGGGG', 'CGGCGTGAA', 'GCACAGCGT', 'TGCACGACC', 'GGGGGACTT', 'GATGCGCCG', 'ATCCTGCAC', 'GCAACCAAT', 'ACCGTTGCC', 'TCATCACCC', 'GAACCGTAG', 'GCCGGTATC', 'CCCCCGCAA', 'CGCTGCGCG', 'CATTCTGAT', 'CCGGTTGCC', 'TCATCTTTC', 'GGGAGAGCA', 'GAATCTGTA', 'GAGATGGTG', 'GAAACTGAC', 'GCCCCTCCA', 'CTGACGCGA', 'CGAATCCTG', 'TCACGCCGC', 'GAAGCCGCT', 'TCCGCGCAA', 'TGGTAGCTC', 'TAGCCGAGT', 'TGAAAGAAG', 'GCGTGATTT', 'TGCGCCGCT', 'GAGCAGCCT', 'ATAATCTAC', 'TTCGAATCC', 'TCAGCGCCT', 'CCGCATCCG', 'GTTAGCGTC', 'GCAGTTGGC', 'AGACGCATT', 'TCTTATCAT', 'CCCCGGTCG', 'GACGCGGGG', 'TCGTCGGTT', 'TTTCCCGCT', 'TCGCATCAG', 'CTGAGCTAC', 'GAGAGCACC', 'GCAGAAAAA', 'CAAGCTGGA', 'TAAGACGCG', 'AGGTGAAAC', 'ACCTGTAGG', 'TCAGCAGCC', 'AAACTGGCA', 'CAGGTTCGA', 'CGCTCGGCA', 'ACCTGAAGC', 'TCAGGCATT', 'CCGCCCTAC', 'GACGCATTA', 'GTCGCATCC', 'CGGATGCGG', 'CTGGCGCGT', 'GTTACGCCG', 'CTTATCAGG', 'CCGATGCCT', 'GCAACAACC', 'GCGTCGCAT', 'CGAGTACTC', 'AACCCGAAG', 'AGGTCGGAT', 'TGCATAATC', 'GCTGATTGC', 'GAGGATTCG', 'TTCGCTCGC', 'CTGAAGCTA', 'GGAATGCCG', 'GCTATTGCC', 'GCCCGTACT', 'CTGGGGTAC', 'CTTCGCCCT', 'TTTCAATAT', 'GCGCTACGG', 'TCCGACCGC', 'CGCAAGCTG', 'CACCCACCA', 'ATATTTTTT', 'AAAAAAGCC', 'GAAGAGATC', 'TCAGGCATC', 'ATGCGCTTT', 'CCCCACGTC', 'GCTTATCCG', 'GCACCTCCC', 'GGCTAATGC', 'CCCGGTTTA', 'CTCCCTTAC', 'TGCGGGAAT', 'CGCGGGGAA', 'GCAGCCTGG', 'GTCTTCAAT', 'GATTACTCA', 'TCGGAAAGC', 'GGGGTCGCG', 'CGCCCTGCG', 'CGCTGACGC', 'TGCGAGGGG', 'GCGGGGTGG', 'ACATTATTG', 'CTACGGTTA', 'GAAGAACAG', 'TTGATACCG', 'CTGTAGGCC', 'AGCCGAGTA', 'GCGAGCGCC', 'AGCGCTGCG', 'GACCTGTAG', 'CGGGGAACA', 'CTACGGATG', 'AGGATTACT', 'TTGCCAAGG', 'GTTGGTAGA', 'GAATGCCGG', 'AAACTGACC', 'GAAAAAAAA', 'GACCTTGCC', 'GCGCCGCTG', 'CACCTGAAG', 'GCCAGCAGG', 'ACGCTCTTT', 'CACTAACAC', 'GCTCATAAC', 'CATCAGGCG', 'ATCACCCAC', 'ATCTAACGC', 'TATCATGCC', 'ATAGCTCAG', 'TCATCCCCC', 'GTGGTGGGG', 'GGGTGGAGC', 'AAAGTTGCC', 'GCGCTGGAA', 'GTTTATCCC', 'TGCGGCACT', 'CGCTGAAAG', 'ACGCTCTCT', 'CGCTACGGC', 'TGGTGGTGG', 'ACGCGTCGC', 'GGCAACGGC', 'TGGCGCACA', 'GGCGCGAGC', 'GATTGCCGA', 'GGTTAACAA', 'ACACCTGAA', 'GCTCACTGC', 'AGCCTGATT', 'AAATCGCAG', 'CTTCGCTCG', 'AGGCCTGAT', 'GTGCTCCAC', 'AGGCGTTTA', 'CGCACCAAA', 'GGCGGTGAG', 'AGAACAGGT', 'CAGGAGTTA', 'TAAATATTG', 'CTGTCGCCA', 'TGGCTGGGG', 'CCTGCGGCA', 'TTAAATGAT', 'CGCATCCGG', 'AGCACCTCC', 'TGGCGCTGC', 'TCGTTGCCT', 'TTATCAGGC', 'GCGTGAACG', 'TTCGAGTCT', 'AAGTGCTCC', 'TTGCGGATT', 'GCGGGGAAC', 'TGAACCCCC', 'TGATAAGAC', 'AAGACGCAC', 'CTAACACCT', 'GAACTGTAG', 'CAGTTGGTA', 'AGCAACAGG', 'GAAAAAGCC', 'GCATAGCGT', 'CGCAACAAC', 'TCACTGCGT', 'GTCTGTCCA', 'CTTATCATG', 'AAACGCCTT', 'GCTGCTGAA', 'CGACGCGGC', 'GACTTTTAA', 'GACTTATCA', 'GATGCGCAA', 'GGGGGTCGG', 'GGTCGTTGC', 'CGAGCGCCT', 'ACTGGAGTT', 'CGTCGGGCT', 'CTGATAAGA', 'GAGTTTGGC', 'CCGCTCCAA', 'AAGACGCAT', 'CGCATCAGG', 'TCGCCAGTT', 'CCCTTCGGG', 'TAAACGCCT', 'CGAGTTCGA', 'TCAGGCGTT', 'GGGGATTGA', 'GGAGGGTGC', 'GCTGAGCTA', 'GCATTACGC', 'GTCGTTAGC', 'TGATTAGCT', 'GAGCCGGTT', 'TCAGCGCTG', 'TCGCTTCGC', 'ACACCGCTG', 'TCGGCATCG', 'CGGATGGCG', 'GGCCTACGG', 'AAAGCGGCA', 'AGCAGTTGA', 'GCCCTACAT', 'TGCGACGCT', 'GTGATTTTG', 'AGTTGCCGT', 'GCGGCAACG', 'TGTAGGTCG', 'GGAGCAGCC', 'TCATTCATC', 'GCACTGGAG', 'CGGTTCAAA', 'ATTTAGCGT', 'AATATCAGC', 'GTCGAAGCC', 'GTGTGTGCA', 'GGCACTTGT', 'TACGCCAGA', 'GCCTACAAA', 'CGCAGGTTC', 'GCTTCGCTC', 'CAATCAATG', 'ATAAGCGTA', 'GCGAGTTCG', 'TCGTAGCCG', 'AATATTGGT', 'CTGCAGCTG', 'ACTGTAGGC', 'GAGCACCTC', 'GGACTTGAA', 'GGGAAGGAT', 'TGATCCAGT', 'CTGCGGGCA', 'CCCGAAGGT', 'CCCACCACT', 'CGCATTACG', 'ATGGCGGTG', 'GTCGTGGAC', 'ATCCCGTCA', 'GTGATCGTG', 'CCCACCAAT', 'CTCTCTCGC', 'CATCCAACG', 'CAACGGCTG', 'CACGACGTT', 'CGCTGTGAA', 'CAGTTGTCG', 'GCGCAATAG', 'GGGTTTTTA', 'TTTAATCAA', 'TACAAGGAG', 'TTGGTGCGA', 'CTGCGCGCT', 'AGCGGTTGA', 'TGCGGCGCG', 'AAGCCGCTT', 'GTGCTTCTT', 'CATTCATCT', 'ACTGCGTTC', 'TGCGCTTTG', 'ACGCCAGAC', 'CGGTGAGGG', 'GGTTCGATC', 'TATCCGGCC', 'TCGCGTCTT', 'TCATGCCTA', 'AGTCATTCA', 'ATCTATTCA', 'CATCCGACA', 'CGCTTGGCG', 'GGTAAAGTG', 'TCCACCCCG', 'AAGAACAGG', 'CATCTTTCT', 'CGCCGAAGC', 'GACGGTGCT', 'TCCGGCCTA', 'GCGGCGTGA', 'GAAGCTAGC', 'TGGTGCGAG', 'GGACGGTGC', 'TGGACAGTC', 'AGCGCATCA', 'TTATCCCCG', 'CTTGTGCCG', 'TGAACTGTA', 'TCTGCGCAC', 'CCGCCACCT', 'TCCGGGAGG', 'GTTTTTACG', 'GTCGATCCG', 'CCTTACAAG', 'TTGACTCGC', 'AAACCCGCC', 'CTTAACGCG', 'ACGAAAAAA', 'AATTCCGCC', 'AGGCAACGG', 'GATCAGCAC', 'GCATCCGGC', 'TATCCAGCT', 'GACGCGACT', 'ACGCTGGCG', 'GCAATCAAT', 'CGTCCGTAA', 'GCTGACGCG', 'CAATATCAG', 'GTCACCATT', 'CCGTAGGCC', 'CCCGCTCCA', 'AGTGCTCCA', 'ATCGTTTGA', 'CCGCTTGGC', 'AAATGGCGG', 'CACCGTTGC', 'AGCTCTTCT', 'GGGGTGGAG', 'CTTGCCAAG', 'TCTCGTTTC', 'GTTAAATAA', 'CGCTACTAA', 'TCTATCCAG', 'GCGAGGGGG', 'TGACTCGCT', 'ACCCACCAC', 'ACTAAAGCC', 'GTTGACGGC', 'CATCATCAT', 'ACGAGCTCT', 'CGACATCCA', 'AGATGCGCA', 'TATGGATTA', 'CGACGCTTG', 'AGCTCAGCT', 'GCACTATGG', 'AAGCCCGTA', 'CGCCTGATG', 'CGCGCTTCG', 'CACGGTCTG', 'GGAATTTGT', 'GTTCAAATC', 'AGACGCGTT', 'ACGCGTCTT', 'TGTGAAGTG', 'TTACCGCTT', 'CAGGCCTAC', 'CTCATCCCC', 'CGGTTCGAT', 'CGCTTCGCC', 'CTAACGCCC', 'GACCCACCA', 'CGCTGTAAT', 'CCGCCGAAG', 'AATATGGCG', 'TGAGGGGGG', 'GCGCCTTAT', 'CAACGCTCT', 'GCCTACGCC', 'ACGCATTAC', 'GTCTGCTTC', 'CTGAACTGT', 'AAGCGGCAG', 'ATCCGGGAG', 'TACGGTTAT', 'TGGCAATGG', 'ACGCCTGAT', 'GCCAGACAG', 'AACTGACCG', 'CAGCACGCC', 'CAGGCATTT', 'GCGGCGCGA', 'CCGAAGGTC', 'ACGCCGCAT', 'AAAGTGATG', 'AAAAACCCG', 'GCGCCAGTT', 'TGATGAAGC', 'TGTCGTGGA', 'GGGATTGAC', 'ACCGATGCC', 'TTCCGGGTA', 'CGTTGCCTG', 'CTTTCTGCC', 'AAGCTTCTC', 'TGGGGGAAG', 'AAAAGTTGC', 'ACGACGTTC', 'ATCCGCCCT', 'CGGTTGCCT', 'AGCGGCTGC', 'GCGATACCC', 'GGCCTACAC', 'CGTGAACGC', 'GGGACTTGA', 'TCCCTTACA', 'ATCGCATCC', 'CCAATTCCG', 'TCTAACGCC', 'GACAGCGCA', 'TGCATCGGG', 'ATGGCACTA', 'GCGTCTTAT', 'GTGCGGGAA', 'CGCCTTATC', 'GGGAACTCT', 'GTTGGCGCA', 'GGAATAGCT', 'GAAGTTGAA', 'TGAATCAGC', 'ATATTAATA', 'CCCCCCGGT', 'GTCGGGGCT', 'CCTACGCCA', 'ACAAAATCG', 'TGAAGCTAG', 'GCAGAAGCA', 'CAGGCAACG', 'CCCGTACTT', 'GCACAATGC', 'CGCCAGCAG', 'TGCGGCAAC', 'CGCGTCTAC', 'CAGGCTAAT', 'CCTTACCGC', 'CTCAGCTGG', 'TGGCGGTGA', 'CGCCAGTTG', 'CCTACGGAT', 'ACGGAGGGT', 'CCGCTGACG', 'CCCCGCTGG', 'GGCGGTTCG', 'CAACGCCTG', 'ACTGAACTG', 'GGCAGTCGG', 'AGGCATCTG', 'CGTTGCTGC', 'CCTACAAAA', 'CAAATCCGG', 'TCGTGGACA', 'CACTATGGC', 'TGATACCGC', 'TTCGTACGA', 'TTTTGTAGG', 'TCGATCCCG', 'TTCTGCCCC', 'GATACCGCT', 'GCCTGATGC', 'TGGTGGGGG', 'TCCAGCTGA', 'TCCGCCCTA', 'AGACGCATA', 'GGGTGATTA', 'GTTGCCGTT', 'GGCGCTGGA', 'CAACTGGCT', 'CAATTCCGC', 'CAGAAGAAC', 'CCCGCCGAA', 'TGCGGCGTA', 'AGCCGCTAT', 'ACCTACGGT', 'ATCAATGCC', 'CAACCGATG', 'GTCATTCAT', 'GGTGAGGGG', 'CGCTTTGTT', 'GCAGGAAGG', 'GGCTGTCGC', 'CCGAAGCGG', 'CTATTGCCC', 'ATCAGGCAA', 'TGTGCAATA', 'GCTCGGTTC', 'ATAGCCTGA', 'GGTGCACTG', 'GAGTCATCC', 'CGAAGCGGG', 'GGCCTACAA', 'GAGCACGAC', 'AAGGTCGGG', 'GTCATCCTG', 'GATTTAGCG', 'ATCTGCGCA', 'TAGGCCTGA', 'TGCCCCTCC', 'GCTGGGGTA', 'CAACCGGTT', 'TGAAATGAT', 'TTATCCGCC', 'GTGATTAGC', 'TGCGGCGTG', 'CAGGCATCT', 'CTCCGACCG', 'AAAGAAGCT', 'GCCGACCAG', 'CGGGCAGCC', 'AGTCGGCAC', 'AGCTTCTCA', 'CCTGGTAGC', 'CTTACAAGG', 'TAGCGTGAT', 'CAAAGCGCG', 'GTTTGGCAA', 'AACGCCTGA', 'GGGGGGGAT', 'GCTGGAACA', 'GCACTGAAC', 'TACAAAATC', 'CGCGTCTTA', 'ACGCCTTAT', 'CCGACATTA', 'CGCACAATG', 'GCCGAGGAT', 'AGCCCGTAC', 'TCGGTTCAA', 'CGACCTACG', 'CCCTTACAA', 'AATGCCAGC', 'CGGGAATTT', 'GATCCCGTC', 'TCGCTCGCC', 'ACAGTCATT', 'AGCCGCAAC', 'ATCCGACCT', 'CTCATCCTT', 'GTGGAGCAG', 'CTATGGCAC', 'CTCTCGCTG', 'GTTCACGGT', 'CAACAACCG', 'CTGTCGCGT', 'CATCTAACG', 'GCCTGCGGC', 'GAGCAGTTG', 'CAGGCAGTC', 'ACAAACGCA', 'GGGTCGGCG', 'ATAAGGCAC', 'AGCCGCCGT', 'GATGCGGCG', 'CAGCTGGGA', 'GGATAAGGC', 'GGCACTATG', 'GCTACTAAA', 'TCACGACGT', 'GTTCGAGTC', 'CGTCGAAGC', 'ACGCGTTAG', 'GCGCACAAT', 'CCGCTGTGA', 'GCTATAGCC', 'ATTTGTAGG', 'AATCTGTAG', 'ATCAGCAGC', 'GGCACCGTT', 'AACGGCTGT', 'GAGGGTGCG', 'CTCGCTTCG', 'GGCAGCCCG', 'CCACCAGCA', 'GTAGAGCAC', 'CCTTATCCG', 'TACTCTATC', 'GTCATCACC', 'GGCGTTTAT', 'GCTGACGCC', 'GGTGCATCC', 'TGGAACAGC', 'AAATGATGA', 'CGAGTCATC', 'ATCAGGCAG', 'TGACTTTTA', 'CGTTTCCCG', 'GCAACAGGC', 'CGCGTCTGC', 'GAAATGATG', 'TTGCCTGCG', 'AGCTGGAAC', 'GCAGCTCCG', 'GGCAGAATA', 'TGCCTGATG', 'ATCCCCGCT', 'GCCCCCGCA', 'ACTTATCAG', 'GGCTGGCGT', 'CAGAAAAAG', 'AAGCTGGAA', 'GCATCGGGA', 'CCCTCCAAA', 'TCTGCCCCT', 'GACGCTGGC', 'CAAATCAAC', 'AGAAAGCGG', 'CCTGAAGCT', 'GTCGCGAGT', 'AACCCCCAC', 'TTGGTCGCA', 'GTCGTTGCC', 'TTTATGCCG', 'CAGTTGACT', 'ATATCAGCA', 'TTGCGGCAC', 'CCTACAACT', 'GATGCGCTT', 'TACCGCTTG', 'CTGGTAGCT', 'CGTAGCGCA', 'TCCGCCACC', 'ACTGTAGGT', 'CACGACCCA', 'GGTGTGTGC', 'CCTTCCCCG', 'GCGCGCTTC', 'CTTATCCGC', 'GCGCTGCTC', 'GTGCACTGA', 'CAGCCTGGT', 'GCTGGCGCG', 'TTCGCCCTT', 'TGTAGGCCT', 'TTTGCTTAT', 'TCGGGCTCA', 'GCTGTCGCG', 'GACCTACGG', 'ACAGCAACA', 'CCGCCGTCG', 'CACAGCGTC', 'ATATGGCGG', 'ACCAATTCC', 'CGTTCACGC', 'CATCCGGCA', 'GTGTGCAAT', 'AAAAATTGA', 'CACCTTCGC', 'CTGTCCAAC', 'GCATCCGAC', 'GCGGTTTAT', 'CGTGATTTT', 'TTTCGTACG', 'ATCAACGCC', 'CGCGAGCGC', 'AGGTCGATC', 'CGCGAGTTC', 'GATCGGTTC', 'ATGCCTGAT', 'GCCACCTTC', 'CTGGGAGAG', 'TTAATCAAT', 'CACGTCCGT', 'GCGCAAGCG', 'CCGACATCA', 'GGTGCGGGA', 'AAAGCCGCC', 'CGGCGCTGG', 'GGATGCGGC', 'TTGCTTATC', 'GGAGTTAAA', 'TTCAAATCC', 'CCTGTAGGC', 'TGGGTATAG', 'GTGGACAGT', 'CAGACAGCG', 'TAGCCTGAT', 'TTCCGCCAC', 'CAATATTGG', 'CCGATAAGC', 'TGCCTTACC', 'GACGCTTAA', 'CTGCCCCTC', 'GTGAAACTG', 'GAATAGCTC', 'TCGCAGGTT', 'ATGCGGCGT', 'GAAAGCCAG', 'AAGGTCGTC', 'CACTGGAGT', 'CCTCCAAAA', 'AAGGAGGGG', 'TTTTAATCA', 'GCCGCAACA', 'GGTAGAGCA', 'AGGCCGGAT', 'TCACCCACC', 'ATAAGCCGC', 'GTGCCTTAC', 'CGACCTGTA', 'GGCGCGTCT', 'GGAGGATTC', 'TGCGGATTC', 'CCCCTCCAA', 'TAGGCCGGA', 'AGCTACGGA', 'CGGCGGCGG', 'AGGTCGTCG', 'TCGGTTTAT', 'CCGCAACAA', 'GGTCGCGAG', 'CCGAGTACT', 'CGACATTAT', 'GAGTTAAAT', 'CGCATCCGA', 'GGCGGTTAC', 'GTGGGTCAA', 'GGCTGGGGT', 'ATGCATCGG', 'AAGGCGTTT', 'CAGTCGGCA', 'ATTCCGCCA', 'GAAGCTTCT', 'TAAGGCACT', 'GCACGACTG', 'TCCGACATC', 'GGAACAGCA', 'TTGGTAGAG', 'GCCTGATAA', 'GCATCAGGC', 'GGATTGACT', 'TACTCAGCG', 'CAATTGGTC', 'AGGCCTACG', 'CCGCTCGGT', 'GGCTCATAA', 'CGACCGCTC', 'TGACGCGAC', 'ACGTCCGTA', 'TCAGGCAGT', 'CCCCGCAAC', 'CTGATAAGC', 'AGCGTAGCG', 'CGCATAGCG', 'GCCGCCAGT', 'ACTGCCGGA', 'GCAGAATAT', 'AAAGCGGTT', 'CGCTCTCTC', 'GTGATGGTG', 'CAAAAGTTG', 'GGCCTACGC', 'GGCGCTGCT', 'GATAAGGCG', 'GTTTGTAGG', 'CCAGTTCCA', 'GGTTCAAAT', 'CGTCTACCA', 'TTGGGTATA', 'ATCCCCCCG', 'GGCTGCCGG', 'CCGGGAGGA', 'CCGGCCTAC', 'CACGACTGC', 'TCATAACCC', 'CCGGCCCCC', 'TCCGACATT', 'CAGTTCCAG', 'GAGGGGGGG', 'GGTCGGATA', 'TTAGCGTGA', 'CGCAACCAA', 'GACCTTTCG', 'CTGATTTAG', 'AGCGTGATT', 'ATTGACTCG', 'CTACGGAGG', 'GTTTATGCC', 'GGCCTGATA', 'CGCGGGGTG', 'CTGGCGCAG', 'CGCTTTCTT', 'AATGGCGCT', 'GGTTTATCC', 'CGGACGGTG', 'TTGAAGTTG', 'TCAATATTG', 'ACGCACAGC', 'AAAAAGCCC', 'TAAATAATC', 'GCCGAAGCG', 'CGCGACTTA', 'CATTATTGC', 'GTGCGAGGG', 'TCCGGTTAA', 'AGGCTAATG', 'CAGGTCGAT', 'CTTTAAATA', 'AGGCGGTTA', 'AACCAGCAG', 'CCGTCGAAG', 'CGCGTCGCA', 'GTAGAGCAG', 'GTTGCCAGG', 'TAATCAATT', 'TCAAAAGTT', 'CTTTCTTTT', 'GGATGCGCT', 'CATCCGGGA', 'ATGGTGGTG', 'TTCCCGCTC', 'GATGCATCG', 'AGTTGACTT', 'AAGGATTAC', 'TCGGTTCGT', 'TCGCATCCG', 'ACCGTAGGC', 'GTCGAAGCT', 'AGGAGTTAA', 'CAGTTGGCG', 'GGGGCAAAA', 'CTGCCGGAT', 'GCTCAGCTG', 'CCGGTTGCG', 'CCCCCACGT', 'AGCAGCCGC', 'GCTGCTGCT', 'TTGTGCCGC', 'GGGAATAGC', 'CTGTGAAGT', 'CGGTTGCGC', 'ACCTCCCTT', 'GTAGCCGAG', 'GCGGGAATA', 'TGATGGTGG', 'TGTGTGCAA', 'AGGAGGGGG', 'TGCGTTCAC', 'TCAACGCCT', 'GAAGCGGGT', 'TTACGCGTC', 'GGGGGGGAC', 'TGCGGGCAG', 'CCAGTTGTC', 'CCGGTGTGT', 'TTGACTTTT', 'ATAAGACGC', 'GGATTCGAA', 'GCTGCAGCT', 'TCCGGCAAT', 'CGAAGTTGA', 'TGCTCCACC', 'CCACCTTCG', 'CTACAAAAT', 'AGCGTCGCA', 'CCTTCGGGT', 'GGGAATTTG', 'TAACACCTG', 'AAATGGCGC', 'ATCAGGCGT', 'CCCACGTCC', 'AAGATGCGC', 'ATTACTCAG', 'TTAAATATG', 'CGCCGCTGA', 'GCAACGGCT', 'CATCTGCGC', 'TTTTACGTA', 'GACATCCAA', 'CTGTTCATA', 'CCTGATTTA', 'AGTTTGGCA', 'TAGCGTCGC', 'CTATCCAGC', 'TTGCCGACC', 'TTCTCATCC', 'AAGGCGGTT', 'GCTTAACGC', 'GTCGGATGC', 'AACTGTAGG', 'GGAGAGCAC', 'GCGCTGCGC', 'CGGAGGGTG', 'AGACAGCGC', 'CAATAGCCT', 'CCGGATGCG', 'ATGCCTACA', 'ACGGCTGCC', 'GCGGATGCG', 'ACAAGGAGG', 'CTTCTCATC', 'AGTCATCCT', 'AACAACCGG', 'ATTACGCGT', 'GTAGCGCAT', 'AGAAGAACA', 'ACCGTGCTG', 'ACAGCGTCG', 'ATATGGATT', 'ATAACCCGA', 'GATGGTGCA', 'TGTCGGATG', 'GGCAATCAA', 'GCCGAACCG', 'CATCAGGCA', 'GTTAGCTCA', 'CTTTTGGGT', 'CACAATGCC', 'TCTTTTGGG', 'ACCTCCGAC', 'ACAGGCTAA', 'GCAATAGCC', 'GCTCTCTCG', 'GTTCACGCC', 'TCGAAGCCG', 'CTCTTCTTT', 'GTACTCTAT', 'TACTTTCGT', 'TACCAATTC', 'CCTACGGTT', 'AAAATCGCA', 'AGGGTGCGG', 'TCTTTCTGC', 'AGGCCTACA', 'CGGTGCTAC', 'CCGACCTAC', 'TTCAATATT', 'CACCGCTGT', 'CGCAAAGCC', 'TGCCGCATC', 'GGCGTGAAC', 'ATTGCGGAT', 'AGGTGGGTC', 'ATAAGATGC', 'CGAAGCCGC', 'AACAGCACG', 'GCGGCACTG', 'CGTACTTTC', 'GCGGTTCGA', 'TTCTTTAAA', 'TGAAAGTGA', 'GGAGTTAAG', 'GATTCGAAC', 'TCTCACTCC', 'GGATAAGAC', 'ATCCAGCGT', 'CGGTTATGT', 'CCAGACAGC', 'TTTATCGCC', 'TCTTCTTTA', 'GCCAGTTGT', 'GGAGGGGGT', 'CTGCGCCTG', 'ATCGGCATC', 'CACTGAACT', 'GCGTAGCGC', 'TAATGCGGA', 'GCGCACGAC', 'ACCCACCAA', 'TCAATTGGT', 'CTGCGGCAA', 'GGTTGCGCC', 'GCACGACCT', 'GCAAAGCCG', 'ACCGATAAG', 'ATACCGCTA', 'GACATTATT', 'ACCGCTTGG', 'CCGGTGCCT', 'ACCGCTCGG']\n",
      "Total number of 9-mers that form (500, 3)-Clumps: 1904\n"
     ]
    }
   ],
   "source": [
    "from collections import defaultdict\n",
    "\n",
    "def FindClumps(seq, k, L, t):\n",
    "    Patterns = set()\n",
    "    n = len(seq)\n",
    "    # Initialize the frequency table for the first window\n",
    "    freqMap = defaultdict(int)\n",
    "    for i in range(L):\n",
    "        pattern = seq[i:i + k]\n",
    "        freqMap[pattern] += 1\n",
    "        if freqMap[pattern] == t:\n",
    "            Patterns.add(pattern)\n",
    "\n",
    "    # Slide the window and update the frequency table incrementally\n",
    "    # This is a faster/more efficient code for longer genomes\n",
    "    for i in range(1, n - L + 1):\n",
    "        old_pattern = seq[i - 1:i - 1 + k]\n",
    "        freqMap[old_pattern] -= 1\n",
    "        new_pattern = seq[i + L - k:i + L]\n",
    "        freqMap[new_pattern] += 1\n",
    "        if freqMap[new_pattern] == t:\n",
    "            Patterns.add(new_pattern)\n",
    "    return list(Patterns)\n",
    "\n",
    "\n",
    "\n",
    "file_path = r'C:\\Users\\ryanr\\OneDrive\\Desktop\\Coursera\\Bioinformatics UCSD\\E_coli.txt'\n",
    "with open(file_path, 'r') as file:\n",
    "    Seq = file.readline().strip()\n",
    "    \n",
    "k = 9\n",
    "L = 500\n",
    "t = 3\n",
    "\n",
    "result = FindClumps(Seq, k, L, t)\n",
    "print(f\"{k}-mers occurring in (500, 3)-Clumps in E-coli:\\n\", result, sep='')\n",
    "print(f\"Total number of {k}-mers that form (500, 3)-Clumps:\", len(result))"
   ]
  },
  {
   "cell_type": "code",
   "execution_count": null,
   "id": "f9a153db-4bef-4a1b-9151-0581990d30ef",
   "metadata": {},
   "outputs": [],
   "source": []
  }
 ],
 "metadata": {
  "kernelspec": {
   "display_name": "Python 3 (ipykernel)",
   "language": "python",
   "name": "python3"
  },
  "language_info": {
   "codemirror_mode": {
    "name": "ipython",
    "version": 3
   },
   "file_extension": ".py",
   "mimetype": "text/x-python",
   "name": "python",
   "nbconvert_exporter": "python",
   "pygments_lexer": "ipython3",
   "version": "3.11.3"
  }
 },
 "nbformat": 4,
 "nbformat_minor": 5
}
