{
 "cells": [
  {
   "cell_type": "markdown",
   "id": "66743892-0fbb-4323-81b5-5a653b787794",
   "metadata": {},
   "source": [
    "### Getting the number of each nucleotide in *Vibrio cholerae*:"
   ]
  },
  {
   "cell_type": "code",
   "execution_count": 1,
   "id": "9a987b22-bb8f-4d81-92f5-7edf24420a45",
   "metadata": {
    "tags": []
   },
   "outputs": [
    {
     "name": "stdout",
     "output_type": "stream",
     "text": [
      "{'A': 293942, 'C': 263573, 'G': 256024, 'T': 294711}\n",
      "A: 293942\n",
      "C: 263573\n",
      "G: 256024\n",
      "T: 294711\n"
     ]
    }
   ],
   "source": [
    "def nucleotide_count(seq):\n",
    "    nuc_counts = {'A':seq.count('A'), 'C':seq.count('C'), 'G':seq.count('G'), 'T':seq.count('T')}\n",
    "    return nuc_counts\n",
    "\n",
    "\n",
    "file_path = r'C:\\Users\\ryanr\\OneDrive\\Desktop\\Coursera\\Bioinformatics UCSD\\Vibrio_cholerae_genome_seq.txt'\n",
    "\n",
    "with open(file_path, 'r') as f:\n",
    "    seq = f.readline()\n",
    "    \n",
    "print(nucleotide_count(seq))\n",
    "print(\"A: \" + str(seq.count('A')))\n",
    "print(\"C: \" + str(seq.count('C')))\n",
    "print(\"G: \" + str(seq.count('G')))\n",
    "print(\"T: \" + str(seq.count('T')))"
   ]
  },
  {
   "cell_type": "markdown",
   "id": "120f5edc-6c82-4903-835b-c6a98a27ab5d",
   "metadata": {},
   "source": [
    "### Counting pattern occurrences in a sequence:"
   ]
  },
  {
   "cell_type": "code",
   "execution_count": null,
   "id": "6f0a1c9c-a46f-444a-870f-a8295ea52122",
   "metadata": {},
   "outputs": [],
   "source": [
    "# Pseudocode\n",
    "Seq = GACCATACTG\n",
    "Pattern = ATA\n",
    "\n",
    "PatternCount(seq, pattern)\n",
    "    count ← 0\n",
    "    for i ← 0 to |seq| − |pattern|\n",
    "        if seq(i, |pattern|) = pattern\n",
    "            count ← count + 1\n",
    "    return count"
   ]
  },
  {
   "cell_type": "markdown",
   "id": "c348d419-7c64-4626-8540-fe14e47bb6d3",
   "metadata": {},
   "source": [
    "### **Answer:**"
   ]
  },
  {
   "cell_type": "code",
   "execution_count": 2,
   "id": "7f5d3245-211e-4bbf-93a2-e46dac75b193",
   "metadata": {
    "tags": []
   },
   "outputs": [
    {
     "name": "stdout",
     "output_type": "stream",
     "text": [
      "Seq: TAGAGATTATCCAATTATCCACCGTTATCCAATTTATCCACATTATCCATTTATCCAGTTATCCACTTATCCAGTTATCCATTGATTATCCATTATCCAGTCTTATCCATTTATCCATTATCCATTATCCATTATCCATTATCCATTATCCATTATCCAATTTATCCATTATCCAGGAACACCGGCAATGCCAGTTATCCAGATTATCCATTATCCATTATCCAACCGATTATCCAGCTTATCCACTGCCGTACATGATTATCCATTATCCAAATACAGTTATCCATAATTATCCAGGGTATTTATCCATTATCCAACTTATCCATTTATCCATTATCCATATTATCCAGGCACGCGTTATCCAGAGTGACTTGTTATCCATTTTATCCACATTATCCACAATAGTATTTATCCATTATCCAAAGCGCGTTATCCAAGTTATCCATTATCCATTATCCACCAACATTATCCAGATTATCCATGTGTTATCCAGTTATCCAGAGTTATCCAACACTTATCCACTTATCCATTTATCCATTATCCACCCATTATCCATTATCCACTGTCCTTATCCATGTTATCCACATTATCCATTTATCCATTATCCAGCTTTATCCACATCTTTATCCATTATCCAGACCATTATCCATGCTTATCCAAGGATCTTATCCACGAAGTTATCCATATACATTCAACGTTATCCACATAATTTATCCATTATCCATTATCCAACTTATCCAGTTATCCACTTATCCAGGCTTATCCAACCTTTATCCATTATCCAAGTCTTATCCATACTTATCCATTATCCACTTATCCATATTATCCACCCGTTATCCACGGTTATCCAGTTATCCACTTATCCAATTATCCATTATCCATTTATCCATTCTTTTATCCACTTTATCCACATGAGTATTTTATCCACGTTATCCAAGTTATCCATTTTATCCATTATCCATTATCCATTATCCACTCTTATCCACCGATTATCCAATTTATCCA\n",
      "Pattern: TTATCCATT\n",
      "Occurrences of 'TTATCCATT' in Vibrio cholerae: 38\n"
     ]
    }
   ],
   "source": [
    "def pattern_count(seq, pattern):\n",
    "    # Store 1 if pattern is encountered, and sum total\n",
    "    return sum([1 for nuc in range(len(seq) - len(pattern)) if seq[nuc:nuc + len(pattern)] == pattern])\n",
    "\n",
    "\n",
    "file = r'C:\\Users\\ryanr\\OneDrive\\Desktop\\Coursera\\Bioinformatics UCSD\\dataset_30272_6.txt'\n",
    "with open(file, 'r') as f:\n",
    "    # Read the first line and assign it to the variable 'Seq'\n",
    "    Seq = f.readline().strip()\n",
    "    # Read the second line and assign it to the variable 'pattern'\n",
    "    Pattern = f.readline().strip()\n",
    "    \n",
    "print(\"Seq:\", Seq)\n",
    "print(\"Pattern:\", Pattern)\n",
    "print(f\"Occurrences of 'TTATCCATT' in Vibrio cholerae: {pattern_count(Seq, Pattern)}\")"
   ]
  },
  {
   "cell_type": "markdown",
   "id": "0b6478ba-e8df-40fe-a092-97af4d44bda3",
   "metadata": {},
   "source": [
    "### Counting the most frequent pattern occurrences (k-mers of length 2, 3, etc.) in a sequence:"
   ]
  },
  {
   "cell_type": "code",
   "execution_count": null,
   "id": "73bd256d-f4a9-455b-84dd-262f110af885",
   "metadata": {},
   "outputs": [],
   "source": [
    "#Pseudocode\n",
    "FrequentWords(Seq, k)\n",
    "    FrequentPatterns ← an empty set\n",
    "    for i ← 0 to |Seq| − k\n",
    "        Pattern ← the k-mer Seq(i, k)\n",
    "        Count(i) ← PatternCount(Seq, Pattern)\n",
    "    maxCount ← maximum value in array Count\n",
    "    for i ← 0 to |Seq| − k\n",
    "        if Count(i) = maxCount\n",
    "            add Seq(i, k) to FrequentPatterns\n",
    "    remove duplicates from FrequentPatterns\n",
    "    return FrequentPatterns"
   ]
  },
  {
   "cell_type": "code",
   "execution_count": null,
   "id": "2fd185a3-346d-4f85-bf8b-611fc9b80993",
   "metadata": {},
   "outputs": [],
   "source": [
    "#Pseudocode\n",
    "# Takes a string 'Seq' and an integer 'k' (k-mer length) as input and returns their\n",
    "# frequency table as a map of string keys to integer values\n",
    "FrequencyTable(Seq, k)\n",
    "    freqMap ← empty map\n",
    "    n ← |Seq|\n",
    "    for i ← 0 to n − k\n",
    "        Pattern ← Seq(i, k)\n",
    "        if freqMap[Pattern] doesn't exist\n",
    "            freqMap[Pattern]← 1\n",
    "        else\n",
    "           freqMap[pattern] ← freqMap[pattern] + 1 \n",
    "    return freqMap\n",
    "Example of freqMap output:\n",
    "[ ACT | GCA | TCC | ... ]\n",
    "[  0  |  3  |  1  | ... ]"
   ]
  },
  {
   "cell_type": "code",
   "execution_count": null,
   "id": "0463e4bc-1a1d-4575-83bf-446c243d4c34",
   "metadata": {},
   "outputs": [],
   "source": [
    "# More efficient way of finding most frequent pattern occurances\n",
    "# Pseudocode\n",
    "# function MaxMap takes a map of strings to integers as input and returns the max value of this map as output\n",
    "BetterFrequentWords(Seq, k)\n",
    "    FrequentPatterns ← an array of strings of length 0\n",
    "    freqMap ← FrequencyTable(Seq, k)\n",
    "    max ← MaxMap(freqMap)\n",
    "    for all strings Pattern in freqMap\n",
    "        if freqMap[pattern] = max\n",
    "            append Pattern to frequentPatterns\n",
    "    return frequentPatterns"
   ]
  },
  {
   "cell_type": "markdown",
   "id": "688ff7e0-e67c-4531-98a9-db2b88c09caa",
   "metadata": {},
   "source": [
    "### **Answer:**"
   ]
  },
  {
   "cell_type": "code",
   "execution_count": 3,
   "id": "c91df483-191e-420a-82f7-c23995eb6afb",
   "metadata": {
    "tags": []
   },
   "outputs": [
    {
     "name": "stdout",
     "output_type": "stream",
     "text": [
      "Frequency Table: {'ATTTGGCATTTGGC': 8, 'TTTGGCATTTGGCA': 4, 'TTGGCATTTGGCAT': 4, 'TGGCATTTGGCATT': 4, 'GGCATTTGGCATTT': 4, 'GCATTTGGCATTTG': 4, 'CATTTGGCATTTGG': 4, 'TTTGGCATTTGGCT': 3, 'TTGGCATTTGGCTA': 2, 'TGGCATTTGGCTAC': 2, 'GGCATTTGGCTACG': 2, 'GCATTTGGCTACGT': 2, 'CATTTGGCTACGTT': 2, 'ATTTGGCTACGTTT': 9, 'TTTGGCTACGTTTT': 9, 'TTGGCTACGTTTTT': 5, 'TGGCTACGTTTTTT': 2, 'GGCTACGTTTTTTT': 2, 'GCTACGTTTTTTTG': 2, 'CTACGTTTTTTTGA': 2, 'TACGTTTTTTTGAC': 5, 'ACGTTTTTTTGACA': 5, 'CGTTTTTTTGACAA': 5, 'GTTTTTTTGACAAA': 5, 'TTTTTTTGACAAAA': 2, 'TTTTTTGACAAAAT': 2, 'TTTTTGACAAAATT': 2, 'TTTTGACAAAATTT': 3, 'TTTGACAAAATTTG': 4, 'TTGACAAAATTTGG': 4, 'TGACAAAATTTGGC': 4, 'GACAAAATTTGGCG': 2, 'ACAAAATTTGGCGG': 2, 'CAAAATTTGGCGGA': 2, 'AAAATTTGGCGGAT': 2, 'AAATTTGGCGGATA': 2, 'AATTTGGCGGATAG': 2, 'ATTTGGCGGATAGT': 3, 'TTTGGCGGATAGTT': 2, 'TTGGCGGATAGTTT': 2, 'TGGCGGATAGTTTT': 2, 'GGCGGATAGTTTTG': 2, 'GCGGATAGTTTTGA': 2, 'CGGATAGTTTTGAC': 2, 'GGATAGTTTTGACA': 4, 'GATAGTTTTGACAA': 4, 'ATAGTTTTGACAAA': 4, 'TAGTTTTGACAAAA': 2, 'AGTTTTGACAAAAT': 2, 'GTTTTGACAAAATT': 2, 'GACAAAATTTGGCT': 2, 'ACAAAATTTGGCTA': 2, 'CAAAATTTGGCTAC': 2, 'AAAATTTGGCTACG': 2, 'AAATTTGGCTACGT': 2, 'AATTTGGCTACGTT': 3, 'TTGGCTACGTTTTG': 5, 'TGGCTACGTTTTGG': 5, 'GGCTACGTTTTGGA': 5, 'GCTACGTTTTGGAT': 5, 'CTACGTTTTGGATA': 5, 'TACGTTTTGGATAG': 11, 'ACGTTTTGGATAGT': 11, 'CGTTTTGGATAGTG': 5, 'GTTTTGGATAGTGG': 5, 'TTTTGGATAGTGGA': 5, 'TTTGGATAGTGGAT': 5, 'TTGGATAGTGGATA': 5, 'TGGATAGTGGATAG': 5, 'GGATAGTGGATAGT': 6, 'GATAGTGGATAGTT': 2, 'ATAGTGGATAGTTA': 2, 'TAGTGGATAGTTAC': 2, 'AGTGGATAGTTACG': 2, 'GTGGATAGTTACGT': 2, 'TGGATAGTTACGTT': 2, 'GGATAGTTACGTTT': 4, 'GATAGTTACGTTTT': 4, 'ATAGTTACGTTTTA': 3, 'TAGTTACGTTTTAT': 3, 'AGTTACGTTTTATT': 3, 'GTTACGTTTTATTT': 3, 'TTACGTTTTATTTG': 3, 'TACGTTTTATTTGG': 5, 'ACGTTTTATTTGGC': 5, 'CGTTTTATTTGGCT': 4, 'GTTTTATTTGGCTT': 3, 'TTTTATTTGGCTTT': 3, 'TTTATTTGGCTTTG': 3, 'TTATTTGGCTTTGA': 3, 'TATTTGGCTTTGAC': 4, 'ATTTGGCTTTGACA': 6, 'TTTGGCTTTGACAA': 6, 'TTGGCTTTGACAAA': 6, 'TGGCTTTGACAAAG': 2, 'GGCTTTGACAAAGG': 2, 'GCTTTGACAAAGGA': 2, 'CTTTGACAAAGGAT': 2, 'TTTGACAAAGGATA': 5, 'TTGACAAAGGATAG': 5, 'TGACAAAGGATAGT': 5, 'GACAAAGGATAGTA': 3, 'ACAAAGGATAGTAT': 3, 'CAAAGGATAGTATT': 3, 'AAAGGATAGTATTT': 3, 'AAGGATAGTATTTG': 3, 'AGGATAGTATTTGG': 3, 'GGATAGTATTTGGC': 10, 'GATAGTATTTGGCT': 6, 'ATAGTATTTGGCTA': 5, 'TAGTATTTGGCTAC': 5, 'AGTATTTGGCTACG': 5, 'GTATTTGGCTACGT': 5, 'TATTTGGCTACGTT': 6, 'CGTTTTGGATAGTA': 3, 'GTTTTGGATAGTAT': 3, 'TTTTGGATAGTATT': 3, 'TTTGGATAGTATTT': 3, 'TTGGATAGTATTTG': 3, 'TGGATAGTATTTGG': 7, 'GATAGTATTTGGCA': 3, 'ATAGTATTTGGCAT': 3, 'TAGTATTTGGCATT': 3, 'AGTATTTGGCATTT': 3, 'GTATTTGGCATTTG': 3, 'TATTTGGCATTTGG': 3, 'TTGGCATTTGGCTT': 2, 'TGGCATTTGGCTTT': 2, 'GGCATTTGGCTTTG': 2, 'GCATTTGGCTTTGA': 2, 'CATTTGGCTTTGAC': 2, 'TGGCTTTGACAAAT': 4, 'GGCTTTGACAAATT': 3, 'GCTTTGACAAATTT': 3, 'CTTTGACAAATTTG': 3, 'TTTGACAAATTTGA': 5, 'TTGACAAATTTGAC': 5, 'TGACAAATTTGACA': 5, 'GACAAATTTGACAA': 5, 'ACAAATTTGACAAA': 5, 'CAAATTTGACAAAT': 4, 'AAATTTGACAAATA': 4, 'AATTTGACAAATAC': 4, 'ATTTGACAAATACG': 5, 'TTTGACAAATACGT': 8, 'TTGACAAATACGTT': 8, 'TGACAAATACGTTT': 8, 'GACAAATACGTTTT': 8, 'ACAAATACGTTTTA': 3, 'CAAATACGTTTTAT': 3, 'AAATACGTTTTATT': 3, 'AATACGTTTTATTT': 3, 'ATACGTTTTATTTG': 3, 'GTTTTATTTGGCTA': 2, 'TTTTATTTGGCTAC': 2, 'TTTATTTGGCTACG': 2, 'TTATTTGGCTACGT': 2, 'TGGCTACGTTTTTA': 4, 'GGCTACGTTTTTAC': 4, 'GCTACGTTTTTACG': 4, 'CTACGTTTTTACGT': 4, 'TACGTTTTTACGTT': 9, 'ACGTTTTTACGTTT': 9, 'CGTTTTTACGTTTT': 9, 'GTTTTTACGTTTTG': 5, 'TTTTTACGTTTTGG': 5, 'TTTTACGTTTTGGA': 5, 'TTTACGTTTTGGAT': 5, 'TTACGTTTTGGATA': 5, 'GATAGTGGATAGTA': 5, 'ATAGTGGATAGTAT': 5, 'TAGTGGATAGTATT': 5, 'AGTGGATAGTATTT': 5, 'GTGGATAGTATTTG': 5, 'ATAGTATTTGGCTT': 2, 'TAGTATTTGGCTTT': 2, 'AGTATTTGGCTTTG': 2, 'GTATTTGGCTTTGA': 2, 'GGCTTTGACAAATA': 2, 'GCTTTGACAAATAC': 2, 'CTTTGACAAATACG': 2, 'ACAAATACGTTTTG': 2, 'CAAATACGTTTTGG': 2, 'AAATACGTTTTGGA': 2, 'AATACGTTTTGGAT': 2, 'ATACGTTTTGGATA': 3, 'CGTTTTGGATAGTC': 3, 'GTTTTGGATAGTCT': 3, 'TTTTGGATAGTCTA': 3, 'TTTGGATAGTCTAG': 3, 'TTGGATAGTCTAGG': 3, 'TGGATAGTCTAGGG': 3, 'GGATAGTCTAGGGC': 5, 'GATAGTCTAGGGCC': 5, 'ATAGTCTAGGGCCA': 5, 'TAGTCTAGGGCCAG': 2, 'AGTCTAGGGCCAGG': 2, 'GTCTAGGGCCAGGA': 2, 'TCTAGGGCCAGGAT': 2, 'CTAGGGCCAGGATA': 4, 'TAGGGCCAGGATAG': 4, 'AGGGCCAGGATAGT': 4, 'GGGCCAGGATAGTC': 3, 'GGCCAGGATAGTCT': 3, 'GCCAGGATAGTCTA': 3, 'CCAGGATAGTCTAG': 3, 'CAGGATAGTCTAGG': 3, 'AGGATAGTCTAGGG': 3, 'TAGTCTAGGGCCAT': 3, 'AGTCTAGGGCCATT': 2, 'GTCTAGGGCCATTT': 2, 'TCTAGGGCCATTTG': 2, 'CTAGGGCCATTTGA': 3, 'TAGGGCCATTTGAC': 3, 'AGGGCCATTTGACA': 3, 'GGGCCATTTGACAA': 3, 'GGCCATTTGACAAA': 3, 'GCCATTTGACAAAT': 3, 'CCATTTGACAAATA': 2, 'CATTTGACAAATAC': 2, 'ACAAATACGTTTTC': 2, 'CAAATACGTTTTCT': 2, 'AAATACGTTTTCTA': 2, 'AATACGTTTTCTAG': 2, 'ATACGTTTTCTAGG': 2, 'TACGTTTTCTAGGG': 3, 'ACGTTTTCTAGGGC': 3, 'CGTTTTCTAGGGCC': 3, 'GTTTTCTAGGGCCA': 3, 'TTTTCTAGGGCCAA': 2, 'TTTCTAGGGCCAAT': 2, 'TTCTAGGGCCAATT': 2, 'TCTAGGGCCAATTT': 2, 'CTAGGGCCAATTTG': 4, 'TAGGGCCAATTTGG': 4, 'AGGGCCAATTTGGC': 4, 'GGGCCAATTTGGCT': 3, 'GGCCAATTTGGCTA': 2, 'GCCAATTTGGCTAC': 2, 'CCAATTTGGCTACG': 2, 'CAATTTGGCTACGT': 2, 'GATAGTATTTGGCC': 3, 'ATAGTATTTGGCCT': 3, 'TAGTATTTGGCCTA': 3, 'AGTATTTGGCCTAG': 3, 'GTATTTGGCCTAGG': 3, 'TATTTGGCCTAGGG': 4, 'ATTTGGCCTAGGGC': 6, 'TTTGGCCTAGGGCC': 6, 'TTGGCCTAGGGCCA': 6, 'TGGCCTAGGGCCAA': 3, 'GGCCTAGGGCCAAT': 3, 'GCCTAGGGCCAATT': 3, 'CCTAGGGCCAATTT': 3, 'GGGCCAATTTGGCA': 2, 'GGCCAATTTGGCAT': 2, 'GCCAATTTGGCATT': 2, 'CCAATTTGGCATTT': 2, 'CAATTTGGCATTTG': 2, 'AATTTGGCATTTGG': 2, 'TTTGGCATTTGGCC': 2, 'TTGGCATTTGGCCT': 2, 'TGGCATTTGGCCTA': 2, 'GGCATTTGGCCTAG': 2, 'GCATTTGGCCTAGG': 2, 'CATTTGGCCTAGGG': 2, 'TGGCCTAGGGCCAT': 3, 'GGCCTAGGGCCATA': 2, 'GCCTAGGGCCATAC': 2, 'CCTAGGGCCATACG': 2, 'CTAGGGCCATACGT': 3, 'TAGGGCCATACGTT': 3, 'AGGGCCATACGTTT': 3, 'GGGCCATACGTTTT': 3, 'GGCCATACGTTTTT': 2, 'GCCATACGTTTTTA': 2, 'CCATACGTTTTTAC': 2, 'CATACGTTTTTACG': 2, 'ATACGTTTTTACGT': 3, 'CGTTTTGGATAGTT': 3, 'GTTTTGGATAGTTT': 3, 'TTTTGGATAGTTTT': 3, 'TTTGGATAGTTTTG': 3, 'TTGGATAGTTTTGA': 3, 'TGGATAGTTTTGAC': 3, 'TAGTTTTGACAAAG': 2, 'AGTTTTGACAAAGG': 2, 'GTTTTGACAAAGGA': 2, 'TTTTGACAAAGGAT': 3, 'GACAAAGGATAGTT': 3, 'ACAAAGGATAGTTA': 3, 'CAAAGGATAGTTAC': 3, 'AAAGGATAGTTACG': 3, 'AAGGATAGTTACGT': 3, 'AGGATAGTTACGTT': 3, 'ATAGTTACGTTTTT': 2, 'TAGTTACGTTTTTA': 2, 'AGTTACGTTTTTAC': 2, 'GTTACGTTTTTACG': 2, 'TTACGTTTTTACGT': 4, 'TGGCCTAGGGCCAG': 2, 'GGCCTAGGGCCAGG': 2, 'GCCTAGGGCCAGGA': 2, 'CCTAGGGCCAGGAT': 2, 'AGTCTAGGGCCATA': 2, 'GTCTAGGGCCATAC': 2, 'TCTAGGGCCATACG': 2, 'GGCCATACGTTTTG': 2, 'GCCATACGTTTTGG': 2, 'CCATACGTTTTGGA': 2, 'CATACGTTTTGGAT': 2, 'TTTGGCATTTGGCG': 2, 'TTGGCATTTGGCGG': 2, 'TGGCATTTGGCGGA': 2, 'GGCATTTGGCGGAT': 2, 'GCATTTGGCGGATA': 2, 'CATTTGGCGGATAG': 2, 'TTTGGCGGATAGTA': 2, 'TTGGCGGATAGTAT': 2, 'TGGCGGATAGTATT': 2, 'GGCGGATAGTATTT': 2, 'GCGGATAGTATTTG': 2, 'CGGATAGTATTTGG': 2, 'GTTTTTACGTTTTT': 4, 'TTTTTACGTTTTTT': 2, 'TTTTACGTTTTTTT': 2, 'TTTACGTTTTTTTG': 2, 'TTACGTTTTTTTGA': 2, 'TTTTTTTGACAAAT': 3, 'TTTTTTGACAAATA': 2, 'TTTTTGACAAATAC': 2, 'TTTTGACAAATACG': 3, 'ACAAATACGTTTTT': 4, 'CAAATACGTTTTTA': 2, 'AAATACGTTTTTAC': 2, 'AATACGTTTTTACG': 2, 'GTTTTTACGTTTTC': 2, 'TTTTTACGTTTTCT': 2, 'TTTTACGTTTTCTA': 2, 'TTTACGTTTTCTAG': 2, 'TTACGTTTTCTAGG': 2, 'TTTTCTAGGGCCAC': 2, 'TTTCTAGGGCCACT': 2, 'TTCTAGGGCCACTA': 2, 'TCTAGGGCCACTAG': 2, 'CTAGGGCCACTAGG': 4, 'TAGGGCCACTAGGG': 4, 'AGGGCCACTAGGGC': 4, 'GGGCCACTAGGGCC': 4, 'GGCCACTAGGGCCA': 4, 'GCCACTAGGGCCAC': 3, 'CCACTAGGGCCACT': 3, 'CACTAGGGCCACTA': 3, 'ACTAGGGCCACTAG': 3, 'GCCACTAGGGCCAG': 2, 'CCACTAGGGCCAGG': 2, 'CACTAGGGCCAGGA': 2, 'ACTAGGGCCAGGAT': 2, 'GGGCCAGGATAGTG': 2, 'GGCCAGGATAGTGG': 2, 'GCCAGGATAGTGGA': 2, 'CCAGGATAGTGGAT': 2, 'CAGGATAGTGGATA': 2, 'AGGATAGTGGATAG': 2, 'TAGTTTTGACAAAT': 2, 'AGTTTTGACAAATA': 2, 'GTTTTGACAAATAC': 2, 'CAAATACGTTTTTT': 3, 'AAATACGTTTTTTT': 3, 'AATACGTTTTTTTG': 3, 'ATACGTTTTTTTGA': 3, 'TTTTTTGACAAATT': 2, 'TTTTTGACAAATTT': 2, 'TTTTGACAAATTTG': 2, 'TTTTTTTGACAAAG': 2, 'TTTTTTGACAAAGG': 2, 'TTTTTGACAAAGGA': 2, 'CGTTTTATTTGGCC': 2, 'GTTTTATTTGGCCT': 2, 'TTTTATTTGGCCTA': 2, 'TTTATTTGGCCTAG': 2, 'TTATTTGGCCTAGG': 2, 'GGCCAATTTGGCTT': 2, 'GCCAATTTGGCTTT': 2, 'CCAATTTGGCTTTG': 2, 'CAATTTGGCTTTGA': 2, 'AATTTGGCTTTGAC': 2, 'TGGCTTTGACAAAA': 2, 'GGCTTTGACAAAAT': 2, 'GCTTTGACAAAATT': 2, 'CTTTGACAAAATTT': 2, 'GACAAAATTTGGCC': 2, 'ACAAAATTTGGCCT': 2, 'CAAAATTTGGCCTA': 2, 'AAAATTTGGCCTAG': 2, 'AAATTTGGCCTAGG': 2, 'AATTTGGCCTAGGG': 2, 'GGCCTAGGGCCATT': 2, 'GCCTAGGGCCATTT': 2, 'CCTAGGGCCATTTG': 2, 'CCATTTGACAAATT': 2, 'CATTTGACAAATTT': 2, 'ATTTGACAAATTTG': 2, 'CAAATTTGACAAAG': 2, 'AAATTTGACAAAGG': 2, 'AATTTGACAAAGGA': 2, 'ATTTGACAAAGGAT': 2, 'TTTTTACGTTTTTA': 3, 'TTTTACGTTTTTAC': 3, 'TTTACGTTTTTACG': 3}\n",
      "Most Frequent Patterns: ['TACGTTTTGGATAG', 'ACGTTTTGGATAGT']\n"
     ]
    }
   ],
   "source": [
    "# Create a frequency table of k-mer pattern occurrences as a dictionary\n",
    "def freq_table(seq, k):\n",
    "    freqMap = {}\n",
    "    # For the whole sequence - k\n",
    "    for i in range(len(seq) - int(k) + 1):\n",
    "        # Scanning window of letters (of length k)\n",
    "        pattern = seq[i:i + int(k)]\n",
    "        # For each new k-length segment, it sets its value to 1 in dictionary\n",
    "        if pattern not in freqMap:\n",
    "            freqMap[pattern] = 1\n",
    "        # If k-length segment is already in dictionary, it increments its value (initially 1)\n",
    "        freqMap[pattern] += 1\n",
    "    return freqMap\n",
    "\n",
    "# Retrieve the most frequent patterns in frequency table\n",
    "def most_freq_patterns(seq, k):\n",
    "    freqPatterns = []\n",
    "    # Get freqMap dictionary\n",
    "    freqMap = freq_table(seq, int(k))\n",
    "    # For each pattern (key), count (value) item in dictionary\n",
    "    for pattern, count in freqMap.items():\n",
    "        # Find patterns with max count values\n",
    "        if count == max(freqMap.values()):\n",
    "            # Append freqPatterns list with those patterns\n",
    "            freqPatterns.append(pattern)\n",
    "    return freqPatterns\n",
    "\n",
    "\n",
    "\n",
    "file_path = r'C:\\Users\\ryanr\\OneDrive\\Desktop\\Coursera\\Bioinformatics UCSD\\dataset_30272_13.txt'\n",
    "with open(file_path, 'r') as file:\n",
    "    Seq = file.readline().strip()\n",
    "    K = file.readline().strip()\n",
    "\n",
    "# Get the frequency table\n",
    "freqTable = freq_table(Seq, K)\n",
    "print(\"Frequency Table:\", freqTable)\n",
    "\n",
    "# Get the most frequent patterns\n",
    "freqPatterns = most_freq_patterns(Seq, K)\n",
    "print(\"Most Frequent Patterns:\", freqPatterns)"
   ]
  },
  {
   "cell_type": "markdown",
   "id": "dd347f04-7317-4998-b438-716300e97e59",
   "metadata": {},
   "source": [
    "### Finding the compliment of a sequence and reversing it:"
   ]
  },
  {
   "cell_type": "code",
   "execution_count": 4,
   "id": "58120f00-de49-4b5e-86b4-74300fa36d08",
   "metadata": {
    "tags": []
   },
   "outputs": [
    {
     "name": "stdout",
     "output_type": "stream",
     "text": [
      "Original Sequence: ACCTCAGGTT...GATAACCTTC\n",
      "\n",
      "Reversed Complementary Sequence: GAAGGTTATC...AACCTGAGGT\n"
     ]
    }
   ],
   "source": [
    "# Obtaining the reverse compliment of a DNA sequence\n",
    "def reverse_compliment(seq):\n",
    "    # Assign complimentary letters\n",
    "    comp_dict = {'A':'T', 'T':'A', 'C':'G', 'G':'C'}\n",
    "    # Replace each nucleotide with its complementary letter\n",
    "    comp_seq = ''.join(comp_dict[n] for n in seq)\n",
    "    # Reverse the entire string\n",
    "    rev_comp_seq = comp_seq[::-1]\n",
    "    return rev_comp_seq\n",
    "\n",
    "\n",
    "\n",
    "file_path = r'C:\\Users\\ryanr\\OneDrive\\Desktop\\Coursera\\Bioinformatics UCSD\\dataset_30273_2.txt'\n",
    "with open(file_path, 'r') as file:\n",
    "    Seq = file.readline().strip()\n",
    "\n",
    "rev_comp_seq = reverse_compliment(Seq)\n",
    "print(\"Original Sequence: \", Seq[:10], \"...\", Seq[-10:], sep='')\n",
    "print(\"\\nReversed Complementary Sequence: \", rev_comp_seq[:10], \"...\", rev_comp_seq[-10:], sep='')"
   ]
  },
  {
   "cell_type": "markdown",
   "id": "6d4ffe78-eff5-461f-a8dd-9959415c9b1f",
   "metadata": {},
   "source": [
    "### Finding all locations/occurrences of a pattern within a sequence:"
   ]
  },
  {
   "cell_type": "code",
   "execution_count": 5,
   "id": "49266c49-3b6d-4bcc-8fd1-f3bc1dcb386c",
   "metadata": {
    "tags": []
   },
   "outputs": [
    {
     "name": "stdout",
     "output_type": "stream",
     "text": [
      "The pattern 'ATTATCAAT' occurs at indices:\n",
      "11 141 148 155 172 278 285 354 428 468 566 573 593 765 772 779 798 805 853 882 889 904 973 980 987 994 1074 1081 1088 1138 1171 1201 1208 1261 1347 1362 1386 1393 1421 1465 1481 1507 1607 1737 1744 1759 1766 1814 1824 1881 1964 1982 2017 2040 2142 2186 2193 2223 2230 2257 2285 2301 2325 2332 2359 2422 2429 2476 2483 2499 2537 2615 2634 2643 2650 2657 2664 2717 2724 2740 2747 2757 2788 2833 2881 2926 3008 3053 3060 3091 3106 3135 3151 3195 3233 3240 3277 3323 3330 3345 3352 3418 3456 3463 3577 3584 3591 3598 3660 3676 3731 3738 3798 3851 3858 3865 3983 4018 4198 4205 4212 4219 4259 4274 4322 4354 4382 4463 4487 4541 4556 4563 4659 4696 4738 4807 4833 4840 4857 4864 4919 4954 4961 4986 4993 5076 5091 5116 5136 5233 5302 5309 5364 5374 5405 5412 5428 5498 5518 5525 5567 5585 5602 5649 5716 5827 5950 6053 6117 6124 6133 6140 6147 6218 6271 6288 6295 6323 6330 6395 6462 6560 6567 6602 6627 6642 6659 6738 6745 6756 6786 6801 6820 6843 6850 6882 6982 7132 7176 7217 7243 7250 7257 7276 7292 7441 7516 7523 7530 7537 7586 7593 7636 7653 7660 7683 7690 7697 7720 7821 7848 7864 7882 7924 7940 7994 8014 8021 8051 8075 8095 8193 8224 8273 8298 8359 8453 8474 8490 8553 8600 8607 8634 8725 8737 8764\n"
     ]
    }
   ],
   "source": [
    "# Find locations of a k-mer pattern within a DNA sequence\n",
    "def find_pattern_indices(seq, pattern):\n",
    "    occurrences = []\n",
    "    k = len(pattern)\n",
    "    # For whole sequence - k\n",
    "    for i in range(len(seq) - k + 1):\n",
    "        # Checking for our pattern using a scanning window of size k \n",
    "        if seq[i:i + k] == pattern:\n",
    "            # If our pattern is found, append the index to occurences list\n",
    "            occurrences.append(i)\n",
    "    occurrences_nocommas = ' '.join(map(str, occurrences))\n",
    "    return occurrences_nocommas\n",
    "\n",
    "\n",
    "\n",
    "file_path = r'C:\\Users\\ryanr\\OneDrive\\Desktop\\Coursera\\Bioinformatics UCSD\\dataset_30273_5.txt'\n",
    "with open(file_path, 'r') as file:\n",
    "    Pattern = file.readline().strip()\n",
    "    Seq = file.readline().strip()\n",
    "\n",
    "result = find_pattern_indices(Seq, Pattern)\n",
    "print(f\"The pattern '{Pattern}' occurs at indices:\\n{result}\")"
   ]
  },
  {
   "cell_type": "markdown",
   "id": "6b824c37-2c3a-4a02-be48-17965c6b26cb",
   "metadata": {},
   "source": [
    "### Finding where 'CTTGATCAT' occurs in the *Vibrio cholerae* genome:"
   ]
  },
  {
   "cell_type": "code",
   "execution_count": 6,
   "id": "c70a97f9-5662-4c85-b37f-23ca7be79195",
   "metadata": {
    "tags": []
   },
   "outputs": [
    {
     "name": "stdout",
     "output_type": "stream",
     "text": [
      "The pattern 'CTTGATCAT' occurs at indices:\n",
      "60039 98409 129189 152283 152354 152411 163207 197028 200160 357976 376771 392723 532935 600085 622755 1065555\n"
     ]
    }
   ],
   "source": [
    "file_path = r'C:\\Users\\ryanr\\OneDrive\\Desktop\\Coursera\\Bioinformatics UCSD\\Vibrio_cholerae.txt'\n",
    "with open(file_path, 'r') as genome:\n",
    "    Seq = genome.readline().strip()\n",
    "    \n",
    "Pattern = 'CTTGATCAT'\n",
    "\n",
    "result = find_pattern_indices(Seq, Pattern)\n",
    "print(f\"The pattern '{Pattern}' occurs at indices:\\n{result}\")"
   ]
  },
  {
   "cell_type": "markdown",
   "id": "83219886-0de2-49ec-b708-e75e2fe4b021",
   "metadata": {},
   "source": [
    "### Find a k-mer pattern forming a 'clump' in a sequence:\n",
    " - ### *Clump(L, t)* denotes a pattern being found *t* times within *L* nucleotides\n",
    " - ### e.g. (50,4)-clump: find all k-mers occuring *t* = 4 times within an *L* = 50 nucleotide section"
   ]
  },
  {
   "cell_type": "code",
   "execution_count": null,
   "id": "00964e26-f3be-4d68-9a15-3a59d4a4e59d",
   "metadata": {},
   "outputs": [],
   "source": [
    "# Pseudocode\n",
    "# Uses previous dictionary method, FrequencyTable\n",
    "FindClumps(Seq, k, L, t)\n",
    "    Patterns ← an array of strings of length 0\n",
    "    n ← |Seq|\n",
    "    for every integer i between 0 and n − L\n",
    "        Window ← Seq(i, L)\n",
    "        freqMap ← FrequencyTable(Window, k)\n",
    "        for every key s in freqMap\n",
    "            if freqMap[s] ≥ t\n",
    "                append s to Patterns\n",
    "    remove duplicates from Patterns\n",
    "    return Patterns"
   ]
  },
  {
   "cell_type": "code",
   "execution_count": 7,
   "id": "49140495-576b-45d0-86f9-87d0dbceeb02",
   "metadata": {
    "tags": []
   },
   "outputs": [
    {
     "name": "stdout",
     "output_type": "stream",
     "text": [
      "10-mers occurring at least 4 times in 100-long segments: GAACCTGGGT AACCTGGGTT CCCCATTGCG CCCCCATTGC CTTGTTGGTG CGCGAGCGGT GCGAGCGGTG TACCTAAAGT TCCAGATACC GTCCAGATAC TGTTACTGCA ACACCCAAAC GCACGGGAGG CACGGGAGGC\n"
     ]
    }
   ],
   "source": [
    "def find_clumps(seq, k, L, t):\n",
    "    patterns = []\n",
    "    for i in range(len(seq) - int(L) + 1):\n",
    "        # Scanning window of length L\n",
    "        window = seq[i:i + int(L)]\n",
    "        # Get freqTable dictionaries of k-mers within L-length windows of sequence\n",
    "        freqMap = freq_table(window, k)\n",
    "        # For each item in dictionary\n",
    "        for j in freqMap:\n",
    "            # If value of key (counts) is t or higher, add to Patterns list\n",
    "            if freqMap[j] >= int(t) and j not in patterns:\n",
    "                patterns.append(j)\n",
    "    patterns_nocommas = ' '.join(map(str, patterns))\n",
    "    return patterns_nocommas\n",
    "\n",
    "\n",
    "\n",
    "file_path = r'C:\\Users\\ryanr\\OneDrive\\Desktop\\Coursera\\Bioinformatics UCSD\\dataset_30274_5.txt'\n",
    "with open(file_path, 'r') as file:\n",
    "    Seq = file.readline().strip()\n",
    "    k, L, t = file.readline().strip().split()\n",
    "\n",
    "result = find_clumps(Seq, k, L, t)\n",
    "print(f\"{k}-mers occurring at least {t} times in {L}-long segments: {result}\")"
   ]
  },
  {
   "cell_type": "markdown",
   "id": "093daf23-cbb3-460c-9f35-a9ba81e5aee1",
   "metadata": {},
   "source": [
    "### How many different 9-mers form (500,3)-clumps in the E. coli genome?"
   ]
  },
  {
   "cell_type": "code",
   "execution_count": 9,
   "id": "fbe9b4ed-bc5c-4346-b5ce-3a4f173b525a",
   "metadata": {
    "tags": []
   },
   "outputs": [
    {
     "name": "stdout",
     "output_type": "stream",
     "text": [
      "Total number of 9-mers that form (500, 3)-Clumps: 1904\n",
      "9-mers occurring in (500, 3)-Clumps in E-coli:\n",
      "['AAAGTGATG', 'TTCTTTTGG', 'GTCGTGGAC', 'CGACGCGGC', 'GCGGTTTAT', 'AGCCCGCTC', 'ACTTGAACC', 'CGGATAAGG', 'GCAGCCGCA', 'GCTGCTGCT', 'TCATCCCCC', 'CGTTGCCTG', 'TTGCCGCCG', 'CATTCTGAT', 'GAGTCATCC', 'GTCGATCCG', 'CGACATCCA', 'AGCGCGCAA', 'TCATAACCC', 'ACGCATTAC', 'GCCGAACCG', 'CTTTTAATC', 'GCAGCCCGC', 'TCCAGCTGA', 'TTATCAAAA', 'GCCGCATCC', 'TGGCGCGTC', 'CGAGTCATC', 'AACGCCTTA', 'CGGCAATCA', 'CAGTTGTCG', 'GCCCTACAT', 'TGATGGTGG', 'CGACCCACC', 'TCACGGTCT', 'TGCGCGCTT', 'ATAAAATAT', 'AGCCGCTTT', 'CCGGTGTGT', 'TATCCGCCC', 'ATTCGAACC', 'GACTGCCGG', 'TAAATATGG', 'GGGGAAGGA', 'AAAGCGGCA', 'TGAACGCCT', 'CGGGGCTTC', 'GACGCGGGG', 'GGCCTACGA', 'GGCGCACAA', 'CCTACACCG', 'ACGACCCAC', 'GTCGCAGGT', 'GCGTTCACG', 'ATGCGGCGC', 'GGTAGAGCA', 'GGGGGATTG', 'CTGACCGAT', 'TGCCGAACC', 'GCCCGCTCA', 'GTAGAGCAG', 'TCGTCGGTT', 'TAGCTCAGT', 'ATTCCGCCA', 'CGCCGAAGC', 'ACGGTCTGT', 'GGGACTTGA', 'ATGGTGCAT', 'AAAATCGCA', 'GACGCATTA', 'ATACCGCTA', 'CGTCCGTAA', 'GGAGTTAAG', 'CATCCTGCA', 'GGAAGGATT', 'GGGGTCGCG', 'TGCATCGGG', 'ACACCTGAA', 'TCTATCCAG', 'GTGGAGCAG', 'TTGGTGCGA', 'GTCTACCAA', 'TTTTAATCA', 'CCCCCACGT', 'ATAAGCGTA', 'AGCTAGCGC', 'TGGCGCACA', 'AGTGCTCCA', 'TTCTTTAAA', 'GATAAGGCG', 'CGCAGGTTC', 'AGAGCACCT', 'GCTTCGCCC', 'TGCGGCAAC', 'ACCAATTCC', 'CCAGTTCCA', 'AAAGAAGCT', 'TGTCGGATG', 'GGACGGTGC', 'GTCATCACC', 'GTAGGCCGG', 'ACCGTGCTG', 'TCGAGTCTC', 'AAGATGCGC', 'CGGTTATGT', 'CTTTTGGGT', 'GTTCGAGTC', 'TGGCACTAT', 'CCTGATGCG', 'AGTTCGAGT', 'ACTGCGTTC', 'AGAGCAGTT', 'GAATAGCTC', 'TGGGCAGAA', 'CACCAGCGC', 'GCAGCCACA', 'CTGGCGCGT', 'AGGTCGGAT', 'GCGCTGCGC', 'CACAGCGTC', 'GCTGCCGGA', 'GTTGCCTGA', 'TCGGTTCGT', 'TGATAAGAC', 'TTGCCGACC', 'TTTCAATAT', 'ACCTGTAGG', 'TAGCGCGTC', 'GGTTCAAAT', 'GTGTGTGCA', 'AGGCCTACG', 'TCAACGCCT', 'CTAACACCT', 'AGTCTCGTT', 'TGCGGGCAG', 'GTGCCGAAC', 'AACAGCAAC', 'GGCCTACAA', 'TGGGGGAAG', 'CGAGCTCTT', 'ATAAGGCGG', 'CGAGCGCCT', 'TTTAATCAA', 'CGATACCCC', 'GCTGTGAAG', 'TGATACCGC', 'GGCACTATG', 'CAGTTGACT', 'GAACCTCCG', 'AACAACCGG', 'GGGATTGAC', 'TGACGCGAC', 'CGCACCAAA', 'ACCGCTACT', 'GTCGTCGGT', 'ACGCCAGAC', 'TTGTAGGCC', 'CCGAAGGTC', 'CATCAGGCG', 'TATCCGGCC', 'GCTCGTCGG', 'TCGAAGCTT', 'GGCAACGGC', 'GCTGTCGCG', 'TTATTGCGG', 'CGCATCCGG', 'TCATCTTTC', 'GCGACTTAT', 'CGGTTTATC', 'TTAGCGTGA', 'ACGCGGGGT', 'TGCGGCACT', 'ACAGCGCAA', 'GTTTTTACG', 'ATTTAGCGT', 'GACGCTGTC', 'TTCGTACGA', 'CGACGCTGG', 'ACTGGAGTT', 'ACGCGACTT', 'ACCGTTGCC', 'GGTTGCGCC', 'GAACCGTAG', 'GGCAGCCCG', 'GTTCACGCC', 'GAACGCCTT', 'CCGCGCAAA', 'GGTCGTCGG', 'CAAAGCGCG', 'GGGTCGCGA', 'AACAGGTCG', 'CATCTAACG', 'AAGCAGAAG', 'AGGTGAAAC', 'GGGGATTGA', 'CCGCAGGCG', 'CCCTCCAAA', 'CCTACATGT', 'AGGGGGGGA', 'GACGCGCAA', 'CACCTTCGC', 'TCCGACATT', 'CGCACAATG', 'AGCAGCCTG', 'GATTTTGTA', 'TGGACAGTC', 'TGATTTAGC', 'GTTATGTTC', 'TACGGAGGG', 'TTATCCGGC', 'GAGTTTGGC', 'ATGCCTGAT', 'TACTCAGCG', 'CATCGGGAA', 'GCAACAGGC', 'GACCTGTAG', 'TACCAATTC', 'TTGCCAAGG', 'ATAAGATGC', 'ATTCATCTT', 'TACCGCTAC', 'CGTCTACCA', 'TTGGGTATA', 'GGATAAGGC', 'CTTACAAGG', 'GCGTGAACG', 'GCGGCGTGA', 'GTTAAATAA', 'GATTAGCTC', 'GCTGAGCTA', 'CCTGCGGGC', 'GAAAAAAAA', 'CTTATCAGG', 'CGGTGAGGG', 'GCCTGCGGC', 'CGGGCAGCC', 'GCCTACAAC', 'CAATTGGTC', 'GGCTGTCGC', 'AATCTGTAG', 'GGCAGAATA', 'GGGGGGGAC', 'GCTGGCTGG', 'ACGGTGCTA', 'TGTCGTGGA', 'CTCGTTTCC', 'GAAAGCCAG', 'CGACATCAA', 'GCGCATCAG', 'ACAGGTCGA', 'AGGTTCGAA', 'GGGGACTTG', 'TGGGTCAAA', 'GTTGGTAGA', 'TGCTGAAAC', 'CATCACCCA', 'CGCTGGCGC', 'ACCCGAAGG', 'CGCCAGCAG', 'ATGATGAAA', 'AAGTTGAAG', 'AGGCTAATG', 'CCAAGGTCG', 'ATTAGCTCA', 'AATCAATGC', 'GCAAGCTGG', 'GAACCCCCA', 'ACTGCCGGA', 'ACTGAACTG', 'GACCGCTCG', 'GCAAGCGTC', 'TTTATGCCG', 'TCCGGGAGG', 'AAGCCGCTT', 'TGCGCCGCT', 'CTGGCGGCA', 'CGTACGAGC', 'GATAAGCGT', 'GTCTTCAAT', 'TGACTTTTA', 'AGCTCTTCT', 'TTGTAGGTC', 'CGCAACCAA', 'CTGGCAGTC', 'TTCAATATT', 'CTCGCTTCG', 'TTGGCAACA', 'TCAGCAGCC', 'CGGTCGGGG', 'TTACGTAAA', 'GCCAGCAGG', 'CTTAACGCG', 'CTACAAAAT', 'CGCTGACGC', 'TGATGCGAC', 'TCAGGCAGT', 'AATGATGAA', 'TGAACCCCC', 'GTAGGCCTG', 'ACCGCTGTG', 'GCTTCGCTC', 'TGCACGACC', 'ACCGGTTGC', 'GTCTGTCCA', 'CGTGCTTCT', 'AGAAAGCGG', 'TGGCTGGGG', 'GCCCGTACT', 'GCGGACTGA', 'TGTGTGCAA', 'GACTTTTAA', 'GCCTACGGA', 'GGTTATGTT', 'CCAAAGCGC', 'GTGGGGGAA', 'TCTGTAGGC', 'GGACAGTCA', 'CAGTTGGCG', 'GGCTAATGC', 'ACAAACGCA', 'GCGTGATTT', 'TCATCCTGC', 'AACCCGCCG', 'CGATGCCTG', 'TCATCCTTC', 'GGGTGGAGC', 'TCATGCCTA', 'ATGGCGGTG', 'TTTACCGCT', 'CCCCCCGGT', 'TGGGAGAGC', 'ACGGATGCA', 'AAAACCCGC', 'CTTGTGCCG', 'TCAGGCAAC', 'GCCGCAACA', 'GCGTTTATG', 'TCGTAGCCG', 'TCTTTTGGG', 'TATTGCCCG', 'TATCCCCGC', 'TTCACGGTC', 'AGCAGCCGC', 'CATGCCGAC', 'GGCTCATAA', 'GTTCGAATC', 'TATCCGACC', 'GACCCACCA', 'CAGGCAACG', 'AGAATATTT', 'TGAACTGGC', 'CCTGCACGA', 'GCCTACAAA', 'GATAAGACG', 'GCTGGGGTA', 'CAACTGGCT', 'CGTGGACAG', 'CTCATCCTT', 'GGCGCGGGG', 'GGTGGGGGA', 'AGCGCGTCT', 'GCACGACTG', 'GTTCAAATC', 'CGAACCGTA', 'AACAGGCTA', 'TTTGTGCTG', 'TCTTATCAG', 'CGCTACGGC', 'TCTTATCAT', 'GGTCGGGGT', 'CCGACCTAC', 'TAAGGCACT', 'TGATGTTGC', 'TAAATAATC', 'CTGATGCGA', 'AAGGTCGGG', 'CGAGTACTC', 'ACCGATGCC', 'CGGATGCGG', 'AGCTGGATG', 'AACCCCCAC', 'TATGGATTA', 'GTTACGCCG', 'GTACTCTAT', 'GCCGAGGAT', 'TTTAGCGTG', 'CATAACCCG', 'CGGATGGCG', 'CATCAACGC', 'AAACGCCTT', 'TCATCCGGC', 'AAGACGCGC', 'GAGAGCACC', 'ATGCGCTTT', 'GAGCACGAC', 'TGGTAGAGC', 'CTGATAAGA', 'CGTCTTATC', 'GGTTACGCC', 'CCTTATCCG', 'TCCCGCTCC', 'TACGGATGG', 'ATGAAATGA', 'TGAATCAGC', 'GTCGGATAA', 'ATCCCCGCT', 'TGAAAGAAG', 'CGCACGACT', 'GAAGCTTCT', 'CGCTACTAA', 'CGAATCCTG', 'ACAGTCATT', 'CCGCCACCT', 'ATAACCCGA', 'TCGGCGGTT', 'TGGCGCTGC', 'CAACGGCTG', 'ACGGATGGC', 'GCTGTCGCC', 'CACGACTGC', 'ACGTCCGTA', 'CTGGCGGCG', 'CCCCGCAAC', 'GCGGGCAGC', 'ACGCTCTTT', 'AAAGCCCGT', 'TGACTCGCT', 'ACAACCGAT', 'CTGCGGCAA', 'GCGCAAAGC', 'GCAACGCTC', 'GGTGGGTCA', 'TGGTCGCAG', 'TCGTTAGCT', 'CCCGGTGTG', 'TCAGCGCTG', 'AGGCATCTG', 'GCAGCCTGG', 'GTCACCATT', 'CGGATACGG', 'ATCCCGTCA', 'GAATTTGTA', 'AGCCGAGTA', 'GCCGAAGCG', 'TGCACTGAA', 'AAAAAAAGC', 'CGACATTAT', 'CAACAACCG', 'GCTGCTGGC', 'GGTTCGAAT', 'TGTGAAGTG', 'CCAGCAGGC', 'TCTTTAAAT', 'AGATGGGAG', 'CAGTTCCAG', 'CGCTCTCTC', 'CGCGTCTTA', 'GTTTATCCC', 'CAATCAATG', 'CGCCCTACA', 'ACTGACCGA', 'TACACCGCT', 'GTTTCCCGC', 'AGGCCGGAT', 'ACGCACAGC', 'TGCGCCTGT', 'ATCCGACAA', 'GGAGGGTGC', 'AAATGATGA', 'TGAACTGTA', 'CTTACCGCT', 'GCTGCGCGC', 'GTCGGGCTC', 'GGCGCTGGA', 'CTACATGTG', 'TCGGTTCAA', 'CCCGTCATC', 'CCTTACCGC', 'GAGCAGTTG', 'CTCACTGCG', 'GCGGCGCGA', 'ACTCGCTTC', 'TTTAAATAT', 'AGAGATGGT', 'ATAGCCTGA', 'CCCGCCGAA', 'GTTTATGCC', 'AGGCGGTTA', 'TCGTGGACA', 'TTACAAGGA', 'CACCCACCA', 'AGACAGCGC', 'TTTTGTAGG', 'AGACGCATA', 'TTACGCCGC', 'GGCACTGGA', 'CCGGTTGCG', 'GGCCGGATA', 'GCGTCTTAT', 'CGAAGCGGG', 'GGTGCGAGG', 'ATTGACTCG', 'AAAAGTTGC', 'TTCGTAGCC', 'GTGCTTCTT', 'GCGGCGTAA', 'GGAGTTAAA', 'CTGGAACAG', 'CGGGGAACA', 'CGGCACTGG', 'TTCGGGTCG', 'GTGGACAGT', 'GAGTCTCGT', 'ACGCTCTCT', 'CACGACCTT', 'TTGAAGTTG', 'GCGGGAATA', 'CGATCCGCG', 'CCCGAAGGT', 'CGCTGTCGC', 'AAGGCGGTT', 'TACGCCGCA', 'GTAGCTCGT', 'CCCGTACTT', 'CGACGCTTG', 'CATCCGGCA', 'CATTATTGC', 'TGCGCTTTG', 'TGGAGTTTG', 'CCGTCATCA', 'GGGAAGGAT', 'AGCTCCGGC', 'GGTCAAAAG', 'GTCATTCAT', 'AGCGGTTGA', 'AAGCGGCAG', 'GCCTACGCC', 'TTCGATCCC', 'GCTCGGTTC', 'ACGCCGCAT', 'GGATGCATC', 'GTCGTTAGC', 'TATGCCGCA', 'CTATGGCAC', 'AAGAACAGG', 'GTCGCATCC', 'CAAGGAGGG', 'CAATATTGG', 'TCGCCCTGC', 'CTACGGATG', 'CCTGAAGCT', 'GGGGAACAC', 'GATACCGCT', 'CTCCACCCC', 'CCTTCGGGT', 'CGGGCTCAT', 'GGGGCTTCT', 'TAGGCCGGA', 'CCTGGCGCT', 'TGGTGCGAG', 'CGCAAGCGT', 'ATCAACGCC', 'AGCGTAGCG', 'CACGCCGCA', 'TTAGCTCAG', 'ATCAGGCGT', 'GCCCCTCCA', 'GCCTGGTAG', 'CCGGACGGT', 'CCGACCTGT', 'TTGGTAGAG', 'CTGCGGGCA', 'AATCCTGCA', 'ACTGTAGGT', 'GATTCGAAC', 'AACTGTAGG', 'AAGCGTCGC', 'AATTCCGCC', 'ACTTTTAAT', 'CTGCGCGCT', 'CTGAGCTAC', 'CAAATCAAC', 'GACTCGCTT', 'CACCTGAAG', 'TGCCTGATG', 'CTGAAGCTA', 'CGGCTGCCG', 'ATTCTGGTG', 'GACATCCAA', 'ATGCGCAAG', 'GACAGTCAT', 'ATGGCACTA', 'GACCGATAA', 'AACCCGAAG', 'CCCTACATG', 'GGCTGGCGT', 'GGAGGATTC', 'GCCGCCAGT', 'AAAAATTGA', 'GCACTGAAC', 'TTGCTTATC', 'TTCGCTCGC', 'GCTATAGCC', 'CGACCTTGC', 'TCAGGCATT', 'GCTCATAAC', 'GCACTTGTG', 'CGTCATCAC', 'GCGCTTCGC', 'GCTGATTGC', 'CCTGATAAG', 'CATCCGACA', 'TCTCATCCT', 'GCGCGCTTC', 'CCGCTCGGT', 'ATAAGGCGT', 'GTGCCTTAC', 'GACGCGACT', 'CAACCGATG', 'TCCGCGCAA', 'GCGGGAATT', 'TTGGTCGCA', 'AGTCATTCA', 'ATCGCATCC', 'CCGCTGACG', 'CTCAGCTGG', 'CCGCTGTTC', 'CCGCTATTG', 'CGCGTCTAC', 'CTGCTGAAA', 'TGGCAATGG', 'GGGGGACTT', 'ATCGGGAAA', 'CTGGGAGAG', 'AAAGCAGAA', 'CATTACGCG', 'CCCACCAAT', 'AGCGCTGCG', 'GCGGGGAAC', 'GACCTACGG', 'CTCTCTCGC', 'GGACTTGAA', 'GAATCTGTA', 'AAATCCGGC', 'GCGAGTTCG', 'GGTTCGTAG', 'AACCTCCGA', 'GTGATTTTG', 'GGCCTGATA', 'CCCCACGTC', 'TTCGAATCC', 'TATCAGGCC', 'CGCGAGTTC', 'GCAATCAAT', 'CCGAACCGT', 'ACATCCAAC', 'TGAAGCTAG', 'CACGCTGCC', 'ATCTTCTTC', 'TCACCCACC', 'GTCCAACTG', 'CAATAGCCT', 'CGGTCTGTC', 'ATTTGTAGG', 'GCACTGGAG', 'GGATAAGAC', 'GGCGCGTCT', 'ATCTGTAGG', 'TTGGCGCAC', 'TCACGCCGC', 'CATCCAACG', 'TGTAGGCCT', 'GCCTGATTT', 'GATGCCTGA', 'GATACCCCA', 'GCACGACCT', 'CTAACGCCC', 'AAGTGCTCC', 'TGGGTATAG', 'ATTACGCGT', 'GTTGGCGCA', 'AATAGCCTG', 'GGTTTTTAC', 'AAGACGCAT', 'CGAAAAAAA', 'CGCACAGCG', 'CCACCTCTT', 'GGCGGTTCG', 'CGTGAACGC', 'CGCGAGCGC', 'TCGATCCCG', 'GGATGCGGC', 'ATGCGGCGT', 'AAGCTTCTC', 'TGATAAAAA', 'GCTTTGTTG', 'CGCCTGATG', 'CGCTCGGTT', 'CGCATTACG', 'CAGCCCGCT', 'GGCGTTCAC', 'CAGGAGTTA', 'TAACCCGAA', 'TTCGAACCT', 'CGCCCTGCG', 'TGAAATGAT', 'CTCCGACCG', 'GGGGGGGGA', 'GGGAACTCT', 'CGACCGCTC', 'GCGTAAACG', 'AACAGCACG', 'TATGTTCCG', 'CATAGCGTC', 'CCGCTTGGC', 'GCTGACGCG', 'GGTCGCAGG', 'AGGCACTTG', 'GCGCCTTAT', 'TGTCGCGTC', 'GAGGGGGTC', 'CACTGGAGT', 'GGATACGGG', 'CGCCGCGCC', 'CGGACGGTG', 'GGATGCGCT', 'AACGGCTGT', 'CTTCTTTAA', 'GCCGCTGAC', 'GCCGCCGTC', 'ACCTGAAGC', 'GAACTGTAG', 'CATCAGGCA', 'CCCGGTTTA', 'GCGGTTCGA', 'GAAGTGCTC', 'CAGCTGGGA', 'CGTTTATGC', 'TCGTCGGGC', 'GCGACGCTT', 'TTAAATGAT', 'CGGATGCGC', 'GAACTGGAA', 'TAGCTCAGC', 'AGGCGTTCA', 'AAACCCGCC', 'ATGCCGCAT', 'CGGCGCGAG', 'GACTTATCA', 'GTCGGGGTC', 'GAGTACTCT', 'GCTACGGAT', 'AATATGGCG', 'GCCCTGCGG', 'CGGTTACGC', 'ACCGCTTGG', 'TCGGGTCGT', 'TTGCGGATT', 'TAGAGCAGT', 'GTCGAAGCT', 'TCAGCGCCT', 'GGTTAACAA', 'AGGTCGTCG', 'CTGCGCCTG', 'AATATCAGC', 'AGCGCAATA', 'GACGCTTAA', 'CTCAGTTGG', 'AACCGTAGG', 'CGGGGTCGC', 'GATAAGGCA', 'CCACCCCGT', 'GGAGGGGGT', 'TTGTGCCGC', 'AGCCGGTTG', 'ATGGTGGTG', 'AATAATCTA', 'ACGAGCTCT', 'AGCTCGTCG', 'AGCACCTCC', 'GGCACTTGT', 'CTAATGCGG', 'GCTACCGCT', 'CCAGACAGC', 'TGATCCAGT', 'GATGCGCTT', 'TCGAATCCT', 'GGCATCTGC', 'GTTGCCAGG', 'AATCAATTG', 'TCATTCATC', 'ACGGCTGCC', 'TGCCGCATC', 'GAAGGATTA', 'GGTCGCGAG', 'CGCGCAAGC', 'GCCAGTTGT', 'CGGGAGGAT', 'GGTAGCTCG', 'TTATGCCGC', 'CAGTTGGTA', 'CTCTCGCTG', 'CCGATGCCT', 'CTTTCGTAC', 'GCATTACGC', 'GTCTGCTTC', 'AAGGCGTTT', 'AGGTTTTCC', 'GGTGCCTTA', 'GCCGTCGAA', 'GCTATTGCC', 'AGAGCACGA', 'TCGCCAGTT', 'GGGTCAAAA', 'CGAGTCTCG', 'CCTACGCCA', 'GCTAGCGCG', 'GTCGCCAGT', 'AGGATTACT', 'CGGTTCAAA', 'CAAGCGTCG', 'TTTGTAGGC', 'CGCCAGACA', 'TACGAGCTC', 'TACGCGTCG', 'TGATTAGCT', 'CACCGTTGC', 'GTGAAACTG', 'CTGGCTGGC', 'GTGAACGCC', 'AAAAAGCCC', 'AAGACGCAC', 'TGCTTCTTC', 'GTTGCCGGA', 'ACAGGCTAA', 'AAATAATCT', 'ACCTCCGAC', 'CCGAGCCGG', 'ACTTATCAG', 'GTCGGCGGT', 'GTGCTCCAC', 'CACTGCGTT', 'GCGAGGGGG', 'CACGACGTT', 'CGGATGCAT', 'ATTGCGGAT', 'ATAAGACGC', 'GCTTCTCAT', 'AGAATCTGT', 'GAAGCGGGT', 'GATAAGCCG', 'CGTTGCTGC', 'CGCATCCGA', 'CGCGTCTGC', 'GCTGGAACA', 'ACGGAGGGT', 'CGCTGCGCG', 'CTTGGCGAT', 'AATAGCTCA', 'CCCCGCTGG', 'CCCTTCGGG', 'GGGGGTCGG', 'CGACGCTTA', 'CGCGTTAGC', 'GAGCTCTTC', 'ATCTATTCA', 'AGACGCATT', 'CGGCGCTGG', 'CGACCTACG', 'TCCGGTTAA', 'GCTCTCTCG', 'GGGGAACTC', 'TCTTTCTGC', 'CTACGGAGG', 'TAGAGCACG', 'GCACGACCC', 'CACTAACAC', 'CTGCCGGAT', 'TAAGGCGTT', 'AAGGATTAC', 'TCCGACCTA', 'TCGGGGCTT', 'TAAGATGCG', 'GGAATAGCT', 'TGTGCCGAA', 'CGGTGCCTT', 'CGAGTTCGA', 'GGGGGGACT', 'GACTTGAAC', 'CCAGTTGTC', 'TTAAATAAT', 'GACGGTGCT', 'GACATTATT', 'CAAGGTCGG', 'TGGCGATAC', 'TGTAGGTCG', 'CACGACCCA', 'CATCCGGGA', 'CTATCCAGC', 'TCAGCTGGG', 'GACGCTGGC', 'GAAGTTGAA', 'GATGGTGCA', 'ACATCAACG', 'GCTACTAAA', 'CCGCCGAAG', 'GCAGGTTCG', 'GTAGCGCAT', 'CGGTTGCGC', 'CTTCGCTCG', 'CGTAAACGC', 'GAGATGGGA', 'AAGCGGGTT', 'ACATTATTG', 'GGGAACTCG', 'AACGCCTGA', 'GGCAACGCT', 'GGTCGATCC', 'GTAGCCGAG', 'GCCGGTATC', 'GCGGTTACG', 'CGCGGGGAA', 'CCTTCCCCG', 'CTTTAAATA', 'CTGAACTGT', 'TGAAGTGCT', 'AAGCTGGAA', 'GCAGCTCCG', 'GTCAAAAGT', 'GCATCCGGG', 'CAGCACGCC', 'GATCGGTTC', 'CCCACGTCC', 'AGCTCAGTT', 'GCGACCAGC', 'TGCGTTCAC', 'CGCTTCGCC', 'ACAATGCCT', 'CTGGCGCAG', 'ATTATTGCG', 'CCGGTTTAT', 'CTGCGTTCA', 'GTGCACTGA', 'AGCAGTTGA', 'GCTAATGCG', 'CTACCGCTA', 'GCCACCTTC', 'TCGCATCCG', 'GTGCCGCAT', 'CTGCAGCTG', 'GGTGGTGGG', 'ACGACGTTC', 'CAACAGGCT', 'TCCGACAAC', 'CCAATTCCG', 'TCGCCCTTC', 'GCGCACAAT', 'TTACTCAGC', 'TCAATATTG', 'CTACCAATT', 'ATAGCGTCG', 'GGGAGAGCA', 'GTCTCGTTT', 'TGGCGGTGA', 'GAGGGTGCG', 'GCAACGGCT', 'ATATTTTTT', 'CCAGCTGAG', 'CTGTGAAGT', 'AAACTGACC', 'TTCACGACG', 'GCCAAGGTC', 'CTTATCATG', 'CCGACAACC', 'ACAGCAACA', 'TTCCGCCAC', 'TTATCAGGC', 'CACTATGGC', 'GCCAGCAGC', 'GCGCGTCTA', 'GTTCACGGT', 'GGTGAGGGG', 'CCGCTGTGA', 'GCTCTTCTT', 'TTGCCTGCG', 'TGCCTTACC', 'CCGACATCC', 'CTGGTAGCT', 'CAGCGCAAT', 'ACGCTGTCG', 'GAATGCCGG', 'GCGCTGGAA', 'AGTTGCCGT', 'TCACGACGT', 'ACGACTGCC', 'GCCTACGGG', 'CAGCGCACC', 'GTGCGAGGG', 'TAGCCGAGT', 'CCGCTACTA', 'CCGGATAAG', 'ATCCTTCCC', 'TAAACGCCT', 'AGACGCGCA', 'GCTCGCCCT', 'TACTAAAGC', 'TTAATCAAT', 'GTACGAGCT', 'CGAAGGTCG', 'AGCCTGGTA', 'CTGTAGGCC', 'GCGCGAGCG', 'GGCAGTTGG', 'GCAACAACC', 'AGACGCGTT', 'CCAGCTCTT', 'ATCGGCATC', 'ATGCGACGC', 'TGCGCACGA', 'ATCCTGCAC', 'CGCTGATTG', 'CCCGCTCAC', 'GGCTGCCGG', 'TGATGCGCC', 'TCGAAGCCG', 'GAAGCTAGC', 'GAACAGCAA', 'GCACAGCGT', 'CGGGTCGTT', 'TGGAACAGC', 'AGTTGGCGC', 'CGATAAGCC', 'CTGATGCGC', 'GCGTCTACC', 'GGTCGTTGC', 'TAGCGTCGC', 'CTTTGCTTA', 'CGACGCTGT', 'AGCGTCGCA', 'CAGACAGCG', 'CGGAGGGTG', 'AGGAGTTAA', 'GGGAGGATT', 'GCGGCGGCG', 'AGGATTCGA', 'TGATAAGCG', 'TCAAAAGTT', 'ACTGGCTGT', 'TACAAAATC', 'TTAACGCGT', 'CTGTTCATA', 'CGCAAGCTG', 'TCGATCCGC', 'GCTGCAGCT', 'GCTGGCGAT', 'TCTGTCCAA', 'CTGCACGAC', 'GTGGGTCAA', 'TCCCGTCAT', 'GTAAACGCC', 'GTCTTATCA', 'TCCTTCCCC', 'GCACCGTTG', 'GGCGTGAAC', 'GCCTACACC', 'ATCAGCACC', 'GATGCGGCG', 'GGTGTGTGC', 'CGCGCTTCG', 'TAAGACGCG', 'TGCATCCGG', 'TGCGTATCG', 'TATTGGTGA', 'GTGATTAGC', 'GGAACAGCA', 'TTATCCCCG', 'CCCCGTAGG', 'GGGTTTTTA', 'AAAGCGGCT', 'TACCGCTTG', 'TCGGGCTCA', 'ACCCACCAC', 'TCGGGGTCG', 'GAGTTCGAG', 'CGTACTTTC', 'GATCCGCGC', 'CCGCCGTCG', 'TCCGACATC', 'TCGTTGCCT', 'CTAGCGCGT', 'CTTGAACCC', 'GGAGAGCAC', 'GTCGGATGC', 'AAAGCCGCC', 'TTCATCTTT', 'ACCGCTCGG', 'CCTCCAAAA', 'AAAAATGAT', 'CTTATCCGG', 'AAGCGTAGC', 'CGCTTCACC', 'CAACGCTCT', 'AAGAGATGG', 'GGCCTACGG', 'GCAGAAGCA', 'CAATGCCTG', 'TATCATGCC', 'TCGAACCCC', 'CCACCTTCG', 'CACTTGTGC', 'GTGCATCCG', 'TAACGCGTC', 'CCTACGGGG', 'CGCTTTGCT', 'GTTAGCGTC', 'CCCGCTCCA', 'TATGGCACT', 'CGGCAGTTG', 'AAAAGCCCG', 'TACGGGGTG', 'CGTCGCATC', 'AAGAAAGCG', 'GCGCGTCTT', 'GGCCTACAC', 'AGCGGGTTT', 'ATCTTTCTG', 'CCGTAGGTC', 'AAAAAGCAG', 'GTCCGTAAG', 'GCAGGAAGG', 'GATAAGATG', 'GGGCAGAAT', 'TACGGATGC', 'GTCGAAGCC', 'AGCGCCTTA', 'AATTGGTCG', 'CAGCTCCGG', 'TTGCCGGAT', 'ATCCGACCT', 'TAACACCTG', 'GAGCCGGTT', 'GTAGGTCGG', 'TGATTTTGT', 'TTTCCCGCT', 'TCGGATGCG', 'CTGTCCAAC', 'CCGCTTTCT', 'GCGCTGCTC', 'AATCTGGCA', 'GGGGGGATT', 'CAGCCTGGT', 'CCCGCTGGC', 'CAGAATATT', 'CGGCAACGC', 'GGGGGAAGG', 'GCCGCTTTC', 'CCAGCAGCA', 'GGGAATTTG', 'GCCGACCTG', 'TTATCATGC', 'TCAAATCCG', 'TCAGGCATC', 'GGCAGGAAG', 'TTTACGTAA', 'TAAGGCGGT', 'GTTTGTAGG', 'AGTTAAATA', 'CCGCATCCG', 'GGTCGTTAG', 'GACAGCGCA', 'GATTGCCGA', 'GTGATGGTG', 'CCGACATCA', 'AAGCCGCCG', 'CACTGAACT', 'ATCCGCCCT', 'GCGGCACTG', 'CATCCCCCC', 'ACGCTGGCG', 'AAAATATTT', 'GGTTCGATC', 'CTTATCCGC', 'GGCAGTCGG', 'CCGGTTGCC', 'CTGTAGGTC', 'CATCATCAT', 'ACCTTGCCA', 'GCACAATGC', 'GACAACCGA', 'ACCTCCCTT', 'AGATGCGCA', 'TGCTGAAAA', 'GGTCGGGGC', 'ACGACCTTG', 'GATTTAGCG', 'GGCGGATGC', 'GCGTTAGCG', 'CAGCCACAA', 'GTGGTGGGG', 'GAGCGCCTT', 'CGGCGTAAA', 'TTAGCGTCG', 'GAAATGATG', 'GATGCATCG', 'AATGCCTGA', 'TCTCTCGCT', 'GGGGTGGAG', 'GCAGTCGGC', 'TCGGAAAGC', 'AAGCCGCTA', 'GCGCTACGG', 'CCACCAGCA', 'CAGAAAAAG', 'CGTGATTTT', 'GGTGCGGGA', 'AGTCGGCAC', 'TACGGTTAT', 'CCGTAGGCC', 'AGTGATGGT', 'CGTAGCGCA', 'CGTGATCGT', 'CGGGGTGGA', 'GGTGAAACT', 'TGCGGCGTA', 'CATCTGCGC', 'GAGCACCTC', 'GGCTGGGGT', 'TGGTAGCTC', 'TGGAGCAGC', 'AAAGTTGCC', 'ATGCGCCGC', 'GTCGCATCA', 'GTTTGGCAA', 'GCGATACCC', 'AAGCGGTTG', 'GCCTGCGCC', 'GATGGTGGT', 'AAATCGCAG', 'GCCGGATGC', 'AGGTCGATC', 'AAATGGCGG', 'TTTGGCAAC', 'GAAAGTGAT', 'TCGAACCTT', 'ACGCGCAAG', 'TATTGCGGC', 'CTCTATCCA', 'GGTGATGTT', 'TAGGCCTGA', 'TAGCCTGAT', 'GAAGGTCGT', 'CAGTCATTC', 'GACGCACAG', 'TGATGAAGC', 'ACCCCGTAG', 'AATTTGTAG', 'CTGCGCACG', 'CAGCAACAG', 'TCATCCTGA', 'CGCCGCAGC', 'TAGCTCGTC', 'AAATGGCGC', 'TGCCGGATG', 'AATATTGGT', 'CGGCCTACG', 'AGCTCAGCT', 'CGGTTCGTA', 'ACTATGGCA', 'CTGCCAGCG', 'CTACACCGC', 'ACCCCCACG', 'GCAGAGAAG', 'CTTGCCAAG', 'GACGCGTTA', 'AAGCGGCTG', 'GCGCAAGCG', 'GGCCTACGC', 'GTTGACGGC', 'TTGAAAGTG', 'ATCCCCCCG', 'TGCACCTTT', 'CCGCAACAA', 'GGATTACTC', 'GCCGCTATT', 'CCTGGTAGC', 'CAGCGTCGC', 'GCACTATGG', 'AAATGGCGA', 'ATCACCCAC', 'GCGCTTTGC', 'TTGGCGATA', 'CCGCTCACT', 'ATAAGGCAC', 'AGCCGCAAC', 'CAATTCCGC', 'AAGGTCGTC', 'TTTTGGGTA', 'AGGCCTACA', 'CGCGTCGCA', 'GTTCGATCC', 'AGGCAACGG', 'TTTTGAAAG', 'AGCAACAGG', 'ATCATGCCT', 'GAGGATTCG', 'ACCGATAAG', 'ATCCGGCAA', 'TACTTTCGT', 'TGGTGGTGG', 'AGCGCACCA', 'CCTCCGACC', 'TGACCGATA', 'AGCCCGTAC', 'TTCACGCCG', 'AGTTGTCGA', 'CCAACTGGC', 'TGCGGGAAT', 'ATGCATCGG', 'GTTCGCCAC', 'ACAGCGTCG', 'CCCCGGTGT', 'AATCGCAGC', 'TAAATATTG', 'TGAGCTACG', 'ATCGTTTGA', 'CTTCTCATC', 'AACGCGTCT', 'AGCTGGAAC', 'GCGGGTTTT', 'TTTTTACGT', 'TGCGGCGTG', 'CTGGCGCGG', 'GTGAGGGGG', 'CGTTTCCCG', 'AAAAGCGGC', 'GCTCACTGC', 'TCGCGAGTT', 'TTACCGCTT', 'ACACTAACA', 'CGGGAATAG', 'GCTGGGAGA', 'AGAAAAAGC', 'CCTTGCCAA', 'AAGGCACTT', 'ACCGTAGGC', 'GGCCCCCGC', 'AACCGATGC', 'GATGCGACG', 'CCGTCGAAG', 'TCGCTTCGC', 'AACTGACCG', 'ATCCGGCAG', 'GCTGGCAGT', 'CGTCGGGCT', 'TACGCCAGA', 'CTGGCTGTC', 'GCTCAGCTG', 'GGCGCTGGC', 'GGCGCAGGC', 'TCCCCGCTG', 'GTGAAGTGC', 'TTTATCGCC', 'ATCAGGCAA', 'GAAGAACAG', 'GCCTGATAA', 'CTACGGTTA', 'GTCGCGTCT', 'TTTGGGTAT', 'TAAGCCGCT', 'TCCTGCACG', 'CGGGGAACT', 'CGCTGTGAA', 'TGAAAGTGA', 'CATCCTTCC', 'CTCGCCCTG', 'GCTTAACGC', 'AGCGGCTGC', 'CATGCCTAC', 'AGGCAGTCG', 'GTTAGCTCA', 'GGGGTCGGC', 'CGCTATTGC', 'CCGATAAGC', 'TCCCTTACA', 'ACGCGTCGC', 'TCCAGACGA', 'TTGACTTTT', 'GTTCGTAGC', 'CGACTTATC', 'ATACAGCGA', 'CAGGCTAAT', 'GCTTATCCG', 'CACCCCGTA', 'TGCGGCGCG', 'TCACTGCGT', 'CAATATCAG', 'GTCGGCACC', 'CTGCCCCTC', 'ACTTTCGTA', 'TTGATACCG', 'ATCCGACAT', 'AATGCCAGC', 'TTCTGCCCC', 'GAAGAAAGC', 'ATTTTGTAG', 'TTATCCGCC', 'AATCCGGCC', 'ATCGCAGCG', 'TGCTTATCC', 'AGATGGTGC', 'GGCAATCAA', 'TTGCGGCAC', 'GTTGACTTT', 'TTTATCCCC', 'ATCCGGGAG', 'CAGTCGGCA', 'GGAATGCCG', 'GCCGCCGCC', 'AAGAACAGC', 'GGGTCGGCG', 'CGCCGCATC', 'ACTGTAGGC', 'AGGCATTTG', 'CCTCCCTTA', 'GTAGAGCAC', 'GCAGAAAAA', 'GCTTGGCGA', 'TCAATTGGT', 'TCCGCCACC', 'GTCGGGGCT', 'CGGCGTGAA', 'GGAGCAGCC', 'GCTCCACCC', 'TCAGGCGTT', 'AAGGAGGGG', 'TCTCGTTTC', 'AGCACGACC', 'GCAATAGCC', 'AGTCATCCT', 'TGCTCCACC', 'TTTCTGCCC', 'AGGGGGTCG', 'GGGCAGCCC', 'GCCTTATCC', 'CTTTCTTTT', 'AAAGCGCGC', 'GCCGACCAG', 'AGACGCACA', 'ATCAATGCC', 'TATCCAGCT', 'ATAAGCCGC', 'GATACGGGC', 'TAGCGCATC', 'GTGCGGGAA', 'TTTTACGTA', 'TTGAACCCC', 'AGCCGCTAT', 'CGGTGCTAC', 'ACTCTATCC', 'CTTCGGGTC', 'CGCTTTGTT', 'CAGCTGAGC', 'GCCAGCCAC', 'ACTAACACC', 'TCGCAGGTT', 'AAATATGGC', 'CAAAGCCGC', 'CCCGTAGGT', 'CCCACCACT', 'ACATCTAAC', 'ACGGTTATG', 'AAAGCGGTT', 'AGCCTGATT', 'AAGCCCGTA', 'TCGTACGAG', 'CGACCTGTA', 'TGTCCAACT', 'TCAGGAGTT', 'CAAGCTGGA', 'CAGGTGAAA', 'GTTGCCTGC', 'CGCAAAGCC', 'GCGTCGCAT', 'GTTGCCGTT', 'CGTAGCCGA', 'ATCAGGCAG', 'AAGTTGCCG', 'GGTGATTAG', 'ATCAGGCAT', 'CCCGGTCGG', 'ATGCCTACA', 'ACGCGTTAG', 'AGTTGACTT', 'TCGCGTCTT', 'GCGGGGTGG', 'GCTGGCGCG', 'ATCAGCAGC', 'ACGCCTTAT', 'TCTCCGTTC', 'CGCCACCTT', 'GCGCACGAC', 'TGTTCATAT', 'TCGGTTTAT', 'AGGAGGGGG', 'ATCAGGCCT', 'GAATCCTGC', 'TGCGAGGGG', 'GCCTTACCG', 'TGGCAACAG', 'GCGGCAACG', 'CAGCCGCAA', 'ATATCAGCA', 'TCAATGCCT', 'ATCCGGCCT', 'ATATTAATA', 'TGCCTGCGG', 'CACCGCTGT', 'CAAATCCGG', 'ACGATATTA', 'TAGGGCAGA', 'ATACCCCAA', 'TCCGGCCTA', 'CGCTTGGCG', 'GGCGTTTAT', 'GATCCCGTC', 'AGCTGAGCT', 'GGTCGGATA', 'GGGTGCGGG', 'CTGTCGCCA', 'GCGACGCTG', 'CGAGCCGGT', 'AAAAAAGCC', 'CCGCTCCAA', 'GGGCTCATA', 'GCCCCCGCA', 'TGAGGGGGG', 'TTGACTCGC', 'CGGGTTTTT', 'GGTCTGTCC', 'CCGGCCCCC', 'TGGCGGATG', 'TTAAATATG', 'AGCTGCAGC', 'CCGAGTACT', 'CCGGCCTAC', 'CCAGAAGAA', 'TGTGCCGCA', 'CATTCATCT', 'TCGGCATCG', 'AGGTCGGGG', 'CTGGCAGTT', 'AAGACGCGT', 'CGCCCTTCG', 'TGCATAATC', 'CGCCTTATC', 'CGTTCTTTA', 'GATGCGCCG', 'GACGCATAG', 'GCAGTTGAC', 'CCTGATTTA', 'GGAATTTGT', 'AGCGTGATT', 'TTCGCCCTT', 'GGCGTAAAC', 'CGCTCGCCC', 'TATAAAATA', 'AGAACAGGT', 'TTCAAATCC', 'GCCAAAGCG', 'CTGGCGGAT', 'AACCGGTTG', 'GGCTTCTCA', 'GAGATGGTG', 'GACCTTGCC', 'AGAAGAACA', 'CTGCTCCCT', 'TCTTCTTTA', 'AGTTTGGCA', 'CGCGCAAAG', 'CCTACAAAA', 'TCCGCCCTA', 'GAGGGGGGG', 'CCGCTGGCG', 'CGCGGGGTG', 'GGATAAGAT', 'AAGCGCGCA', 'TGAAACTGA', 'CGAAGCCGC', 'GCCGGTTGC', 'CCCGGACGG', 'CAGCAGCAA', 'CCACGTCCG', 'GCACCTCCC', 'TAAGAGATG', 'CAGCAGCCG', 'CGGCCCCCG', 'CTCGGTTCG', 'CCTTACAAG', 'CTCCAAAAG', 'GGTGGAGCA', 'ATCCGCGCA', 'TACAAGGAG', 'GATGCGCAA', 'AACTGGCTG', 'GGCGGTGAG', 'CGCTCCAAA', 'CGGTTGCCT', 'GCCGAGTAC', 'GGCGGTTAC', 'TTTCGTACG', 'GGTCGGCGG', 'AGCAGAAGC', 'AGGGTGCGG', 'TCAGTTGGT', 'CCCTTACAA', 'CGAGGGGGG', 'CGACTGCCG', 'CCCCGGTCG', 'TCCGGCCCC', 'ACGCATAGC', 'GCGAAAGTG', 'GGGGGGGAT', 'CGCTCGGCA', 'AAAAACCCG', 'GGCGCTGCT', 'CAGGTTCGA', 'CGCCGCTGA', 'GAAACTGAC', 'TGCCCCTCC', 'GAGTTAAAT', 'GCGCCAGTT', 'ACCCACCAA', 'GCATCCGGC', 'TAGCGTGAT', 'CGCTTCGCT', 'TTTCTTTTG', 'GGTTTATCC', 'ACCCGCCGA', 'CCTACGGAG', 'AAAAAAAAG', 'ATTGGTCGC', 'GCGGATTCG', 'AACACCTGA', 'GTCGGTTCA', 'TGGCGCGGG', 'GAGCAGCCT', 'GACCTTTCG', 'CTGACGCGA', 'CTACGCCAG', 'ATCTAACGC', 'CTGGAGTTT', 'CAGGCATCT', 'CACGTCCGT', 'CAGGTCGAT', 'GGTGCATCC', 'GCTGACGCC', 'GCCTGATGC', 'GCCGGATAA', 'TCTCATCCC', 'GCGTAGCGC', 'ATAATCTAC', 'TCATCACCC', 'TTACGCGTC', 'CTTTTGAAA', 'CTCTTCTTT', 'TTATGTTCC', 'CACAATGCC', 'AGCCGCCGT', 'GCCCTTCGG', 'GGGCTTCTC', 'CTGAAAGAA', 'CCGGATGCG', 'CCTGTAGGC', 'GCTGCTGAA', 'GATCAGCAC', 'AACGCTCTC', 'AAACTGGCA', 'CTCCCTTAC', 'CGGTTCGAT', 'CCGGTCGGG', 'CTTTCTGCC', 'CGTTAGCGT', 'TACTCTATC', 'TGATGAAAT', 'TGGCTGTCG', 'CCGACATTA', 'CAGCAGGCC', 'GTCATCCTG', 'GTGATCGTG', 'CGTTGCCGG', 'CGCTGAAAG', 'AGCGCATCA', 'TATCCAGCG', 'ACACCGCTG', 'TCCGACCGC', 'TCCACCCCG', 'GGGGCAAAA', 'GCATCCGAC', 'TCCAACTGG', 'AAAAAGCCG', 'AGGGGGGGG', 'ACGCTTAAC', 'AGTTGGTAG', 'CGCTCACTG', 'CCGGCAATC', 'GCGAGCGCC', 'CAAAATCGC', 'TTTGAAAGT', 'CAACCGGTT', 'ATCAATTGG', 'CGCTGTAAT', 'TCGTTTCCC', 'TTCGAGTCT', 'CCGAAGCGG', 'GACATCAAC', 'CCCTGCGGG', 'CGTTAGCTC', 'GGAGTTTGG', 'CGCAATAGC', 'TCGCATCAG', 'CAGCGCTGC', 'CGAACCTCC', 'TTCTCATCC', 'ATGAAATTT', 'GCAACCAAT', 'CGGTGTGTG', 'GCATCGGGA', 'TTTGCTTAT', 'AAGGCGTTC', 'CTCGTCGGG', 'GCGCAATAG', 'ACTAAAGCC', 'GTCGCGAGT', 'CTGGGGTAC', 'CGTAGGCCG', 'TTCCGGGTA', 'TGTCGCCAG', 'GGTGCTACC', 'GCATCAGGC', 'TTCCCGCTC', 'GCTCAGTTG', 'ATAGCTCAG', 'GGGAATAGC', 'CTACGGGGT', 'TCGAACCTC', 'CGCCGTCGA', 'CCTGCGGCA', 'TGTGCAATA', 'GATTGACTC', 'AAGTGATGG', 'TCAGGCCTA', 'GCGCGGGGA', 'GGCGCGAGC', 'CCTACGGAT', 'TATCAGCAG', 'CTCATAACC', 'CACCTCCCT', 'CTTCGCCCT', 'ACAACCGGT', 'CGCTTTCTT', 'ACCTACGGT', 'CTGATAAGC', 'CAAAAGTTG', 'CGCTGGTGG', 'GGATTCGAA', 'ACAAGGAGG', 'GAGCTACGG', 'ACAAAATCG', 'GGTAAAGTG', 'GAAGAGATC', 'ACGCCTGAT', 'TCCGGCAAT', 'TGCTCCCTT', 'GAAAGAAGC', 'CGGGAATTT', 'CCGGTGCCT', 'ATGAAGCAA', 'ACTTGTGCC', 'CCGTTGCCG', 'TTGCCTGAT', 'GGTTGCCTG', 'CAACGGTGG', 'GGATTGACT', 'CGCAACAAC', 'TTGCCGTTA', 'CGCATCAGG', 'CCGGGAGGA', 'CAACGCCTG', 'CCGGCAGTT', 'CCCCCGCAA', 'CCGACCGCT', 'ATATGGATT', 'CCGCCCTAC', 'CTGTCGCGT', 'CGGCGGCGG', 'TCTAACGCC', 'CCGTACTTT', 'TGGTGGGGG', 'GTGTGCAAT', 'GCGGTGAGG', 'ACGCGTCTT', 'GGCGATACC', 'TTTGTAGGT', 'AGCTTCTCA', 'AGGTGGGTC', 'TCTGCGCAC', 'TAGGTCGGA', 'TGCCGACCT', 'TCTGCCCCT', 'GTACTTTCG', 'CAGAAGCAG', 'GCCAGACAG', 'TGCCAAGGT', 'TCGGATAAG', 'CTGATTTAG', 'AGCTACGGA', 'CGTTCACGG', 'CGCCAGTTG', 'ATATGGCGG', 'GGCACCGTT', 'CGAAGCTTC', 'CGATCCCGT', 'AGCTGGGAG', 'CAGGCCTAC', 'GCGCTGGCG', 'CGACAACCG', 'ATCCAGCTG', 'ATCTGCGCA', 'CGCATAGCG', 'CGTCGGTTC', 'CATCTTTCT', 'TCGCTCGCC', 'GGGTCGTTA', 'TCCCCCCGG', 'TAATCAATT', 'TGGTGCATC', 'ACTCAGCGC', 'CGTTCACGC', 'TGCAGCTGA', 'GCTTTGCTT', 'TAAGCGTAG', 'CTTCCCCGC', 'ACGACGCGG', 'GCAAAGCCG', 'CGAAGTTGA', 'CACGGTCTG', 'GATGAAATG', 'CAGGCAGTC', 'GCATCTGCG', 'CGTCGAAGC', 'CCTACGGTT', 'TCCGGCAGT', 'AATGGCGCT', 'CCCCTCCAA', 'AACCAGCAG', 'GTCGTTGCC', 'AGGCGTTTA', 'TGCGGATTC', 'CGCTTAACG', 'GAAGCCGCT', 'CTATTGCCC', 'CTGGCGCTG', 'CCGCAACCA', 'GCTTTCTTT', 'ATATTGGTG', 'GCGCGTCTG', 'GCATAGCGT', 'GATTACTCA', 'TATGGCGGT', 'CGGATAAGA', 'CTCAGCGCT', 'CGGCGGTTC', 'CGCGACTTA', 'CCTACAACT', 'ACGAAAAAA', 'TAAGACGCA', 'CTACTAAAG', 'CCCCCGGTG', 'ATTACTCAG', 'GAAAAAGCC', 'CAGGCATTT', 'GCGGATGCG', 'AAGCTAGCG', 'ATCCAGCGT', 'CGGCCTACA', 'GGGTGATTA', 'AGGCCTGAT', 'TCTCACTCC', 'CAGAAGAAC', 'GCGCCGCTG', 'TCTACCAAT', 'TGCGACGCT', 'CACTGTAGG', 'AGTACTCTA', 'GCAGTTGGC', 'ATCCGGCCC', 'TAATGCGGA', 'CCCGCAACC', 'GAAAGCGGC', 'GGGTCGTTG', 'GGTGCACTG', 'GCAGAATAT', 'CTCATCCCC', 'ATTGCGGCA']\n"
     ]
    }
   ],
   "source": [
    "from collections import defaultdict\n",
    "\n",
    "# Faster/more efficient code for longer genomes\n",
    "def find_clumps_V2(seq, k, L, t):\n",
    "    patterns = set()\n",
    "    # Make one freqMap dictionary, default key values = 0\n",
    "    freqMap = defaultdict(int)\n",
    "    # Add each pattern to freqMap for first window\n",
    "    for nuc in range(L):\n",
    "        pattern = seq[nuc:nuc + k]\n",
    "        freqMap[pattern] += 1\n",
    "        if freqMap[pattern] == t:\n",
    "            patterns.add(pattern)\n",
    "    # Slide the window and update the frequency table incrementally\n",
    "    for nuc in range(1, len(seq) - L + 1):\n",
    "        old_pattern = seq[nuc - 1:nuc - 1 + k]\n",
    "        # Decrement the k-mer that exited to avoid double counts in the current window\n",
    "        freqMap[old_pattern] -= 1\n",
    "        new_pattern = seq[nuc + L - k:nuc + L]\n",
    "        # Increment the new k-mer that entered window\n",
    "        freqMap[new_pattern] += 1\n",
    "        if freqMap[new_pattern] == t:\n",
    "            patterns.add(new_pattern)\n",
    "    return list(patterns)\n",
    "\n",
    "\n",
    "\n",
    "file_path = r'C:\\Users\\ryanr\\OneDrive\\Desktop\\Coursera\\Bioinformatics UCSD\\E_coli.txt'\n",
    "with open(file_path, 'r') as file:\n",
    "    Seq = file.readline().strip()\n",
    "    \n",
    "k = 9\n",
    "L = 500\n",
    "t = 3\n",
    "\n",
    "result = find_clumps_V2(Seq, k, L, t)\n",
    "print(f\"Total number of {k}-mers that form (500, 3)-Clumps:\", len(result))\n",
    "print(f\"{k}-mers occurring in (500, 3)-Clumps in E-coli:\\n\", result, sep='')"
   ]
  }
 ],
 "metadata": {
  "kernelspec": {
   "display_name": "Python 3 (ipykernel)",
   "language": "python",
   "name": "python3"
  },
  "language_info": {
   "codemirror_mode": {
    "name": "ipython",
    "version": 3
   },
   "file_extension": ".py",
   "mimetype": "text/x-python",
   "name": "python",
   "nbconvert_exporter": "python",
   "pygments_lexer": "ipython3",
   "version": "3.11.3"
  }
 },
 "nbformat": 4,
 "nbformat_minor": 5
}
