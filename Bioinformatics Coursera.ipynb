{
 "cells": [
  {
   "cell_type": "markdown",
   "id": "66743892-0fbb-4323-81b5-5a653b787794",
   "metadata": {},
   "source": [
    "### Getting the number of each nucleotide in *Vibrio cholerae*:"
   ]
  },
  {
   "cell_type": "code",
   "execution_count": 1,
   "id": "9a987b22-bb8f-4d81-92f5-7edf24420a45",
   "metadata": {
    "tags": []
   },
   "outputs": [
    {
     "name": "stdout",
     "output_type": "stream",
     "text": [
      "A: 293942\n",
      "T: 294711\n",
      "C: 263573\n",
      "G: 256024\n"
     ]
    }
   ],
   "source": [
    "file_path = r'C:\\Users\\ryanr\\OneDrive\\Desktop\\Bioinformatics Coursera\\Vibrio_cholerae_genome_seq.txt'\n",
    "\n",
    "with open(file_path, 'r') as genome:\n",
    "    gen_seq = genome.readlines()\n",
    "\n",
    "print(\"A: \" + str(gen_seq[0].count('A')))\n",
    "print(\"T: \" + str(gen_seq[0].count('T')))\n",
    "print(\"C: \" + str(gen_seq[0].count('C')))\n",
    "print(\"G: \" + str(gen_seq[0].count('G')))"
   ]
  },
  {
   "cell_type": "markdown",
   "id": "120f5edc-6c82-4903-835b-c6a98a27ab5d",
   "metadata": {},
   "source": [
    "### Counting pattern occurrences in a sequence:"
   ]
  },
  {
   "cell_type": "code",
   "execution_count": null,
   "id": "6f0a1c9c-a46f-444a-870f-a8295ea52122",
   "metadata": {},
   "outputs": [],
   "source": [
    "# Pseudocode\n",
    "Seq = GACCATACTG\n",
    "Pattern = ATA\n",
    "\n",
    "PatternCount(seq, pattern)\n",
    "    count ← 0\n",
    "    for i ← 0 to |seq| − |pattern|\n",
    "        if seq(i, |pattern|) = pattern\n",
    "            count ← count + 1\n",
    "    return count"
   ]
  },
  {
   "cell_type": "markdown",
   "id": "c348d419-7c64-4626-8540-fe14e47bb6d3",
   "metadata": {},
   "source": [
    "### **Answer:**"
   ]
  },
  {
   "cell_type": "code",
   "execution_count": 2,
   "id": "9deddec9-0dc9-4cae-80ce-b64eedd658e0",
   "metadata": {
    "tags": []
   },
   "outputs": [
    {
     "name": "stdout",
     "output_type": "stream",
     "text": [
      "Seq: TAGAGATTATCCAATTATCCACCGTTATCCAATTTATCCACATTATCCATTTATCCAGTTATCCACTTATCCAGTTATCCATTGATTATCCATTATCCAGTCTTATCCATTTATCCATTATCCATTATCCATTATCCATTATCCATTATCCATTATCCAATTTATCCATTATCCAGGAACACCGGCAATGCCAGTTATCCAGATTATCCATTATCCATTATCCAACCGATTATCCAGCTTATCCACTGCCGTACATGATTATCCATTATCCAAATACAGTTATCCATAATTATCCAGGGTATTTATCCATTATCCAACTTATCCATTTATCCATTATCCATATTATCCAGGCACGCGTTATCCAGAGTGACTTGTTATCCATTTTATCCACATTATCCACAATAGTATTTATCCATTATCCAAAGCGCGTTATCCAAGTTATCCATTATCCATTATCCACCAACATTATCCAGATTATCCATGTGTTATCCAGTTATCCAGAGTTATCCAACACTTATCCACTTATCCATTTATCCATTATCCACCCATTATCCATTATCCACTGTCCTTATCCATGTTATCCACATTATCCATTTATCCATTATCCAGCTTTATCCACATCTTTATCCATTATCCAGACCATTATCCATGCTTATCCAAGGATCTTATCCACGAAGTTATCCATATACATTCAACGTTATCCACATAATTTATCCATTATCCATTATCCAACTTATCCAGTTATCCACTTATCCAGGCTTATCCAACCTTTATCCATTATCCAAGTCTTATCCATACTTATCCATTATCCACTTATCCATATTATCCACCCGTTATCCACGGTTATCCAGTTATCCACTTATCCAATTATCCATTATCCATTTATCCATTCTTTTATCCACTTTATCCACATGAGTATTTTATCCACGTTATCCAAGTTATCCATTTTATCCATTATCCATTATCCATTATCCACTCTTATCCACCGATTATCCAATTTATCCA\n",
      "Pattern: TTATCCATT\n"
     ]
    }
   ],
   "source": [
    "file_path = r'C:\\Users\\ryanr\\OneDrive\\Desktop\\Bioinformatics Coursera\\dataset_30272_6.txt'\n",
    "with open(file_path, 'r') as file:\n",
    "    # Read the first line and assign it to the variable 'Seq'\n",
    "    Seq = file.readline().strip()\n",
    "    # Read the second line and assign it to the variable 'pattern'\n",
    "    Pattern = file.readline().strip()\n",
    "print(\"Seq:\", Seq)\n",
    "print(\"Pattern:\", Pattern)"
   ]
  },
  {
   "cell_type": "code",
   "execution_count": 3,
   "id": "7f5d3245-211e-4bbf-93a2-e46dac75b193",
   "metadata": {
    "tags": []
   },
   "outputs": [
    {
     "name": "stdout",
     "output_type": "stream",
     "text": [
      "38\n"
     ]
    }
   ],
   "source": [
    "def PatternCount(seq, pattern):\n",
    "    count = 0\n",
    "    for i in range(len(seq) - len(pattern)):\n",
    "        if seq[i:i + len(pattern)] == pattern:\n",
    "            count += 1\n",
    "    return count\n",
    "\n",
    "pattern_occurances = PatternCount(Seq, Pattern)\n",
    "print(pattern_occurances)"
   ]
  },
  {
   "cell_type": "markdown",
   "id": "0b6478ba-e8df-40fe-a092-97af4d44bda3",
   "metadata": {},
   "source": [
    "### Counting the most frequent pattern occurrences (k-mers of length 2, 3, etc.) in a sequence:"
   ]
  },
  {
   "cell_type": "code",
   "execution_count": null,
   "id": "73bd256d-f4a9-455b-84dd-262f110af885",
   "metadata": {},
   "outputs": [],
   "source": [
    "#Pseudocode\n",
    "FrequentWords(Seq, k)\n",
    "    FrequentPatterns ← an empty set\n",
    "    for i ← 0 to |Seq| − k\n",
    "        Pattern ← the k-mer Seq(i, k)\n",
    "        Count(i) ← PatternCount(Seq, Pattern)\n",
    "    maxCount ← maximum value in array Count\n",
    "    for i ← 0 to |Seq| − k\n",
    "        if Count(i) = maxCount\n",
    "            add Seq(i, k) to FrequentPatterns\n",
    "    remove duplicates from FrequentPatterns\n",
    "    return FrequentPatterns"
   ]
  },
  {
   "cell_type": "code",
   "execution_count": null,
   "id": "2fd185a3-346d-4f85-bf8b-611fc9b80993",
   "metadata": {},
   "outputs": [],
   "source": [
    "#Pseudocode\n",
    "# Takes a string 'Seq' and an integer 'k' (k-mer length) as input and returns their\n",
    "# frequency table as a map of string keys to integer values\n",
    "FrequencyTable(Seq, k)\n",
    "    freqMap ← empty map\n",
    "    n ← |Seq|\n",
    "    for i ← 0 to n − k\n",
    "        Pattern ← Seq(i, k)\n",
    "        if freqMap[Pattern] doesn't exist\n",
    "            freqMap[Pattern]← 1\n",
    "        else\n",
    "           freqMap[pattern] ← freqMap[pattern] + 1 \n",
    "    return freqMap\n",
    "Example of freqMap output:\n",
    "[ ACT | GCA | TCC | ... ]\n",
    "[  0  |  3  |  1  | ... ]"
   ]
  },
  {
   "cell_type": "code",
   "execution_count": null,
   "id": "0463e4bc-1a1d-4575-83bf-446c243d4c34",
   "metadata": {},
   "outputs": [],
   "source": [
    "# More efficient way of finding most frequent pattern occurances\n",
    "# Pseudocode\n",
    "# function MaxMap takes a map of strings to integers as input and returns the max value of this map as output\n",
    "BetterFrequentWords(Seq, k)\n",
    "    FrequentPatterns ← an array of strings of length 0\n",
    "    freqMap ← FrequencyTable(Seq, k)\n",
    "    max ← MaxMap(freqMap)\n",
    "    for all strings Pattern in freqMap\n",
    "        if freqMap[pattern] = max\n",
    "            append Pattern to frequentPatterns\n",
    "    return frequentPatterns"
   ]
  },
  {
   "cell_type": "markdown",
   "id": "688ff7e0-e67c-4531-98a9-db2b88c09caa",
   "metadata": {},
   "source": [
    "### **Answer:**"
   ]
  },
  {
   "cell_type": "code",
   "execution_count": 4,
   "id": "c91df483-191e-420a-82f7-c23995eb6afb",
   "metadata": {
    "tags": []
   },
   "outputs": [
    {
     "name": "stdout",
     "output_type": "stream",
     "text": [
      "seq: ATTTGGCATTTGGCATTTGGCATTTGGCTACGTTTTTTTGACAAAATTTGGCGGATAGTTTTGACAAAATTTGGCTACGTTTTGGATAGTGGATAGTTACGTTTTATTTGGCTTTGACAAAGGATAGTATTTGGCTACGTTTTGGATAGTATTTGGCATTTGGCTTTGACAAATTTGACAAATACGTTTTATTTGGCTACGTTTTTACGTTTTGGATAGTGGATAGTATTTGGCTTTGACAAATACGTTTTGGATAGTCTAGGGCCAGGATAGTCTAGGGCCATTTGACAAATACGTTTTATTTGGCTTTGACAAATTTGACAAATACGTTTTCTAGGGCCAATTTGGCTACGTTTTGGATAGTGGATAGTATTTGGCCTAGGGCCAATTTGGCATTTGGCATTTGGCCTAGGGCCATACGTTTTTACGTTTTGGATAGTTTTGACAAAGGATAGTTACGTTTTTACGTTTTGGATAGTGGATAGTATTTGGCCTAGGGCCAGGATAGTCTAGGGCCATACGTTTTGGATAGTATTTGGCATTTGGCGGATAGTATTTGGCTACGTTTTTACGTTTTTTTGACAAATACGTTTTTACGTTTTCTAGGGCCACTAGGGCCACTAGGGCCACTAGGGCCAGGATAGTGGATAGTATTTGGCTACGTTTTGGATAGTTTTGACAAATACGTTTTTTTGACAAATTTGACAAATACGTTTTTTTGACAAAGGATAGTTACGTTTTATTTGGCCTAGGGCCAATTTGGCTTTGACAAAATTTGGCCTAGGGCCATTTGACAAATTTGACAAAGGATAGTATTTGGCTACGTTTTTACGTTTTTACGTTTTTACGTTTTGGATAGTCTAGGGCCA\n",
      "k: 14\n",
      "Frequency Table: {'ATTTGGCATTTGGC': 8, 'TTTGGCATTTGGCA': 4, 'TTGGCATTTGGCAT': 4, 'TGGCATTTGGCATT': 4, 'GGCATTTGGCATTT': 4, 'GCATTTGGCATTTG': 4, 'CATTTGGCATTTGG': 4, 'TTTGGCATTTGGCT': 3, 'TTGGCATTTGGCTA': 2, 'TGGCATTTGGCTAC': 2, 'GGCATTTGGCTACG': 2, 'GCATTTGGCTACGT': 2, 'CATTTGGCTACGTT': 2, 'ATTTGGCTACGTTT': 9, 'TTTGGCTACGTTTT': 9, 'TTGGCTACGTTTTT': 5, 'TGGCTACGTTTTTT': 2, 'GGCTACGTTTTTTT': 2, 'GCTACGTTTTTTTG': 2, 'CTACGTTTTTTTGA': 2, 'TACGTTTTTTTGAC': 5, 'ACGTTTTTTTGACA': 5, 'CGTTTTTTTGACAA': 5, 'GTTTTTTTGACAAA': 5, 'TTTTTTTGACAAAA': 2, 'TTTTTTGACAAAAT': 2, 'TTTTTGACAAAATT': 2, 'TTTTGACAAAATTT': 3, 'TTTGACAAAATTTG': 4, 'TTGACAAAATTTGG': 4, 'TGACAAAATTTGGC': 4, 'GACAAAATTTGGCG': 2, 'ACAAAATTTGGCGG': 2, 'CAAAATTTGGCGGA': 2, 'AAAATTTGGCGGAT': 2, 'AAATTTGGCGGATA': 2, 'AATTTGGCGGATAG': 2, 'ATTTGGCGGATAGT': 3, 'TTTGGCGGATAGTT': 2, 'TTGGCGGATAGTTT': 2, 'TGGCGGATAGTTTT': 2, 'GGCGGATAGTTTTG': 2, 'GCGGATAGTTTTGA': 2, 'CGGATAGTTTTGAC': 2, 'GGATAGTTTTGACA': 4, 'GATAGTTTTGACAA': 4, 'ATAGTTTTGACAAA': 4, 'TAGTTTTGACAAAA': 2, 'AGTTTTGACAAAAT': 2, 'GTTTTGACAAAATT': 2, 'GACAAAATTTGGCT': 2, 'ACAAAATTTGGCTA': 2, 'CAAAATTTGGCTAC': 2, 'AAAATTTGGCTACG': 2, 'AAATTTGGCTACGT': 2, 'AATTTGGCTACGTT': 3, 'TTGGCTACGTTTTG': 5, 'TGGCTACGTTTTGG': 5, 'GGCTACGTTTTGGA': 5, 'GCTACGTTTTGGAT': 5, 'CTACGTTTTGGATA': 5, 'TACGTTTTGGATAG': 11, 'ACGTTTTGGATAGT': 11, 'CGTTTTGGATAGTG': 5, 'GTTTTGGATAGTGG': 5, 'TTTTGGATAGTGGA': 5, 'TTTGGATAGTGGAT': 5, 'TTGGATAGTGGATA': 5, 'TGGATAGTGGATAG': 5, 'GGATAGTGGATAGT': 6, 'GATAGTGGATAGTT': 2, 'ATAGTGGATAGTTA': 2, 'TAGTGGATAGTTAC': 2, 'AGTGGATAGTTACG': 2, 'GTGGATAGTTACGT': 2, 'TGGATAGTTACGTT': 2, 'GGATAGTTACGTTT': 4, 'GATAGTTACGTTTT': 4, 'ATAGTTACGTTTTA': 3, 'TAGTTACGTTTTAT': 3, 'AGTTACGTTTTATT': 3, 'GTTACGTTTTATTT': 3, 'TTACGTTTTATTTG': 3, 'TACGTTTTATTTGG': 5, 'ACGTTTTATTTGGC': 5, 'CGTTTTATTTGGCT': 4, 'GTTTTATTTGGCTT': 3, 'TTTTATTTGGCTTT': 3, 'TTTATTTGGCTTTG': 3, 'TTATTTGGCTTTGA': 3, 'TATTTGGCTTTGAC': 4, 'ATTTGGCTTTGACA': 6, 'TTTGGCTTTGACAA': 6, 'TTGGCTTTGACAAA': 6, 'TGGCTTTGACAAAG': 2, 'GGCTTTGACAAAGG': 2, 'GCTTTGACAAAGGA': 2, 'CTTTGACAAAGGAT': 2, 'TTTGACAAAGGATA': 5, 'TTGACAAAGGATAG': 5, 'TGACAAAGGATAGT': 5, 'GACAAAGGATAGTA': 3, 'ACAAAGGATAGTAT': 3, 'CAAAGGATAGTATT': 3, 'AAAGGATAGTATTT': 3, 'AAGGATAGTATTTG': 3, 'AGGATAGTATTTGG': 3, 'GGATAGTATTTGGC': 10, 'GATAGTATTTGGCT': 6, 'ATAGTATTTGGCTA': 5, 'TAGTATTTGGCTAC': 5, 'AGTATTTGGCTACG': 5, 'GTATTTGGCTACGT': 5, 'TATTTGGCTACGTT': 6, 'CGTTTTGGATAGTA': 3, 'GTTTTGGATAGTAT': 3, 'TTTTGGATAGTATT': 3, 'TTTGGATAGTATTT': 3, 'TTGGATAGTATTTG': 3, 'TGGATAGTATTTGG': 7, 'GATAGTATTTGGCA': 3, 'ATAGTATTTGGCAT': 3, 'TAGTATTTGGCATT': 3, 'AGTATTTGGCATTT': 3, 'GTATTTGGCATTTG': 3, 'TATTTGGCATTTGG': 3, 'TTGGCATTTGGCTT': 2, 'TGGCATTTGGCTTT': 2, 'GGCATTTGGCTTTG': 2, 'GCATTTGGCTTTGA': 2, 'CATTTGGCTTTGAC': 2, 'TGGCTTTGACAAAT': 4, 'GGCTTTGACAAATT': 3, 'GCTTTGACAAATTT': 3, 'CTTTGACAAATTTG': 3, 'TTTGACAAATTTGA': 5, 'TTGACAAATTTGAC': 5, 'TGACAAATTTGACA': 5, 'GACAAATTTGACAA': 5, 'ACAAATTTGACAAA': 5, 'CAAATTTGACAAAT': 4, 'AAATTTGACAAATA': 4, 'AATTTGACAAATAC': 4, 'ATTTGACAAATACG': 5, 'TTTGACAAATACGT': 8, 'TTGACAAATACGTT': 8, 'TGACAAATACGTTT': 8, 'GACAAATACGTTTT': 8, 'ACAAATACGTTTTA': 3, 'CAAATACGTTTTAT': 3, 'AAATACGTTTTATT': 3, 'AATACGTTTTATTT': 3, 'ATACGTTTTATTTG': 3, 'GTTTTATTTGGCTA': 2, 'TTTTATTTGGCTAC': 2, 'TTTATTTGGCTACG': 2, 'TTATTTGGCTACGT': 2, 'TGGCTACGTTTTTA': 4, 'GGCTACGTTTTTAC': 4, 'GCTACGTTTTTACG': 4, 'CTACGTTTTTACGT': 4, 'TACGTTTTTACGTT': 9, 'ACGTTTTTACGTTT': 9, 'CGTTTTTACGTTTT': 9, 'GTTTTTACGTTTTG': 5, 'TTTTTACGTTTTGG': 5, 'TTTTACGTTTTGGA': 5, 'TTTACGTTTTGGAT': 5, 'TTACGTTTTGGATA': 5, 'GATAGTGGATAGTA': 5, 'ATAGTGGATAGTAT': 5, 'TAGTGGATAGTATT': 5, 'AGTGGATAGTATTT': 5, 'GTGGATAGTATTTG': 5, 'ATAGTATTTGGCTT': 2, 'TAGTATTTGGCTTT': 2, 'AGTATTTGGCTTTG': 2, 'GTATTTGGCTTTGA': 2, 'GGCTTTGACAAATA': 2, 'GCTTTGACAAATAC': 2, 'CTTTGACAAATACG': 2, 'ACAAATACGTTTTG': 2, 'CAAATACGTTTTGG': 2, 'AAATACGTTTTGGA': 2, 'AATACGTTTTGGAT': 2, 'ATACGTTTTGGATA': 3, 'CGTTTTGGATAGTC': 3, 'GTTTTGGATAGTCT': 3, 'TTTTGGATAGTCTA': 3, 'TTTGGATAGTCTAG': 3, 'TTGGATAGTCTAGG': 3, 'TGGATAGTCTAGGG': 3, 'GGATAGTCTAGGGC': 5, 'GATAGTCTAGGGCC': 5, 'ATAGTCTAGGGCCA': 5, 'TAGTCTAGGGCCAG': 2, 'AGTCTAGGGCCAGG': 2, 'GTCTAGGGCCAGGA': 2, 'TCTAGGGCCAGGAT': 2, 'CTAGGGCCAGGATA': 4, 'TAGGGCCAGGATAG': 4, 'AGGGCCAGGATAGT': 4, 'GGGCCAGGATAGTC': 3, 'GGCCAGGATAGTCT': 3, 'GCCAGGATAGTCTA': 3, 'CCAGGATAGTCTAG': 3, 'CAGGATAGTCTAGG': 3, 'AGGATAGTCTAGGG': 3, 'TAGTCTAGGGCCAT': 3, 'AGTCTAGGGCCATT': 2, 'GTCTAGGGCCATTT': 2, 'TCTAGGGCCATTTG': 2, 'CTAGGGCCATTTGA': 3, 'TAGGGCCATTTGAC': 3, 'AGGGCCATTTGACA': 3, 'GGGCCATTTGACAA': 3, 'GGCCATTTGACAAA': 3, 'GCCATTTGACAAAT': 3, 'CCATTTGACAAATA': 2, 'CATTTGACAAATAC': 2, 'ACAAATACGTTTTC': 2, 'CAAATACGTTTTCT': 2, 'AAATACGTTTTCTA': 2, 'AATACGTTTTCTAG': 2, 'ATACGTTTTCTAGG': 2, 'TACGTTTTCTAGGG': 3, 'ACGTTTTCTAGGGC': 3, 'CGTTTTCTAGGGCC': 3, 'GTTTTCTAGGGCCA': 3, 'TTTTCTAGGGCCAA': 2, 'TTTCTAGGGCCAAT': 2, 'TTCTAGGGCCAATT': 2, 'TCTAGGGCCAATTT': 2, 'CTAGGGCCAATTTG': 4, 'TAGGGCCAATTTGG': 4, 'AGGGCCAATTTGGC': 4, 'GGGCCAATTTGGCT': 3, 'GGCCAATTTGGCTA': 2, 'GCCAATTTGGCTAC': 2, 'CCAATTTGGCTACG': 2, 'CAATTTGGCTACGT': 2, 'GATAGTATTTGGCC': 3, 'ATAGTATTTGGCCT': 3, 'TAGTATTTGGCCTA': 3, 'AGTATTTGGCCTAG': 3, 'GTATTTGGCCTAGG': 3, 'TATTTGGCCTAGGG': 4, 'ATTTGGCCTAGGGC': 6, 'TTTGGCCTAGGGCC': 6, 'TTGGCCTAGGGCCA': 6, 'TGGCCTAGGGCCAA': 3, 'GGCCTAGGGCCAAT': 3, 'GCCTAGGGCCAATT': 3, 'CCTAGGGCCAATTT': 3, 'GGGCCAATTTGGCA': 2, 'GGCCAATTTGGCAT': 2, 'GCCAATTTGGCATT': 2, 'CCAATTTGGCATTT': 2, 'CAATTTGGCATTTG': 2, 'AATTTGGCATTTGG': 2, 'TTTGGCATTTGGCC': 2, 'TTGGCATTTGGCCT': 2, 'TGGCATTTGGCCTA': 2, 'GGCATTTGGCCTAG': 2, 'GCATTTGGCCTAGG': 2, 'CATTTGGCCTAGGG': 2, 'TGGCCTAGGGCCAT': 3, 'GGCCTAGGGCCATA': 2, 'GCCTAGGGCCATAC': 2, 'CCTAGGGCCATACG': 2, 'CTAGGGCCATACGT': 3, 'TAGGGCCATACGTT': 3, 'AGGGCCATACGTTT': 3, 'GGGCCATACGTTTT': 3, 'GGCCATACGTTTTT': 2, 'GCCATACGTTTTTA': 2, 'CCATACGTTTTTAC': 2, 'CATACGTTTTTACG': 2, 'ATACGTTTTTACGT': 3, 'CGTTTTGGATAGTT': 3, 'GTTTTGGATAGTTT': 3, 'TTTTGGATAGTTTT': 3, 'TTTGGATAGTTTTG': 3, 'TTGGATAGTTTTGA': 3, 'TGGATAGTTTTGAC': 3, 'TAGTTTTGACAAAG': 2, 'AGTTTTGACAAAGG': 2, 'GTTTTGACAAAGGA': 2, 'TTTTGACAAAGGAT': 3, 'GACAAAGGATAGTT': 3, 'ACAAAGGATAGTTA': 3, 'CAAAGGATAGTTAC': 3, 'AAAGGATAGTTACG': 3, 'AAGGATAGTTACGT': 3, 'AGGATAGTTACGTT': 3, 'ATAGTTACGTTTTT': 2, 'TAGTTACGTTTTTA': 2, 'AGTTACGTTTTTAC': 2, 'GTTACGTTTTTACG': 2, 'TTACGTTTTTACGT': 4, 'TGGCCTAGGGCCAG': 2, 'GGCCTAGGGCCAGG': 2, 'GCCTAGGGCCAGGA': 2, 'CCTAGGGCCAGGAT': 2, 'AGTCTAGGGCCATA': 2, 'GTCTAGGGCCATAC': 2, 'TCTAGGGCCATACG': 2, 'GGCCATACGTTTTG': 2, 'GCCATACGTTTTGG': 2, 'CCATACGTTTTGGA': 2, 'CATACGTTTTGGAT': 2, 'TTTGGCATTTGGCG': 2, 'TTGGCATTTGGCGG': 2, 'TGGCATTTGGCGGA': 2, 'GGCATTTGGCGGAT': 2, 'GCATTTGGCGGATA': 2, 'CATTTGGCGGATAG': 2, 'TTTGGCGGATAGTA': 2, 'TTGGCGGATAGTAT': 2, 'TGGCGGATAGTATT': 2, 'GGCGGATAGTATTT': 2, 'GCGGATAGTATTTG': 2, 'CGGATAGTATTTGG': 2, 'GTTTTTACGTTTTT': 4, 'TTTTTACGTTTTTT': 2, 'TTTTACGTTTTTTT': 2, 'TTTACGTTTTTTTG': 2, 'TTACGTTTTTTTGA': 2, 'TTTTTTTGACAAAT': 3, 'TTTTTTGACAAATA': 2, 'TTTTTGACAAATAC': 2, 'TTTTGACAAATACG': 3, 'ACAAATACGTTTTT': 4, 'CAAATACGTTTTTA': 2, 'AAATACGTTTTTAC': 2, 'AATACGTTTTTACG': 2, 'GTTTTTACGTTTTC': 2, 'TTTTTACGTTTTCT': 2, 'TTTTACGTTTTCTA': 2, 'TTTACGTTTTCTAG': 2, 'TTACGTTTTCTAGG': 2, 'TTTTCTAGGGCCAC': 2, 'TTTCTAGGGCCACT': 2, 'TTCTAGGGCCACTA': 2, 'TCTAGGGCCACTAG': 2, 'CTAGGGCCACTAGG': 4, 'TAGGGCCACTAGGG': 4, 'AGGGCCACTAGGGC': 4, 'GGGCCACTAGGGCC': 4, 'GGCCACTAGGGCCA': 4, 'GCCACTAGGGCCAC': 3, 'CCACTAGGGCCACT': 3, 'CACTAGGGCCACTA': 3, 'ACTAGGGCCACTAG': 3, 'GCCACTAGGGCCAG': 2, 'CCACTAGGGCCAGG': 2, 'CACTAGGGCCAGGA': 2, 'ACTAGGGCCAGGAT': 2, 'GGGCCAGGATAGTG': 2, 'GGCCAGGATAGTGG': 2, 'GCCAGGATAGTGGA': 2, 'CCAGGATAGTGGAT': 2, 'CAGGATAGTGGATA': 2, 'AGGATAGTGGATAG': 2, 'TAGTTTTGACAAAT': 2, 'AGTTTTGACAAATA': 2, 'GTTTTGACAAATAC': 2, 'CAAATACGTTTTTT': 3, 'AAATACGTTTTTTT': 3, 'AATACGTTTTTTTG': 3, 'ATACGTTTTTTTGA': 3, 'TTTTTTGACAAATT': 2, 'TTTTTGACAAATTT': 2, 'TTTTGACAAATTTG': 2, 'TTTTTTTGACAAAG': 2, 'TTTTTTGACAAAGG': 2, 'TTTTTGACAAAGGA': 2, 'CGTTTTATTTGGCC': 2, 'GTTTTATTTGGCCT': 2, 'TTTTATTTGGCCTA': 2, 'TTTATTTGGCCTAG': 2, 'TTATTTGGCCTAGG': 2, 'GGCCAATTTGGCTT': 2, 'GCCAATTTGGCTTT': 2, 'CCAATTTGGCTTTG': 2, 'CAATTTGGCTTTGA': 2, 'AATTTGGCTTTGAC': 2, 'TGGCTTTGACAAAA': 2, 'GGCTTTGACAAAAT': 2, 'GCTTTGACAAAATT': 2, 'CTTTGACAAAATTT': 2, 'GACAAAATTTGGCC': 2, 'ACAAAATTTGGCCT': 2, 'CAAAATTTGGCCTA': 2, 'AAAATTTGGCCTAG': 2, 'AAATTTGGCCTAGG': 2, 'AATTTGGCCTAGGG': 2, 'GGCCTAGGGCCATT': 2, 'GCCTAGGGCCATTT': 2, 'CCTAGGGCCATTTG': 2, 'CCATTTGACAAATT': 2, 'CATTTGACAAATTT': 2, 'ATTTGACAAATTTG': 2, 'CAAATTTGACAAAG': 2, 'AAATTTGACAAAGG': 2, 'AATTTGACAAAGGA': 2, 'ATTTGACAAAGGAT': 2, 'TTTTTACGTTTTTA': 3, 'TTTTACGTTTTTAC': 3, 'TTTACGTTTTTACG': 3}\n",
      "Most Frequent Patterns: ['TACGTTTTGGATAG', 'ACGTTTTGGATAGT']\n"
     ]
    }
   ],
   "source": [
    "file_path = r'C:\\Users\\ryanr\\OneDrive\\Desktop\\Bioinformatics Coursera\\dataset_30272_13.txt'\n",
    "with open(file_path, 'r') as file:\n",
    "    # Read the first line and assign it to the variable 'Seq'\n",
    "    Seq = file.readline().strip()\n",
    "    # Read the second line and assign it to the variable 'pattern'\n",
    "    K = file.readline().strip()\n",
    "print(\"seq:\", Seq)\n",
    "print(\"k:\", K)\n",
    "\n",
    "def FrequencyTable(seq, k):\n",
    "    freqMap = {}\n",
    "    n = len(seq)\n",
    "    # For the whole sequence - k\n",
    "    for i in range(n - int(k) + 1):\n",
    "        # Scanning window of letters (of length k)\n",
    "        pattern = seq[i:i + int(k)]\n",
    "        # For each new k-length segment, it sets its value to 1 in dictionary\n",
    "        if pattern not in freqMap:\n",
    "            freqMap[pattern] = 1\n",
    "        # If k-length segment is already in dictionary, it increments its value (initially 1)\n",
    "        freqMap[pattern] += 1\n",
    "    return freqMap\n",
    "\n",
    "def BetterFrequentWords(seq, k):\n",
    "    FrequentPatterns = []\n",
    "    # Create freqMap dictionary from FrequencyTable() function\n",
    "    freqMap = FrequencyTable(seq, int(k))\n",
    "    # Find the max number in dictionary values\n",
    "    max_count = max(freqMap.values())\n",
    "    # For pattern (key), count (value) in dictionary\n",
    "    for pattern, count in freqMap.items():\n",
    "        if count == max_count:\n",
    "            # Append FrequentPatterns list with patterns (keys) that have max_count values\n",
    "            FrequentPatterns.append(pattern)\n",
    "    return FrequentPatterns\n",
    "\n",
    "# Get the frequency table\n",
    "frequency_table = FrequencyTable(Seq, K)\n",
    "print(\"Frequency Table:\", frequency_table)\n",
    "\n",
    "# Get the most frequent patterns\n",
    "most_frequent_patterns = BetterFrequentWords(Seq, K)\n",
    "print(\"Most Frequent Patterns:\", most_frequent_patterns)"
   ]
  },
  {
   "cell_type": "markdown",
   "id": "dd347f04-7317-4998-b438-716300e97e59",
   "metadata": {},
   "source": [
    "### Finding the compliment of a sequence and reversing it:"
   ]
  },
  {
   "cell_type": "code",
   "execution_count": 7,
   "id": "58120f00-de49-4b5e-86b4-74300fa36d08",
   "metadata": {
    "tags": []
   },
   "outputs": [
    {
     "name": "stdout",
     "output_type": "stream",
     "text": [
      "Original Sequence: ACCTCAGGTT...GATAACCTTC\n",
      "\n",
      "Reversed Complementary Sequence: GAAGGTTATC...AACCTGAGGT\n"
     ]
    }
   ],
   "source": [
    "file_path = r'C:\\Users\\ryanr\\OneDrive\\Desktop\\Bioinformatics Coursera\\dataset_30273_2.txt'\n",
    "with open(file_path, 'r') as file:\n",
    "    Seq = file.readline().strip()\n",
    "print(\"Original Sequence: \", Seq[:10], \"...\", Seq[-10:], sep='')\n",
    "\n",
    "def rev_comp_seq(seq):\n",
    "    # Assign complimentary letters\n",
    "    comp_dict = {'A':'T', 'T':'A', 'C':'G', 'G':'C'}\n",
    "    # Replace each nucleotide with its complementary letter\n",
    "    comp_seq = ''.join(comp_dict[n] for n in seq)\n",
    "    # Reverse the entire string\n",
    "    rev_comp_seq = comp_seq[::-1]\n",
    "    return rev_comp_seq\n",
    "\n",
    "# Example usage:\n",
    "rev_comp_seq = rev_comp_seq(Seq)\n",
    "\n",
    "print(\"\\nReversed Complementary Sequence: \", rev_comp_seq[:10], \"...\", rev_comp_seq[-10:], sep='')"
   ]
  },
  {
   "cell_type": "markdown",
   "id": "6d4ffe78-eff5-461f-a8dd-9959415c9b1f",
   "metadata": {},
   "source": [
    "### Finding all locations/occurrences of a pattern within a sequence:"
   ]
  },
  {
   "cell_type": "code",
   "execution_count": 16,
   "id": "49266c49-3b6d-4bcc-8fd1-f3bc1dcb386c",
   "metadata": {
    "tags": []
   },
   "outputs": [
    {
     "name": "stdout",
     "output_type": "stream",
     "text": [
      "The pattern 'ATTATCAAT' occurs at indices:\n",
      "11 141 148 155 172 278 285 354 428 468 566 573 593 765 772 779 798 805 853 882 889 904 973 980 987 994 1074 1081 1088 1138 1171 1201 1208 1261 1347 1362 1386 1393 1421 1465 1481 1507 1607 1737 1744 1759 1766 1814 1824 1881 1964 1982 2017 2040 2142 2186 2193 2223 2230 2257 2285 2301 2325 2332 2359 2422 2429 2476 2483 2499 2537 2615 2634 2643 2650 2657 2664 2717 2724 2740 2747 2757 2788 2833 2881 2926 3008 3053 3060 3091 3106 3135 3151 3195 3233 3240 3277 3323 3330 3345 3352 3418 3456 3463 3577 3584 3591 3598 3660 3676 3731 3738 3798 3851 3858 3865 3983 4018 4198 4205 4212 4219 4259 4274 4322 4354 4382 4463 4487 4541 4556 4563 4659 4696 4738 4807 4833 4840 4857 4864 4919 4954 4961 4986 4993 5076 5091 5116 5136 5233 5302 5309 5364 5374 5405 5412 5428 5498 5518 5525 5567 5585 5602 5649 5716 5827 5950 6053 6117 6124 6133 6140 6147 6218 6271 6288 6295 6323 6330 6395 6462 6560 6567 6602 6627 6642 6659 6738 6745 6756 6786 6801 6820 6843 6850 6882 6982 7132 7176 7217 7243 7250 7257 7276 7292 7441 7516 7523 7530 7537 7586 7593 7636 7653 7660 7683 7690 7697 7720 7821 7848 7864 7882 7924 7940 7994 8014 8021 8051 8075 8095 8193 8224 8273 8298 8359 8453 8474 8490 8553 8600 8607 8634 8725 8737 8764\n"
     ]
    }
   ],
   "source": [
    "file_path = r'C:\\Users\\ryanr\\OneDrive\\Desktop\\Bioinformatics Coursera\\dataset_30273_5.txt'\n",
    "with open(file_path, 'r') as file:\n",
    "    Pattern = file.readline().strip()\n",
    "    Seq = file.readline().strip()\n",
    "\n",
    "def find_pattern_occurrences(seq, pattern):\n",
    "    occurrences = []\n",
    "    k = len(pattern)\n",
    "    # For whole sequence - k\n",
    "    for i in range(len(seq) - k + 1):\n",
    "        # Checking for our pattern using a scanning window of size k \n",
    "        if seq[i:i + k] == pattern:\n",
    "            # If our pattern is found, append the index to occurences list\n",
    "            occurrences.append(i)\n",
    "    occurrences_nocommas = ' '.join(map(str, occurrences))\n",
    "    return occurrences_nocommas\n",
    "\n",
    "result = find_pattern_occurrences(Seq, Pattern)\n",
    "print(f\"The pattern '{Pattern}' occurs at indices:\\n{result}\")"
   ]
  },
  {
   "cell_type": "markdown",
   "id": "6b824c37-2c3a-4a02-be48-17965c6b26cb",
   "metadata": {},
   "source": [
    "### Finding where 'CTTGATCAT' occurs in the *Vibrio cholerae* genome:"
   ]
  },
  {
   "cell_type": "code",
   "execution_count": 18,
   "id": "c70a97f9-5662-4c85-b37f-23ca7be79195",
   "metadata": {
    "tags": []
   },
   "outputs": [
    {
     "name": "stdout",
     "output_type": "stream",
     "text": [
      "The pattern 'CTTGATCAT' occurs at indices:\n",
      "60039 98409 129189 152283 152354 152411 163207 197028 200160 357976 376771 392723 532935 600085 622755 1065555\n"
     ]
    }
   ],
   "source": [
    "file_path = r'C:\\Users\\ryanr\\OneDrive\\Desktop\\Bioinformatics Coursera\\Vibrio_cholerae.txt'\n",
    "\n",
    "with open(file_path, 'r') as genome:\n",
    "    Seq = genome.readline().strip()\n",
    "Pattern = 'CTTGATCAT'\n",
    "\n",
    "result = find_pattern_occurrences(Seq, Pattern)\n",
    "print(f\"The pattern '{Pattern}' occurs at indices:\\n{result}\")"
   ]
  },
  {
   "cell_type": "markdown",
   "id": "83219886-0de2-49ec-b708-e75e2fe4b021",
   "metadata": {},
   "source": [
    "### Find a pattern (k-mer) forming a 'clump' in a sequence:\n",
    " - ### *Clump(L, t)* denotes a pattern being found *t* times within *L* nucleotides\n",
    " - ### e.g. find all 5-mers occuring *t* = 4 times within an *L* = 50 nucleotide section"
   ]
  },
  {
   "cell_type": "code",
   "execution_count": null,
   "id": "00964e26-f3be-4d68-9a15-3a59d4a4e59d",
   "metadata": {},
   "outputs": [],
   "source": [
    "# Pseudocode\n",
    "# Uses previous dictionary method, FrequencyTable\n",
    "FindClumps(Seq, k, L, t)\n",
    "    Patterns ← an array of strings of length 0\n",
    "    n ← |Seq|\n",
    "    for every integer i between 0 and n − L\n",
    "        Window ← Seq(i, L)\n",
    "        freqMap ← FrequencyTable(Window, k)\n",
    "        for every key s in freqMap\n",
    "            if freqMap[s] ≥ t\n",
    "                append s to Patterns\n",
    "    remove duplicates from Patterns\n",
    "    return Patterns"
   ]
  },
  {
   "cell_type": "code",
   "execution_count": 29,
   "id": "49140495-576b-45d0-86f9-87d0dbceeb02",
   "metadata": {
    "tags": []
   },
   "outputs": [
    {
     "name": "stdout",
     "output_type": "stream",
     "text": [
      "10-mers occurring at least 4 times in 100-long segments: CCCCATTGCG CGCGAGCGGT TACCTAAAGT TCCAGATACC ACACCCAAAC GCACGGGAGG\n"
     ]
    }
   ],
   "source": [
    "file_path = r'C:\\Users\\ryanr\\OneDrive\\Desktop\\Bioinformatics Coursera\\dataset_30274_5.txt'\n",
    "with open(file_path, 'r') as file:\n",
    "    Seq = file.readline().strip()\n",
    "    k, L, t = file.readline().strip().split()\n",
    "\n",
    "def FindClumps(Seq, k, L, t):\n",
    "    Patterns = []\n",
    "    n = len(Seq)\n",
    "    for i in range(n - int(L) + 1):\n",
    "        # Scanning window of length L\n",
    "        Window = Seq[i:i + int(L)]\n",
    "        # Creating a FrequencyTable dictionary of k-mers within L-length windows of sequence\n",
    "        freqMap = FrequencyTable(Window, k)\n",
    "        # For each key (k-mer) in dictionary\n",
    "        for j in freqMap:\n",
    "            # If value of key is t or higher, add to Patterns list\n",
    "            if freqMap[j] >= int(t) and j not in Patterns:\n",
    "                Patterns.append(j)\n",
    "    Patterns_nocommas = ' '.join(map(str, Patterns))\n",
    "    return Patterns_nocommas\n",
    "\n",
    "result = FindClumps(Seq, k, L, t)\n",
    "print(f\"{k}-mers occurring at least {t} times in {L}-long segments: {result}\")"
   ]
  },
  {
   "cell_type": "markdown",
   "id": "093daf23-cbb3-460c-9f35-a9ba81e5aee1",
   "metadata": {},
   "source": [
    "### How many different 9-mers form (500,3)-clumps in the E. coli genome?"
   ]
  },
  {
   "cell_type": "code",
   "execution_count": 35,
   "id": "fbe9b4ed-bc5c-4346-b5ce-3a4f173b525a",
   "metadata": {
    "tags": []
   },
   "outputs": [
    {
     "name": "stdout",
     "output_type": "stream",
     "text": [
      "9-mers occurring in (500, 3)-Clumps in E-coli:\n",
      "['TGCCTGATG', 'CCTCCCTTA', 'TGATGAAAT', 'CTGCGGGCA', 'CAATATCAG', 'TTATCCGCC', 'GCTGTCGCC', 'GTGATTTTG', 'GAGCTACGG', 'TTGATACCG', 'CGCATAGCG', 'CATCTGCGC', 'ACGCTGTCG', 'GAAGGTCGT', 'AGACGCATA', 'ACCAATTCC', 'GCGGATTCG', 'CGATCCGCG', 'GATACGGGC', 'CAGTTCCAG', 'GTTAAATAA', 'CCAGCTCTT', 'ATAAGGCGT', 'CGAGCCGGT', 'AGGTCGTCG', 'CCTGATTTA', 'TTCACGGTC', 'AGAACAGGT', 'ATAAGGCGG', 'GTCGGCGGT', 'GCGTTTATG', 'GGTAGAGCA', 'CAAGGTCGG', 'ATCCGACAT', 'ATGCGCCGC', 'CGTGATTTT', 'AGTGCTCCA', 'GTCGGCACC', 'GACGCGTTA', 'TTGGTAGAG', 'CGAAGCCGC', 'TCACCCACC', 'CGCAGGTTC', 'GCGAGCGCC', 'ACAGGCTAA', 'CACTGTAGG', 'ATTTAGCGT', 'CAATGCCTG', 'GTACGAGCT', 'TGCCGCATC', 'TGCGCTTTG', 'TGGGCAGAA', 'CAATTGGTC', 'TATCCGACC', 'CGCACCAAA', 'AAGCTTCTC', 'TCCGGTTAA', 'GTTTATGCC', 'CGGCCCCCG', 'TGCGAGGGG', 'GGGAAGGAT', 'TCGAAGCTT', 'TCTCATCCT', 'GCGCAATAG', 'ATCAGGCAT', 'GCGACGCTG', 'ACAAACGCA', 'ACATCAACG', 'CCCACGTCC', 'GACGCTTAA', 'ATGGCGGTG', 'GCTGACGCC', 'TCCGCGCAA', 'GATCCGCGC', 'CCCGCTGGC', 'CAGCCACAA', 'GGCGTTCAC', 'CGCCAGACA', 'ATCCGCCCT', 'TACTTTCGT', 'GTCTTCAAT', 'ATCAGCACC', 'ACAAGGAGG', 'CTGGTAGCT', 'AGGCCGGAT', 'TCATCCTGC', 'GGCTGGCGT', 'TTGCCTGCG', 'CGTTAGCGT', 'ACTCTATCC', 'GTAGAGCAG', 'CGCTTCACC', 'GCGCAAGCG', 'AGCCCGTAC', 'CAGAAAAAG', 'TTCGAGTCT', 'GCCTGCGCC', 'CTACGGAGG', 'CCGCTGGCG', 'ATTGACTCG', 'AGCAACAGG', 'AGCGGCTGC', 'GGAAGGATT', 'CATTACGCG', 'TCCACCCCG', 'ACTTGAACC', 'ACGGCTGCC', 'CACGCCGCA', 'GCATAGCGT', 'GCGCTTTGC', 'GTTGGCGCA', 'AACGCCTTA', 'GATGCGCCG', 'TTCTCATCC', 'AGAGCACGA', 'ACCGTGCTG', 'GAAGCTTCT', 'ATCTTCTTC', 'ACCTTGCCA', 'GTAGGTCGG', 'AAGAAAGCG', 'CAAATCCGG', 'AAATGGCGC', 'GGCGTAAAC', 'CCTACGGTT', 'GGTCGTCGG', 'CGTTTATGC', 'AAAAATGAT', 'CCCACCAAT', 'GGTGGTGGG', 'CAGCCTGGT', 'CGAACCGTA', 'AAAGTGATG', 'TTTATGCCG', 'GCTGGGGTA', 'GCGTCTACC', 'CTCGTCGGG', 'AACAGGTCG', 'GGATGCGGC', 'CAGAAGCAG', 'TTTGAAAGT', 'CGAACCTCC', 'TCTAACGCC', 'TTAATCAAT', 'TATTGGTGA', 'ACAAAATCG', 'GTACTCTAT', 'CTGGCAGTC', 'GTTGCCTGC', 'CCCTACATG', 'GGGCAGAAT', 'CCTACACCG', 'AAGACGCGT', 'CGATGCCTG', 'GATAAGGCG', 'GGAGGATTC', 'CTGACGCGA', 'GGCAACGCT', 'CAGGCATTT', 'TGGCACTAT', 'CCGGATGCG', 'CACGCTGCC', 'GACGCATAG', 'GCTCTTCTT', 'TAATCAATT', 'GGGAATAGC', 'ATATCAGCA', 'TGAACTGGC', 'TGGCTGTCG', 'GTTGACGGC', 'TTTATCGCC', 'ATCGTTTGA', 'TGACCGATA', 'CGTAGGCCG', 'CATAGCGTC', 'AAGCGGGTT', 'AACTGACCG', 'TCCGACATT', 'CGGGGCTTC', 'TGGCAATGG', 'CTGATGCGC', 'TCTCCGTTC', 'CTTTTGGGT', 'GGCACTTGT', 'CGACATCAA', 'CCGGCCCCC', 'AGCTCCGGC', 'CCCGGTGTG', 'GTGCGGGAA', 'GCGGGCAGC', 'GAATCCTGC', 'TTGAAAGTG', 'GATCGGTTC', 'AGTTAAATA', 'CGCTTTCTT', 'CGGTTGCGC', 'AAAATATTT', 'ACTTGTGCC', 'GGGGTCGCG', 'CTTATCCGC', 'GTTGCCGGA', 'GCAACGCTC', 'TAGCCGAGT', 'ACGGTTATG', 'GCCAAGGTC', 'TCATTCATC', 'CACTAACAC', 'CACGACCTT', 'CGCCACCTT', 'TTTCTTTTG', 'ACGGATGCA', 'GCGGCGCGA', 'CAACGGCTG', 'CAGCTCCGG', 'TGATGAAGC', 'AAGCCGCTT', 'CGGGAATTT', 'TACGGGGTG', 'ATTCGAACC', 'TGAACTGTA', 'TAAGGCGGT', 'GCCCTTCGG', 'GGGGCAAAA', 'TGGTGCATC', 'ACTATGGCA', 'CACTGCGTT', 'TCCCGCTCC', 'CTGTCCAAC', 'GCGGGTTTT', 'AAATAATCT', 'AGTTTGGCA', 'CTCGCCCTG', 'TCCGACCTA', 'ATGCCTACA', 'GATTCGAAC', 'AGCGCTGCG', 'CGACGCTGT', 'GGTGGGGGA', 'AAGGAGGGG', 'ACCGCTACT', 'GCACCTCCC', 'ATCTTTCTG', 'CCGACCTAC', 'GTTCGAGTC', 'ACGACCCAC', 'CAAGGAGGG', 'TATCAGCAG', 'CCTTCGGGT', 'CCTACAAAA', 'CTGGAACAG', 'GTCATTCAT', 'TTATGTTCC', 'CCTGATGCG', 'GCAGTCGGC', 'GCACGACCC', 'TGGCAACAG', 'CCCGGTCGG', 'CTTCTCATC', 'ACAGGTCGA', 'GGAGTTAAG', 'ACTTTTAAT', 'CTAATGCGG', 'CGGTTCGTA', 'CGAGTACTC', 'CGACGCTGG', 'GGAGTTAAA', 'ACTAAAGCC', 'GCGCGCTTC', 'CCACCTTCG', 'ACGGTCTGT', 'CCTCCAAAA', 'CCCTTACAA', 'ACAGCGTCG', 'GCCAGTTGT', 'AGTCTCGTT', 'ACGCATTAC', 'TTGCCTGAT', 'AACAACCGG', 'CCTGTAGGC', 'TCAGTTGGT', 'TTAGCGTGA', 'CGGTTACGC', 'ACAATGCCT', 'CGTTGCTGC', 'CTGCGCGCT', 'GGTCGGATA', 'GCTGGCGCG', 'ATCAACGCC', 'ACAGCAACA', 'CGGCGCGAG', 'CGCTCGGCA', 'TTTTAATCA', 'ACTGTAGGT', 'GCAATAGCC', 'GCCGGTTGC', 'TGCTGAAAC', 'CAATCAATG', 'CACCCCGTA', 'CGCTCACTG', 'GCAGCCTGG', 'TCGCTCGCC', 'CAAAGCGCG', 'CGACCTTGC', 'CGGCGTAAA', 'TTCCGCCAC', 'TCAGGCAGT', 'CCCGCAACC', 'CGCCAGTTG', 'AGCCGAGTA', 'TACAAAATC', 'GCCGCCGCC', 'TGCATAATC', 'GATAAGGCA', 'TGGCTGGGG', 'TACGCCAGA', 'AAACTGACC', 'AAGCGCGCA', 'TACGGAGGG', 'GTCGCGTCT', 'CGACCTACG', 'GTCGGATGC', 'TGCGGCAAC', 'TGTGCAATA', 'TTGCCGGAT', 'GTGCCGAAC', 'GCCTACGCC', 'CTCATCCTT', 'AGCGGTTGA', 'AAGATGCGC', 'GCGTGAACG', 'CAGCAACAG', 'CCCGAAGGT', 'ATATGGATT', 'TCTTCTTTA', 'AGAGCACCT', 'GCAAGCGTC', 'TCGGGCTCA', 'CGCTGATTG', 'ATGGCACTA', 'TCTTTCTGC', 'TGCGGCGCG', 'CGGCCTACG', 'TTATCAGGC', 'CGACTGCCG', 'TCCGCCACC', 'GTTCGAATC', 'TCGATCCGC', 'TGGTGGGGG', 'CACTGGAGT', 'GCGTCGCAT', 'GACCGCTCG', 'GTCGGGGCT', 'TAAATATGG', 'GCGGGAATT', 'TATGGCACT', 'TCGTAGCCG', 'CACCGCTGT', 'GAGGGTGCG', 'CGTTCACGC', 'TGCCGACCT', 'TTTGTGCTG', 'CCGAGTACT', 'CCGTAGGCC', 'ATCAGGCAG', 'AATCTGTAG', 'ATGAAATTT', 'ACGCGTCGC', 'AGTCGGCAC', 'ATACCGCTA', 'GCCAGCCAC', 'AGTTGGTAG', 'CGATAAGCC', 'TGGCGGATG', 'CGCATTACG', 'GGTGCGGGA', 'CCGGACGGT', 'AGGCAACGG', 'TGGTGCGAG', 'ATCCAGCTG', 'TGATCCAGT', 'CGCTGGCGC', 'GCCGGATAA', 'CTTACAAGG', 'TGTCGCGTC', 'TATGGCGGT', 'TCACTGCGT', 'AACCCGAAG', 'GGTCGTTAG', 'TATCATGCC', 'CAGTTGACT', 'AATGGCGCT', 'TTGGCGCAC', 'GGCTTCTCA', 'ACCGATGCC', 'TTGCTTATC', 'GCCAGCAGC', 'CAAGCGTCG', 'ATCCGCGCA', 'AGACGCATT', 'TGGGGGAAG', 'TTATCCCCG', 'GATGGTGGT', 'TTAAATAAT', 'GCGCGTCTG', 'TTTTGGGTA', 'ATGCCTGAT', 'TTGACTCGC', 'TCACGCCGC', 'GCTCATAAC', 'GCCGCATCC', 'GGAATTTGT', 'GGCGCTGCT', 'ATAAGACGC', 'GCACGACCT', 'CAATATTGG', 'CACCAGCGC', 'CACCTGAAG', 'GCTTTCTTT', 'ATCCGGGAG', 'ACGCTCTTT', 'AAGCGTCGC', 'AACGCGTCT', 'CGCGTCTTA', 'GAAAGCGGC', 'ACTGGAGTT', 'TTATCCGGC', 'TAGCGTGAT', 'GTGCCTTAC', 'CCCGGTTTA', 'ATATTTTTT', 'CGTACGAGC', 'GCGCTGGAA', 'GGTGGAGCA', 'ACGGATGGC', 'GCGCCGCTG', 'ATATTGGTG', 'CGAAGCGGG', 'GCTTCGCCC', 'AATCCTGCA', 'GAACAGCAA', 'GATGAAATG', 'ATGATGAAA', 'GTGCGAGGG', 'GTCCGTAAG', 'TGCATCCGG', 'CTTATCAGG', 'GCTGCTGGC', 'CGCCCTGCG', 'ACTTATCAG', 'TAAATAATC', 'GACAGCGCA', 'CGGCGTGAA', 'CTGAAGCTA', 'CCAGTTCCA', 'TGAAACTGA', 'AATCTGGCA', 'ATCAGGCGT', 'AGAATATTT', 'CATTATTGC', 'ATTAGCTCA', 'TGCGGCACT', 'CTGGCGCGT', 'CGCCGCATC', 'CATCACCCA', 'GAAGCCGCT', 'TCTTTAAAT', 'GCGGGGAAC', 'TGCACCTTT', 'GGCAACGGC', 'CGGGTTTTT', 'GTAGCGCAT', 'GGCGCAGGC', 'CGGCAGTTG', 'CGGGCTCAT', 'GTCGTGGAC', 'TAGCTCAGC', 'TCGGTTCAA', 'GAAGTGCTC', 'CGGCCTACA', 'TGATGTTGC', 'GATGCGGCG', 'CTGATAAGA', 'GCATCAGGC', 'TGCAGCTGA', 'CGAAGTTGA', 'TAAGACGCG', 'GAGTTTGGC', 'GAGAGCACC', 'TCGAGTCTC', 'GAGCCGGTT', 'GACGCTGTC', 'CCCGTACTT', 'ATAACCCGA', 'GCGTAGCGC', 'GGTCGCAGG', 'GACCTTTCG', 'ATCCGGCAG', 'GGGAACTCT', 'AGCTAGCGC', 'CGCTGTAAT', 'CGTAAACGC', 'CAGTTGGTA', 'CTGGCTGGC', 'AGACGCACA', 'CCGGCAATC', 'TATCCGGCC', 'GCGCTGGCG', 'ATCCCGTCA', 'CTGGAGTTT', 'AGCGTAGCG', 'GCGACTTAT', 'GCAGCCACA', 'AGGTGAAAC', 'GCTCGTCGG', 'ATCCGGCAA', 'GAATAGCTC', 'TAGCGCGTC', 'CGGCAACGC', 'TATCAGGCC', 'CTACAAAAT', 'CGTTCTTTA', 'TTTACGTAA', 'ACAGCGCAA', 'GCCCCCGCA', 'GTCTGCTTC', 'TCAATGCCT', 'TCATCCTGA', 'TCCTTCCCC', 'GCATCCGGC', 'ATCCGGCCT', 'TCTCATCCC', 'CCCGCTCCA', 'ACTTTCGTA', 'CCGCTTGGC', 'CCGCTCGGT', 'CGGACGGTG', 'CTTGGCGAT', 'CGGGGTCGC', 'AGCAGTTGA', 'AGACGCGTT', 'CAGAAGAAC', 'AAGGCGTTT', 'GGGAGGATT', 'CATTCTGAT', 'GCAACAACC', 'CGCTCGGTT', 'AGCCGCAAC', 'ACAGTCATT', 'GCCTACGGA', 'TGTCGCCAG', 'CGCCCTACA', 'GAAAAAGCC', 'GCAGCCGCA', 'CTTCGCTCG', 'TAAGGCGTT', 'CCAAAGCGC', 'AGTTGCCGT', 'CCGACCGCT', 'CTGCCAGCG', 'CAGGTGAAA', 'TCGGGGCTT', 'TGCGCGCTT', 'GGTGATTAG', 'CGAGGGGGG', 'CCCGCCGAA', 'GTTTGGCAA', 'GGGTGGAGC', 'TGCTTATCC', 'GTTCGCCAC', 'GCTGCGCGC', 'GTCGCCAGT', 'GGGGGGACT', 'GGGTGCGGG', 'CGGCACTGG', 'GCCGACCAG', 'CTGCGGCAA', 'CGCTCTCTC', 'ACGAGCTCT', 'CGGTTCAAA', 'GCTACCGCT', 'GCTGGCGAT', 'GCGGTTCGA', 'AACAGGCTA', 'CCACCAGCA', 'CGCAAGCGT', 'CGCAAAGCC', 'GAGTCTCGT', 'CGGTTTATC', 'GCGTAAACG', 'GGGGAACAC', 'GGTGCGAGG', 'CAGCGCACC', 'GTGTGCAAT', 'AAAAAGCCC', 'TTGTAGGTC', 'GGCCTACAC', 'GATGCATCG', 'ATTATTGCG', 'CATCCGGCA', 'ATAAGCCGC', 'GCTTAACGC', 'ACCTGTAGG', 'CTGATTTAG', 'AGTCATTCA', 'CGCTGAAAG', 'TCAGGCCTA', 'ACCGTTGCC', 'GCCTACGGG', 'GCGGACTGA', 'TCGTTGCCT', 'CTACACCGC', 'CCCGTCATC', 'AAGCTAGCG', 'GCGTTCACG', 'GGGAGAGCA', 'GTTCACGGT', 'GGAACAGCA', 'TGCCTGCGG', 'CTGGCGCGG', 'TGCGGGAAT', 'CGCGCAAAG', 'GTGAAACTG', 'AGGGTGCGG', 'AGCGCCTTA', 'TGATTTAGC', 'CAGGCCTAC', 'GTGCTTCTT', 'GGAATGCCG', 'CAAAAGTTG', 'GTAGCCGAG', 'GGTCGGGGC', 'GCAACGGCT', 'GGGGGTCGG', 'CAGCTGAGC', 'ATCGGCATC', 'ATTGCGGCA', 'GGCGGTTCG', 'CGTAGCGCA', 'AATGCCAGC', 'GGGGGGGAC', 'CTCCGACCG', 'GTGCATCCG', 'GGGATTGAC', 'CGGTGAGGG', 'CTGCGCACG', 'GGCCGGATA', 'TCGGATGCG', 'GGCAGAATA', 'TCAGGCATC', 'GCCCCTCCA', 'GTTGCCGTT', 'GTTGACTTT', 'ACGTCCGTA', 'ATCCTGCAC', 'CAACGGTGG', 'AAGTTGCCG', 'GTAGCTCGT', 'GGTCGTTGC', 'GGGGGACTT', 'TGGGAGAGC', 'TACCAATTC', 'CCCTTCGGG', 'GCACTATGG', 'CTATCCAGC', 'ACTGTAGGC', 'AAAAAGCAG', 'AGGTTCGAA', 'CGGGGAACA', 'TCAGGCGTT', 'GGATAAGAT', 'TGGAGTTTG', 'TCGTGGACA', 'CCACGTCCG', 'GCCCGTACT', 'CGTTTCCCG', 'CGAGCGCCT', 'GGATTGACT', 'AGGCTAATG', 'GGCACCGTT', 'AACCCCCAC', 'AGCCGCCGT', 'GGTCGGCGG', 'GGAGAGCAC', 'CATCCTGCA', 'ATCTATTCA', 'CGCTGACGC', 'CGTTGCCGG', 'AGGAGGGGG', 'GCGGCGTGA', 'CGTCCGTAA', 'AAGTGCTCC', 'CCCACCACT', 'GCCCTGCGG', 'GCACGACTG', 'TTTAAATAT', 'CGACAACCG', 'CGGATGCGC', 'CGGAGGGTG', 'CGAATCCTG', 'GCTATTGCC', 'GCTCACTGC', 'TGAAAGAAG', 'GCCGCCGTC', 'CGGATGCGG', 'TACAAGGAG', 'AGTTGACTT', 'TCGCGTCTT', 'ATTCCGCCA', 'CTAACGCCC', 'CTACGGTTA', 'CGTACTTTC', 'GGCTAATGC', 'GAAGTTGAA', 'CTCGGTTCG', 'AATAATCTA', 'ACGCGTTAG', 'CCGGTCGGG', 'CCGCAGGCG', 'GGGGGGGAT', 'TGGCGCACA', 'CCCCCCGGT', 'TAGAGCAGT', 'CACTGAACT', 'GGGTGATTA', 'CGCTGTCGC', 'CGCATCAGG', 'AGGCCTACA', 'CGCGAGCGC', 'CGGGGTGGA', 'TTACGTAAA', 'AAGGATTAC', 'AGCGTCGCA', 'GCAGAAGCA', 'AAATGGCGA', 'ACGGAGGGT', 'CCAATTCCG', 'TATGGATTA', 'GGCGGTGAG', 'TTTCCCGCT', 'AGGCATTTG', 'TTACGCCGC', 'TTTAGCGTG', 'AGCTACGGA', 'TATTGCGGC', 'TCTGCGCAC', 'ACTGCGTTC', 'GGTTCGTAG', 'TGTGTGCAA', 'TGCGCCTGT', 'CGGTCGGGG', 'CACGACGTT', 'GGGGATTGA', 'AATTCCGCC', 'TTACAAGGA', 'GTCGTTGCC', 'GTGGTGGGG', 'GATCAGCAC', 'GCTTATCCG', 'CGCCTGATG', 'GAACCTCCG', 'AACCCGCCG', 'CAGCGTCGC', 'CCCGTAGGT', 'TATGTTCCG', 'ATATTAATA', 'TTTTTACGT', 'GGCGGATGC', 'TGTGCCGCA', 'CGCCGCGCC', 'CGGCGCTGG', 'CTTATCCGG', 'AGGGGGTCG', 'CAGGCAACG', 'TCAGCTGGG', 'AAAGCCCGT', 'GGATTACTC', 'GCCGTCGAA', 'AGCGCACCA', 'TTATTGCGG', 'TAGCGTCGC', 'GCGAAAGTG', 'GAACTGTAG', 'ACCGCTCGG', 'TCATCCGGC', 'TCGTTAGCT', 'CGCGAGTTC', 'CTACGGATG', 'TGCGGCGTG', 'TAGCGCATC', 'ATTCTGGTG', 'GAGCACGAC', 'CAGCACGCC', 'AGCACGACC', 'GTACTTTCG', 'GGGGACTTG', 'TGAAGTGCT', 'GCAGAATAT', 'GTCGAAGCT', 'CATCAGGCG', 'AACCGGTTG', 'CGAAGCTTC', 'TCGAATCCT', 'CGATACCCC', 'ATATGGCGG', 'AGCCTGATT', 'GCCTACACC', 'AATATTGGT', 'CGAGCTCTT', 'GGTGGGTCA', 'CGGGAGGAT', 'CCCCTCCAA', 'CCGATGCCT', 'AGGTTTTCC', 'CGCTTCGCC', 'TTTCTGCCC', 'AGATGGTGC', 'TCTTATCAG', 'TGTCGGATG', 'CCGCAACAA', 'CAAGCTGGA', 'GCGCGTCTT', 'CCGGTGTGT', 'TTTAATCAA', 'AGCCCGCTC', 'ACACCTGAA', 'GTCGAAGCC', 'ATCCGACAA', 'CCGAAGGTC', 'AGTCATCCT', 'AAGCGGCTG', 'GGCTGCCGG', 'TTGGTGCGA', 'TCATCTTTC', 'GTCGCGAGT', 'ACTGACCGA', 'CCTGGTAGC', 'GCTGGCTGG', 'GTGATCGTG', 'AGCAGCCTG', 'GCCTACAAA', 'CCGTCGAAG', 'TTCATCTTT', 'CGTGATCGT', 'AAGCCCGTA', 'CGCGTCTAC', 'GGGGGATTG', 'TGACTCGCT', 'GATACCCCA', 'AGCACCTCC', 'TCCGACCGC', 'CAGCAGGCC', 'CGGTCTGTC', 'GTCATCACC', 'CTGAAAGAA', 'CGACGCGGC', 'CACGACCCA', 'CTTCCCCGC', 'CTGCGTTCA', 'CCGTTGCCG', 'GCACAATGC', 'CAGCCCGCT', 'GTGAGGGGG', 'CCGCTCCAA', 'GACCCACCA', 'CATCCTTCC', 'CCGGGAGGA', 'TTGTAGGCC', 'TCGTTTCCC', 'CTTCGCCCT', 'GACTGCCGG', 'GAACGCCTT', 'GCCGAAGCG', 'GTGATTAGC', 'GCGATACCC', 'GCCGACCTG', 'CGGTTATGT', 'CTACCGCTA', 'TGTGCCGAA', 'GTCACCATT', 'TGCGGGCAG', 'ATCAATTGG', 'ACCCGAAGG', 'CCGCCGTCG', 'GTTCGATCC', 'CAGCCGCAA', 'CCAAGGTCG', 'TCTCACTCC', 'AGCGCGCAA', 'AACCGATGC', 'GTCAAAAGT', 'AGTTGGCGC', 'TGAGGGGGG', 'TGAATCAGC', 'CGACGCTTA', 'CTGACCGAT', 'GGTGCATCC', 'GCCAGCAGG', 'ATTTTGTAG', 'CTGGCTGTC', 'ATCTGTAGG', 'TAGAGCACG', 'GGGCAGCCC', 'ATCACCCAC', 'GTAAACGCC', 'TCGAACCTT', 'GACTTGAAC', 'TACTAAAGC', 'CGAGTCATC', 'TGCCGAACC', 'CACAGCGTC', 'TACCGCTAC', 'CGTTGCCTG', 'CTCTCTCGC', 'GGTCGGGGT', 'GTGCACTGA', 'ATCATGCCT', 'TTATGCCGC', 'AGAAGAACA', 'GCACCGTTG', 'CGCGGGGAA', 'GGCAGTTGG', 'GCCCTACAT', 'CTGTAGGTC', 'TGTAGGTCG', 'ATGCGCAAG', 'GTGTGTGCA', 'TGGAACAGC', 'GGTGCCTTA', 'AAGAGATGG', 'GACATCCAA', 'GCTTCTCAT', 'GGATAAGGC', 'GTTGCCTGA', 'AAAATCGCA', 'GGCGCTGGC', 'CGCTCGCCC', 'TCGCGAGTT', 'CTTTCTGCC', 'TGACGCGAC', 'ATGAAATGA', 'TCGGCATCG', 'TGGTAGCTC', 'GGCGTTTAT', 'AGCTCAGTT', 'TCTACCAAT', 'TCTTTTGGG', 'CGCCCTTCG', 'GGGAATTTG', 'CGCGTTAGC', 'CAGTTGTCG', 'TATCCAGCG', 'TTCGTAGCC', 'AGACAGCGC', 'AAAGCGGCA', 'TCCGGCAAT', 'TTTGCTTAT', 'CTAACACCT', 'GACTTTTAA', 'TGCTCCCTT', 'GTTAGCTCA', 'GCGCTGCTC', 'GGGACTTGA', 'CCGCTTTCT', 'GCATCCGGG', 'CGACATTAT', 'GAATTTGTA', 'GCACTGGAG', 'ACATCTAAC', 'AGGCGTTCA', 'TCGGATAAG', 'GGGGGGATT', 'TTTTGAAAG', 'CCCCCGCAA', 'TGCCCCTCC', 'ATGCGGCGC', 'GGTCAAAAG', 'CCCTGCGGG', 'ACATTATTG', 'GCGGGGTGG', 'TTTACCGCT', 'AAAAAAGCC', 'CCGCCGAAG', 'GAAGAACAG', 'GGGGGGGGA', 'AGCCGCTTT', 'TCGAAGCCG', 'TAACCCGAA', 'GAAATGATG', 'CGCTACTAA', 'GGTTGCCTG', 'GTGGACAGT', 'GCTATAGCC', 'CTGCGCCTG', 'GGTTTATCC', 'CTTCTTTAA', 'CTGATAAGC', 'AGCTGCAGC', 'GTCATCCTG', 'GCGCATCAG', 'TAGGCCTGA', 'CGGTTGCCT', 'CGGTGCCTT', 'AAGGCGGTT', 'GATAAGCCG', 'CGAGTTCGA', 'ATCCGACCT', 'CTGCTGAAA', 'TGCGGCGTA', 'CAAATCAAC', 'GTGGGGGAA', 'TTGCCGACC', 'GCGCCAGTT', 'CTGAACTGT', 'CCAGACAGC', 'CGCCTTATC', 'AGTGATGGT', 'CGCATCCGG', 'GGCGATACC', 'CGCATCCGA', 'TGCTTCTTC', 'ATCGCATCC', 'CAGTCGGCA', 'AAACCCGCC', 'AGGTCGATC', 'GCTGGGAGA', 'CAACTGGCT', 'CGGTTCGAT', 'CTCTCGCTG', 'CACAATGCC', 'TTGTGCCGC', 'TTCGGGTCG', 'AGCCGCTAT', 'GCGAGTTCG', 'TAAGCCGCT', 'TGGCGCGTC', 'AATCCGGCC', 'CATCCCCCC', 'CCGAGCCGG', 'CGCACGACT', 'TACGCCGCA', 'CTGTTCATA', 'TGCGACGCT', 'CGCTGTGAA', 'ATCTAACGC', 'GGTCGCGAG', 'TTGACTTTT', 'GCTACTAAA', 'GCGGTTTAT', 'CCAACTGGC', 'TCGAACCTC', 'CTCATAACC', 'TGCGCACGA', 'CCGGCCTAC', 'GCTGACGCG', 'CAGGCAGTC', 'ACTGAACTG', 'CCGAAGCGG', 'AACAGCACG', 'GCGACGCTT', 'GCATCCGAC', 'AGGCCTGAT', 'AAAAAGCCG', 'GTCGGTTCA', 'ACGCCAGAC', 'CGTCATCAC', 'GCGTCTTAT', 'ATACCCCAA', 'AAGAACAGC', 'CTGGCGCTG', 'GAGGGGGGG', 'CAGCGCAAT', 'TCGCAGGTT', 'ATACAGCGA', 'ATAGCTCAG', 'GAATGCCGG', 'TTGGCGATA', 'CCGCGCAAA', 'CGGCGGCGG', 'GGGTCGTTA', 'CCGACCTGT', 'ATCCCCGCT', 'TCGGTTTAT', 'TACTCTATC', 'CGACTTATC', 'GTGGAGCAG', 'GTGATGGTG', 'GCTGCTGCT', 'GCCTTATCC', 'AGAGCAGTT', 'TTCTTTAAA', 'TGCCTTACC', 'CACCTCCCT', 'GGCGCGGGG', 'GCTGGAACA', 'ATCAATGCC', 'AGCGCGTCT', 'TTATCAAAA', 'GCTTGGCGA', 'TGAACGCCT', 'CAACAACCG', 'TTTGGGTAT', 'GCAACAGGC', 'GTTCGTAGC', 'CGACGCTTG', 'CCGGTGCCT', 'CCTTGCCAA', 'GCAATCAAT', 'GGAGGGTGC', 'TTCCCGCTC', 'GCGAGGGGG', 'GTGAACGCC', 'GCGTTAGCG', 'GAATCTGTA', 'AATGATGAA', 'GGGCTCATA', 'ATCTGCGCA', 'GAAGAAAGC', 'AAGCGGCAG', 'ATTGCGGAT', 'CCGCAACCA', 'CTACATGTG', 'AGCGGGTTT', 'GACGCACAG', 'CGGGGAACT', 'GACAACCGA', 'GCGGTTACG', 'TACGGATGG', 'GCTGCTGAA', 'TGCTCCACC', 'ATCGCAGCG', 'TTTGTAGGT', 'TCGGGGTCG', 'GAGCGCCTT', 'GCGCTGCGC', 'CGATCCCGT', 'AAACTGGCA', 'AGGATTACT', 'GATGCGCTT', 'TTCAAATCC', 'GTTTCCCGC', 'TCCAGACGA', 'GGTAGCTCG', 'GGCGCACAA', 'GGTTATGTT', 'GCGCCTTAT', 'GGCGCGTCT', 'TTCGAATCC', 'GGCCTACGA', 'GGGGTGGAG', 'CGCACAGCG', 'CAGACAGCG', 'CGGCGGTTC', 'ACGCTGGCG', 'GCCGCTTTC', 'CCTGCACGA', 'GTTCACGCC', 'CCTTATCCG', 'GCGGTGAGG', 'TTGCGGCAC', 'AGCTGGAAC', 'CAAAGCCGC', 'AGCGCATCA', 'CGCCGTCGA', 'CTAGCGCGT', 'TTTCAATAT', 'ACGACGCGG', 'TTTGGCAAC', 'CAGCAGCAA', 'AGAATCTGT', 'GGACTTGAA', 'TTTTACGTA', 'GATTTTGTA', 'TAAATATTG', 'GACGCGACT', 'AGGGGGGGA', 'ATCCGGCCC', 'CTTACCGCT', 'CTCATCCCC', 'CGGGAATAG', 'AACTGGCTG', 'TCCGCCCTA', 'ACGCGACTT', 'GGCACTATG', 'CCACCTCTT', 'GTCGCATCA', 'CGTCTTATC', 'TCTTATCAT', 'GACAGTCAT', 'AAGACGCAT', 'CATCCGGGA', 'CATCATCAT', 'GAGCACCTC', 'GATTAGCTC', 'AAAAAAAAG', 'ATCAGCAGC', 'TTCGAACCT', 'TCAACGCCT', 'TGCGTTCAC', 'CGACCGCTC', 'TCCAACTGG', 'GTCTCGTTT', 'AAAAGCGGC', 'TCTGCCCCT', 'CCTGCGGCA', 'CCTACGCCA', 'GTAGGCCGG', 'ATAGCGTCG', 'AGCAGAAGC', 'CGCTATTGC', 'GCTGCCGGA', 'CTGTCGCCA', 'ACCTACGGT', 'GGCCCCCGC', 'ATTCATCTT', 'CTATTGCCC', 'CATCTAACG', 'AAAGAAGCT', 'GCTGTCGCG', 'GTCGGGGTC', 'ACTGCCGGA', 'CAGGAGTTA', 'GAAAAAAAA', 'TCACGACGT', 'TCAGCGCCT', 'TCCGGCCCC', 'GACATCAAC', 'ATGCGACGC', 'CGTGGACAG', 'GGCCTACAA', 'ACCCCGTAG', 'TGATTAGCT', 'CTGTCGCGT', 'CTTTTGAAA', 'CTTCGGGTC', 'TTGGTCGCA', 'CTCCCTTAC', 'TTGCCGTTA', 'ATGCGGCGT', 'TTTGTAGGC', 'ACGCTTAAC', 'CCTACATGT', 'TCTGTAGGC', 'ACTAACACC', 'GCAGAAAAA', 'TGGTCGCAG', 'GATGCGCAA', 'AAGGTCGGG', 'TCAAATCCG', 'GACGCATTA', 'TATAAAATA', 'CTGGGGTAC', 'GCTCGCCCT', 'TGTGAAGTG', 'ATCGGGAAA', 'CTTGTGCCG', 'CCGCCCTAC', 'TCAGGCAAC', 'TCAATATTG', 'TTGCCGCCG', 'CCTACGGGG', 'AAGAACAGG', 'GGTTAACAA', 'CCGCTGTGA', 'CGCAACAAC', 'CACCGTTGC', 'AAGCGGTTG', 'CGCTACGGC', 'AGTTCGAGT', 'ATCCCCCCG', 'AGGTGGGTC', 'CTGGCGCAG', 'TTAGCTCAG', 'CAACGCCTG', 'GGGTCGGCG', 'GTGGGTCAA', 'CCTTCCCCG', 'CAATAGCCT', 'GCCGGATGC', 'GAGTCATCC', 'CGCGCAAGC', 'GATTACTCA', 'CGTGAACGC', 'AGCTGAGCT', 'TCGCCCTTC', 'CTTTCTTTT', 'TAGGTCGGA', 'AAGTTGAAG', 'ACGACCTTG', 'CACCTTCGC', 'CGCTGCGCG', 'TGGAGCAGC', 'TATCCAGCT', 'CAAAATCGC', 'TTACCGCTT', 'AACCGTAGG', 'AGGCCTACG', 'CCTGCGGGC', 'AGCTGGGAG', 'TTGCGGATT', 'AGCGTGATT', 'GGGGTCGGC', 'ACGCGCAAG', 'AGCGCAATA', 'GAACCCCCA', 'GGGCTTCTC', 'AAAGCGGCT', 'TGCCGGATG', 'AGGCATCTG', 'CGGTGTGTG', 'TAGCTCGTC', 'AAAACCCGC', 'ACCGGTTGC', 'TGGCGCGGG', 'TTCGCCCTT', 'TAATGCGGA', 'CCCCGTAGG', 'AGATGCGCA', 'AGCCTGGTA', 'CGCGCTTCG', 'CGGATAAGG', 'GAGCTCTTC', 'CCAGTTGTC', 'TGAAATGAT', 'CGACATCCA', 'GTCGGGCTC', 'CGTTAGCTC', 'GGGTCGTTG', 'GGTTCGAAT', 'GCTGTGAAG', 'CGCGTCTGC', 'AAGCCGCCG', 'CCGTAGGTC', 'GCGGCAACG', 'TGAACCCCC', 'AAAGTTGCC', 'TTAAATGAT', 'GGTTGCGCC', 'TTGAACCCC', 'CGCCAGCAG', 'ATAGCCTGA', 'GGGTTTTTA', 'GAAAGAAGC', 'TCATCACCC', 'ACCCACCAC', 'TGATGCGCC', 'CGCTTCGCT', 'CGGATGCAT', 'GTGAAGTGC', 'TGTTCATAT', 'CGTCGGGCT', 'TCTATCCAG', 'GTTTTTACG', 'GCGCGTCTA', 'TGGGTCAAA', 'AGTTGTCGA', 'TCCAGCTGA', 'GCTGCAGCT', 'TCCTGCACG', 'CCCCGGTGT', 'GCATTACGC', 'ACAACCGAT', 'TGGTGGTGG', 'TGAGCTACG', 'TGATGCGAC', 'TCTCGTTTC', 'CGAAAAAAA', 'CGGTGCTAC', 'TACGCGTCG', 'CCTACGGAT', 'ATCCAGCGT', 'AATTTGTAG', 'CTTGCCAAG', 'ACAACCGGT', 'GGCAGCCCG', 'TATCCCCGC', 'ATCAGGCCT', 'CCGGTTTAT', 'GCTAGCGCG', 'TCGATCCCG', 'GGCTGTCGC', 'ATCAGGCAA', 'CTTTGCTTA', 'CATCAGGCA', 'CATCTTTCT', 'GGTCGATCC', 'TTGAAGTTG', 'CTGTGAAGT', 'TGATACCGC', 'GCGGATGCG', 'GCTCGGTTC', 'TACGGTTAT', 'AAGCGTAGC', 'GCCTGATGC', 'CCGGTTGCG', 'TTAGCGTCG', 'GGACGGTGC', 'CTACGGGGT', 'GCAGGTTCG', 'ACGACTGCC', 'TACTCAGCG', 'AAACGCCTT', 'GTTTGTAGG', 'TGACTTTTA', 'CATCCAACG', 'GTCGCATCC', 'CTACTAAAG', 'AAATCGCAG', 'GAAGCTAGC', 'GGATGCGCT', 'TGCTGAAAA', 'CATTCATCT', 'CAACCGATG', 'CTGCCCCTC', 'CGGATACGG', 'CAGAATATT', 'GGGGGAAGG', 'GAGGATTCG', 'TGCATCGGG', 'TGGCGATAC', 'GCAACCAAT', 'TCGCCAGTT', 'CCAGAAGAA', 'GAAGAGATC', 'GACCGATAA', 'GAGTTCGAG', 'GCGCTACGG', 'CGCTCCAAA', 'GGCAATCAA', 'GCACTGAAC', 'TTCGCTCGC', 'AACACCTGA', 'AACGGCTGT', 'GTAGGCCTG', 'ACGCGTCTT', 'CCGACATCA', 'TAACGCGTC', 'AAAGCCGCC', 'CCGACAACC', 'TCAAAAGTT', 'CTCTATCCA', 'GCGGCACTG', 'AGGCGGTTA', 'GTGCCGCAT', 'CACGGTCTG', 'CGTAGCCGA', 'GCTAATGCG', 'CGGCTGCCG', 'GCCGCTGAC', 'CCGTACTTT', 'CGCGACTTA', 'ATAAGGCAC', 'CCCCGCAAC', 'TGAAAGTGA', 'GGTGCTACC', 'TTCACGCCG', 'ACCGATAAG', 'GCTTCGCTC', 'CCGGATAAG', 'TAACACCTG', 'TGGCGGTGA', 'TCGGCGGTT', 'ACCTCCGAC', 'CACCCACCA', 'TTGGGTATA', 'TGGCGCTGC', 'CTCCAAAAG', 'GCCGCTATT', 'TCGGTTCGT', 'CGACCCACC', 'AAGACGCGC', 'CCCGCTCAC', 'GCGCGGGGA', 'GAACCGTAG', 'TACACCGCT', 'CCGCTGACG', 'ACATCCAAC', 'ACGCGGGGT', 'GGAATAGCT', 'GAAACTGAC', 'TGCACGACC', 'AAGTGATGG', 'CTATGGCAC', 'GAAAGTGAT', 'ACTCGCTTC', 'GAGTTAAAT', 'TTGGCAACA', 'GCGCAAAGC', 'GTTACGCCG', 'ATCCTTCCC', 'ATGCATCGG', 'ATGCCGCAT', 'CGGATGGCG', 'ACGCCTTAT', 'ACCGCTTGG', 'CACGACTGC', 'ACCGTAGGC', 'CTGTAGGCC', 'GGTTTTTAC', 'AGCTCAGCT', 'CATCCGACA', 'CCTTACAAG', 'AGGCACTTG', 'GATCCCGTC', 'TCGTACGAG', 'TTCCGGGTA', 'CTCAGCTGG', 'CGGGCAGCC', 'CTGCCGGAT', 'AAATATGGC', 'CAATTCCGC', 'ATTACGCGT', 'TTCGTACGA', 'CGCACAATG', 'GGCAGGAAG', 'GTCGTCGGT', 'CCGATAAGC', 'TCGAACCCC', 'AACGCTCTC', 'GGGTCAAAA', 'CATCGGGAA', 'AAGGTCGTC', 'ACGCCTGAT', 'GGAGCAGCC', 'TAAGACGCA', 'TGCGGATTC', 'GCCGAGTAC', 'TCCCCCCGG', 'GAGATGGGA', 'GCTGATTGC', 'TGATTTTGT', 'TGCCAAGGT', 'CCCCCACGT', 'AAGCAGAAG', 'GCCTGGTAG', 'ACCCGCCGA', 'CCGCTATTG', 'GGGGAAGGA', 'CATCAACGC', 'TTTATCCCC', 'GCTGGCAGT', 'CTGCAGCTG', 'TTTCGTACG', 'GTCGCAGGT', 'TCTGTCCAA', 'ACGGTGCTA', 'TCGCTTCGC', 'AACGCCTGA', 'CCCTCCAAA', 'CTGGCGGCA', 'GCCTGCGGC', 'CTTTTAATC', 'GAAGCGGGT', 'GGTTACGCC', 'GCCGAACCG', 'GACGCGCAA', 'AGGAGTTAA', 'TCTCTCGCT', 'CCGACATTA', 'CCGGCAGTT', 'AACAGCAAC', 'AGGTCGGGG', 'ACGCACAGC', 'GCGACCAGC', 'TTAAATATG', 'GCAGCCCGC', 'GAGCAGTTG', 'CCAGCAGGC', 'CAACGCTCT', 'CCGTCATCA', 'ACCGCTGTG', 'TACGAGCTC', 'GATTTAGCG', 'GCCCGCTCA', 'GCTCTCTCG', 'CTTGAACCC', 'TCCGGCAGT', 'ACCTGAAGC', 'ACGACGTTC', 'CTTATCATG', 'ATTGGTCGC', 'CCCCCGGTG', 'GGCGCGAGC', 'ACTCAGCGC', 'TGATGGTGG', 'GCAGCTCCG', 'CAGTTGGCG', 'GACGGTGCT', 'AAAAATTGA', 'CGCAATAGC', 'ACGCTCTCT', 'CGTTCACGG', 'AGGATTCGA', 'CGCCGCAGC', 'CCGGTTGCC', 'CTTTAAATA', 'GAGGGGGTC', 'AACCAGCAG', 'AATTGGTCG', 'AAGGCACTT', 'CCTTACCGC', 'TCCGGCCTA', 'CTGATGCGA', 'TTTTGTAGG', 'TCGCATCAG', 'CTCAGCGCT', 'TCATCCCCC', 'TCCCGTCAT', 'GGTTCAAAT', 'CTCGTTTCC', 'TCACGGTCT', 'CTGCACGAC', 'AGCTCTTCT', 'TGATAAGAC', 'TATCCGCCC', 'GTTATGTTC', 'CGCTTTGCT', 'CTCTTCTTT', 'GGCTGGGGT', 'AGAAAGCGG', 'CAGGTCGAT', 'TCAGGAGTT', 'GCTCAGCTG', 'GCGCACGAC', 'GGACAGTCA', 'GTTCAAATC', 'CGCTTGGCG', 'TATGCCGCA', 'CGCGTCGCA', 'CGCCGAAGC', 'TCGTCGGTT', 'CCGCTACTA', 'CGAGTCTCG', 'TCCGACAAC', 'GAACTGGAA', 'GACGCGGGG', 'AGGCAGTCG', 'GGTGTGTGC', 'ACACTAACA', 'AGGCGTTTA', 'GGAGTTTGG', 'TGTAGGCCT', 'AGATGGGAG', 'GACCTACGG', 'GCTACGGAT', 'GGTTCGATC', 'GTTGGTAGA', 'TCGGAAAGC', 'AATCAATTG', 'TCGGGTCGT', 'TGGGTATAG', 'AATAGCTCA', 'AGCTTCTCA', 'GGTGAAACT', 'GATGCCTGA', 'CATGCCTAC', 'TTAACGCGT', 'AAGACGCAC', 'AAATGATGA', 'GATACCGCT', 'CAGCTGGGA', 'GCGTGATTT', 'CGCCGCTGA', 'GCAGGAAGG', 'GGTAAAGTG', 'TCCCTTACA', 'CCTGGCGCT', 'TGCACTGAA', 'AGCCGGTTG', 'GTAGAGCAC', 'ATGAAGCAA', 'ATTTGTAGG', 'CCCCGGTCG', 'GCCGCCAGT', 'GCCTTACCG', 'CAGGCTAAT', 'TCAGCAGCC', 'GCAGTTGAC', 'ATAAAATAT', 'AGAAAAAGC', 'AATGCCTGA', 'CGTCGCATC', 'CAGTCATTC', 'GAAAGCCAG', 'CCAGCAGCA', 'CCCGGACGG', 'GTTTATCCC', 'CGGCAATCA', 'GCATCGGGA', 'TCAGGCATT', 'CTACGCCAG', 'TCATGCCTA', 'GACGCTGGC', 'TAAGCGTAG', 'GCAGAGAAG', 'ACGCCGCAT', 'AAGGCGTTC', 'ATGCGCTTT', 'TGGTAGAGC', 'GCGCTTCGC', 'CTCGCTTCG', 'GATAAGCGT', 'CGCTTTGTT', 'GGTCTGTCC', 'TATTGCCCG', 'ACCTCCCTT', 'CCCCACGTC', 'GATTGACTC', 'GATGCGACG', 'CGTCTACCA', 'GGGAACTCG', 'GCCGAGGAT', 'TAGGCCGGA', 'GGATAAGAC', 'AATCAATGC', 'GCCGGTATC', 'GTCCAACTG', 'GCCACCTTC', 'CGTGCTTCT', 'GATAAGATG', 'CCGCCACCT', 'GGCACTGGA', 'GGCATCTGC', 'TCATCCTTC', 'GCAAGCTGG', 'GGTGCACTG', 'GTCGGATAA', 'GCGGCGGCG', 'GGCCTACGG', 'GCAGTTGGC', 'CCGACATCC', 'GATAAGACG', 'TCCCCGCTG', 'GCACTTGTG', 'TACCGCTTG', 'CCTACGGAG', 'GGCGCTGGA', 'AAAAGCCCG', 'CAACAGGCT', 'AAATCCGGC', 'CGCAACCAA', 'GAAGGATTA', 'ACTGGCTGT', 'GGATTCGAA', 'CGTCGAAGC', 'CTTAACGCG', 'AATCGCAGC', 'TCGCCCTGC', 'AATAGCCTG', 'CTGGCGGCG', 'ACGAAAAAA', 'ATAAGATGC', 'GGCCTACGC', 'ATGGTGCAT', 'TTATCATGC', 'CGGGTCGTT', 'GACCTTGCC', 'CCAGCTGAG', 'CACTATGGC', 'TCAGCGCTG', 'GCACAGCGT', 'TAAGGCACT', 'GGCGTGAAC', 'TCAATTGGT', 'GGCGGTTAC', 'TGATAAAAA', 'CAGCGCTGC', 'GGGGAACTC', 'GCAAAGCCG', 'AGCAGCCGC', 'TTCTGCCCC', 'ATGGTGGTG', 'TAGCTCAGT', 'ACGCATAGC', 'CTGGGAGAG', 'AGACGCGCA', 'TCCGGGAGG', 'GGATGCATC', 'CGACCTGTA', 'AGCTGGATG', 'GCCAAAGCG', 'AACCTCCGA', 'TTACTCAGC', 'AAGCTGGAA', 'TTCAATATT', 'CACGTCCGT', 'GGAGGGGGT', 'TGTCGTGGA', 'GTTGCCAGG', 'GTCGATCCG', 'TGTCCAACT', 'GGATACGGG', 'GCGGGAATA', 'CATAACCCG', 'TGGACAGTC', 'CCTCCGACC', 'TTGCCAAGG', 'AAAGCGCGC', 'AACTGTAGG', 'CAGCAGCCG', 'GCTCCACCC', 'TAGCCTGAT', 'TAAGATGCG', 'TGATAAGCG', 'TTACGCGTC', 'CCGAACCGT', 'TTCTTTTGG', 'TACGGATGC', 'GCGCACAAT', 'AGCTCGTCG', 'AGTACTCTA', 'TTCACGACG', 'GAGCAGCCT', 'TCCGACATC', 'TCATAACCC', 'ACCCACCAA', 'GCTCAGTTG', 'GCTTTGCTT', 'TAAACGCCT', 'CAGGCATCT', 'GGTGAGGGG', 'AAAAACCCG', 'CTTTCGTAC', 'GGGGCTTCT', 'GGTGATGTT', 'CAACCGGTT', 'CCACCCCGT', 'GCCTGATAA', 'TCGCATCCG', 'CTGGCGGAT', 'ACACCGCTG', 'GATTGCCGA', 'TGCGTATCG', 'GTGCTCCAC', 'CTGAGCTAC', 'CCCCGCTGG', 'AAAGCGGTT', 'CCGCTGTTC', 'AAATGGCGG', 'CCGCTCACT', 'GACCTGTAG', 'GATGGTGCA', 'GTCGTTAGC', 'CAGGTTCGA', 'AAAAAAAGC', 'AAAGCAGAA', 'CTGCTCCCT', 'CGCAAGCTG', 'AGAGATGGT', 'TGAAGCTAG', 'CGCTGGTGG', 'GCCTACAAC', 'CTCAGTTGG', 'CGCGGGGTG', 'CTGGCAGTT', 'CGCTTAACG', 'GTTAGCGTC', 'ATAAGCGTA', 'CCTACAACT', 'CCTGATAAG', 'TCGTCGGGC', 'ATTACTCAG', 'AAGCCGCTA', 'CCGCATCCG', 'GAGATGGTG', 'AGGGGGGGG', 'TTCGATCCC', 'GGGTCGCGA', 'GCCTGATTT', 'ACCCCCACG', 'CACTTGTGC', 'GACTTATCA', 'AGGTCGGAT', 'CTACCAATT', 'GACTCGCTT', 'GCCGCAACA', 'GCGGCGTAA', 'GGCCTGATA', 'GCGCGAGCG', 'CCTGAAGCT', 'TAAGAGATG', 'GGCTCATAA', 'ACGATATTA', 'AATATCAGC', 'TAGGGCAGA', 'AATATGGCG', 'GCCAGACAG', 'CTCACTGCG', 'CGAAGGTCG', 'ATAATCTAC', 'GTCTACCAA', 'GGCAGTCGG', 'AAAAGTTGC', 'GTCTTATCA', 'GAGTACTCT', 'GTCTGTCCA', 'CATGCCGAC', 'GACATTATT', 'CTCCACCCC', 'TGCGCCGCT', 'CGTCGGTTC', 'GCATCTGCG', 'GCTGAGCTA', 'GCTTTGTTG', 'CGGATAAGA']\n",
      "Total number of 9-mers that form (500, 3)-Clumps: 1904\n"
     ]
    }
   ],
   "source": [
    "file_path = r'C:\\Users\\ryanr\\OneDrive\\Desktop\\Bioinformatics Coursera\\E_coli.txt'\n",
    "with open(file_path, 'r') as file:\n",
    "    Seq = file.readline().strip()\n",
    "k = 9\n",
    "L = 500\n",
    "t = 3\n",
    "\n",
    "from collections import defaultdict\n",
    "\n",
    "def FindClumps(seq, k, L, t):\n",
    "    Patterns = set()\n",
    "    n = len(seq)\n",
    "    # Initialize the frequency table for the first window\n",
    "    freqMap = defaultdict(int)\n",
    "    for i in range(L):\n",
    "        pattern = seq[i:i + k]\n",
    "        freqMap[pattern] += 1\n",
    "        if freqMap[pattern] == t:\n",
    "            Patterns.add(pattern)\n",
    "\n",
    "    # Slide the window and update the frequency table incrementally\n",
    "    # This is a faster/more efficient code for longer genomes\n",
    "    for i in range(1, n - L + 1):\n",
    "        old_pattern = seq[i - 1:i - 1 + k]\n",
    "        freqMap[old_pattern] -= 1\n",
    "        new_pattern = seq[i + L - k:i + L]\n",
    "        freqMap[new_pattern] += 1\n",
    "        if freqMap[new_pattern] == t:\n",
    "            Patterns.add(new_pattern)\n",
    "    return list(Patterns)\n",
    "\n",
    "result = FindClumps(Seq, k, L, t)\n",
    "print(f\"{k}-mers occurring in (500, 3)-Clumps in E-coli:\\n\", result, sep='')\n",
    "print(f\"Total number of {k}-mers that form (500, 3)-Clumps:\", len(result))"
   ]
  },
  {
   "cell_type": "code",
   "execution_count": null,
   "id": "f9a153db-4bef-4a1b-9151-0581990d30ef",
   "metadata": {},
   "outputs": [],
   "source": []
  }
 ],
 "metadata": {
  "kernelspec": {
   "display_name": "Python 3 (ipykernel)",
   "language": "python",
   "name": "python3"
  },
  "language_info": {
   "codemirror_mode": {
    "name": "ipython",
    "version": 3
   },
   "file_extension": ".py",
   "mimetype": "text/x-python",
   "name": "python",
   "nbconvert_exporter": "python",
   "pygments_lexer": "ipython3",
   "version": "3.11.3"
  }
 },
 "nbformat": 4,
 "nbformat_minor": 5
}
