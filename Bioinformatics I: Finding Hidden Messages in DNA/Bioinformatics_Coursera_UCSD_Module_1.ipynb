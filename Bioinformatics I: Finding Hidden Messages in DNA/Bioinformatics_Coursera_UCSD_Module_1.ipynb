{
 "cells": [
  {
   "cell_type": "markdown",
   "id": "66743892-0fbb-4323-81b5-5a653b787794",
   "metadata": {},
   "source": [
    "### Getting the number of each nucleotide in *Vibrio cholerae*:"
   ]
  },
  {
   "cell_type": "code",
   "execution_count": 32,
   "id": "9a987b22-bb8f-4d81-92f5-7edf24420a45",
   "metadata": {
    "tags": []
   },
   "outputs": [
    {
     "name": "stdout",
     "output_type": "stream",
     "text": [
      "{'A': 293942, 'C': 263573, 'G': 256024, 'T': 294711}\n"
     ]
    }
   ],
   "source": [
    "def nucleotide_count(seq):\n",
    "    nuc_counts = {'A':seq.count('A'), 'C':seq.count('C'), 'G':seq.count('G'), 'T':seq.count('T')}\n",
    "    return nuc_counts\n",
    "\n",
    "\n",
    "file_path = r'C:\\Users\\ryanr\\OneDrive\\Desktop\\Coursera\\Bioinformatics UCSD\\Vibrio_cholerae_genome_seq.txt'\n",
    "\n",
    "with open(file_path, 'r') as f:\n",
    "    seq = f.readline()\n",
    "    \n",
    "print(nucleotide_count(seq))"
   ]
  },
  {
   "cell_type": "markdown",
   "id": "120f5edc-6c82-4903-835b-c6a98a27ab5d",
   "metadata": {},
   "source": [
    "### Counting pattern occurrences in a sequence:"
   ]
  },
  {
   "cell_type": "raw",
   "id": "f03a4304-2eee-4306-9991-19c19fe49ef2",
   "metadata": {},
   "source": [
    "# Pseudocode\n",
    "Seq = GACCATACTG\n",
    "Pattern = ATA\n",
    "\n",
    "PatternCount(seq, pattern)\n",
    "    count ← 0\n",
    "    for i ← 0 to |seq| − |pattern|\n",
    "        if seq(i, |pattern|) = pattern\n",
    "            count ← count + 1\n",
    "    return count"
   ]
  },
  {
   "cell_type": "markdown",
   "id": "c348d419-7c64-4626-8540-fe14e47bb6d3",
   "metadata": {},
   "source": [
    "### **Answer:**"
   ]
  },
  {
   "cell_type": "code",
   "execution_count": 12,
   "id": "7f5d3245-211e-4bbf-93a2-e46dac75b193",
   "metadata": {
    "tags": []
   },
   "outputs": [
    {
     "name": "stdout",
     "output_type": "stream",
     "text": [
      "Seq: TAGAGATTATCCAATTATCCACCGTTATCCAATTTATCCACATTATCCATTTATCCAGTTATCCACTTATCCAGTTATCCATTGATTATCCATTATCCAGTCTTATCCATTTATCCATTATCCATTATCCATTATCCATTATCCATTATCCATTATCCAATTTATCCATTATCCAGGAACACCGGCAATGCCAGTTATCCAGATTATCCATTATCCATTATCCAACCGATTATCCAGCTTATCCACTGCCGTACATGATTATCCATTATCCAAATACAGTTATCCATAATTATCCAGGGTATTTATCCATTATCCAACTTATCCATTTATCCATTATCCATATTATCCAGGCACGCGTTATCCAGAGTGACTTGTTATCCATTTTATCCACATTATCCACAATAGTATTTATCCATTATCCAAAGCGCGTTATCCAAGTTATCCATTATCCATTATCCACCAACATTATCCAGATTATCCATGTGTTATCCAGTTATCCAGAGTTATCCAACACTTATCCACTTATCCATTTATCCATTATCCACCCATTATCCATTATCCACTGTCCTTATCCATGTTATCCACATTATCCATTTATCCATTATCCAGCTTTATCCACATCTTTATCCATTATCCAGACCATTATCCATGCTTATCCAAGGATCTTATCCACGAAGTTATCCATATACATTCAACGTTATCCACATAATTTATCCATTATCCATTATCCAACTTATCCAGTTATCCACTTATCCAGGCTTATCCAACCTTTATCCATTATCCAAGTCTTATCCATACTTATCCATTATCCACTTATCCATATTATCCACCCGTTATCCACGGTTATCCAGTTATCCACTTATCCAATTATCCATTATCCATTTATCCATTCTTTTATCCACTTTATCCACATGAGTATTTTATCCACGTTATCCAAGTTATCCATTTTATCCATTATCCATTATCCATTATCCACTCTTATCCACCGATTATCCAATTTATCCA\n",
      "Pattern: TTATCCATT\n",
      "Occurrences of 'TTATCCATT' in Vibrio cholerae: 38\n"
     ]
    }
   ],
   "source": [
    "# Count the occurrences of a given pattern in a sequence\n",
    "def pattern_count(seq, pattern):\n",
    "    # Store 1 if pattern is encountered, and sum total\n",
    "    return sum([1 for nuc in range(len(seq) - len(pattern)) if seq[nuc:nuc + len(pattern)] == pattern])\n",
    "\n",
    "\n",
    "file = r'C:\\Users\\ryanr\\OneDrive\\Desktop\\Coursera\\Bioinformatics UCSD\\dataset_30272_6.txt'\n",
    "with open(file, 'r') as f:\n",
    "    # Read the first line and assign it to the variable 'Seq'\n",
    "    Seq = f.readline().strip()\n",
    "    # Read the second line and assign it to the variable 'pattern'\n",
    "    Pattern = f.readline().strip()\n",
    "    \n",
    "print(\"Seq:\", Seq)\n",
    "print(\"Pattern:\", Pattern)\n",
    "print(f\"Occurrences of 'TTATCCATT' in Vibrio cholerae: {pattern_count(Seq, Pattern)}\")"
   ]
  },
  {
   "cell_type": "markdown",
   "id": "0b6478ba-e8df-40fe-a092-97af4d44bda3",
   "metadata": {},
   "source": [
    "### Counting the most frequent pattern occurrences (k-mers of length 2, 3, etc.) in a sequence:"
   ]
  },
  {
   "cell_type": "raw",
   "id": "f8adc61f-4d12-4bb1-9635-966038c8cb80",
   "metadata": {},
   "source": [
    "#Pseudocode\n",
    "FrequentWords(Seq, k)\n",
    "    FrequentPatterns ← an empty set\n",
    "    for i ← 0 to |Seq| − k\n",
    "        Pattern ← the k-mer Seq(i, k)\n",
    "        Count(i) ← PatternCount(Seq, Pattern)\n",
    "    maxCount ← maximum value in array Count\n",
    "    for i ← 0 to |Seq| − k\n",
    "        if Count(i) = maxCount\n",
    "            add Seq(i, k) to FrequentPatterns\n",
    "    remove duplicates from FrequentPatterns\n",
    "    return FrequentPatterns"
   ]
  },
  {
   "cell_type": "raw",
   "id": "8138f67a-cb1f-4222-8ed9-163cf90b558b",
   "metadata": {},
   "source": [
    "#Pseudocode\n",
    "# Takes a string 'Seq' and an integer 'k' (k-mer length) as input and returns their\n",
    "# frequency table as a map of string keys to integer values\n",
    "FrequencyTable(Seq, k)\n",
    "    freqMap ← empty map\n",
    "    n ← |Seq|\n",
    "    for i ← 0 to n − k\n",
    "        Pattern ← Seq(i, k)\n",
    "        if freqMap[Pattern] doesn't exist\n",
    "            freqMap[Pattern]← 1\n",
    "        else\n",
    "           freqMap[pattern] ← freqMap[pattern] + 1 \n",
    "    return freqMap\n",
    "Example of freqMap output:\n",
    "[ ACT | GCA | TCC | ... ]\n",
    "[  0  |  3  |  1  | ... ]"
   ]
  },
  {
   "cell_type": "raw",
   "id": "0fdbea98-afa5-4a3c-a91d-cf0c2beebf86",
   "metadata": {},
   "source": [
    "# More efficient way of finding most frequent pattern occurances\n",
    "# Pseudocode\n",
    "# function MaxMap takes a map of strings to integers as input and returns the max value of this map as output\n",
    "BetterFrequentWords(Seq, k)\n",
    "    FrequentPatterns ← an array of strings of length 0\n",
    "    freqMap ← FrequencyTable(Seq, k)\n",
    "    max ← MaxMap(freqMap)\n",
    "    for all strings Pattern in freqMap\n",
    "        if freqMap[pattern] = max\n",
    "            append Pattern to frequentPatterns\n",
    "    return frequentPatterns"
   ]
  },
  {
   "cell_type": "markdown",
   "id": "688ff7e0-e67c-4531-98a9-db2b88c09caa",
   "metadata": {},
   "source": [
    "### **Answer:**"
   ]
  },
  {
   "cell_type": "code",
   "execution_count": 21,
   "id": "c91df483-191e-420a-82f7-c23995eb6afb",
   "metadata": {
    "tags": []
   },
   "outputs": [
    {
     "name": "stdout",
     "output_type": "stream",
     "text": [
      "Most Frequent Patterns: ['TACGTTTTGGATAG', 'ACGTTTTGGATAGT']\n",
      "Frequency Map: \n",
      "ATTTGGCATTTGGC:8\n",
      "TTTGGCATTTGGCA:4\n",
      "TTGGCATTTGGCAT:4\n",
      "TGGCATTTGGCATT:4\n",
      "GGCATTTGGCATTT:4\n",
      "GCATTTGGCATTTG:4\n",
      "CATTTGGCATTTGG:4\n",
      "TTTGGCATTTGGCT:3\n",
      "TTGGCATTTGGCTA:2\n",
      "TGGCATTTGGCTAC:2\n",
      ".\n",
      ".\n",
      ".\n"
     ]
    }
   ],
   "source": [
    "import itertools\n",
    "\n",
    "# Create a frequency map of k-mer pattern occurrences as a dictionary\n",
    "def freq_map(seq, k):\n",
    "    freqMap = {}\n",
    "    # For the whole sequence - k\n",
    "    for i in range(len(seq) - int(k) + 1):\n",
    "        # Scanning window of letters (of length k)\n",
    "        pattern = seq[i:i + int(k)]\n",
    "        # For each new k-length segment, it sets its value to 1 in dictionary\n",
    "        if pattern not in freqMap:\n",
    "            freqMap[pattern] = 1\n",
    "        # If k-length segment is already in dictionary, it increments its value (initially 1)\n",
    "        freqMap[pattern] += 1\n",
    "    return freqMap\n",
    "\n",
    "# Retrieve the most frequent patterns in frequency table\n",
    "def most_freq_patterns(seq, k):\n",
    "    freqPatterns = []\n",
    "    # Get freqMap dictionary\n",
    "    freqMap = freq_map(seq, int(k))\n",
    "    # For each pattern (key), count (value) item in dictionary\n",
    "    for pattern, count in freqMap.items():\n",
    "        # Find patterns with max count values\n",
    "        if count == max(freqMap.values()):\n",
    "            # Append freqPatterns list with those patterns\n",
    "            freqPatterns.append(pattern)\n",
    "    return freqPatterns\n",
    "\n",
    "\n",
    "file_path = r'C:\\Users\\ryanr\\OneDrive\\Desktop\\Coursera\\Bioinformatics UCSD\\dataset_30272_13.txt'\n",
    "with open(file_path, 'r') as file:\n",
    "    Seq = file.readline().strip()\n",
    "    K = file.readline().strip()\n",
    "\n",
    "# Get the most frequent patterns\n",
    "freqPatterns = most_freq_patterns(Seq, K)\n",
    "print(\"Most Frequent Patterns:\", freqPatterns)\n",
    "\n",
    "# Get the frequency map\n",
    "freqMap = freq_map(Seq, K)\n",
    "\n",
    "print(f\"Frequency Map: \")\n",
    "[print(f\"{key}:{value}\") for key, value in list(freqMap.items())[:10]]\n",
    "print(\".\\n.\\n.\")"
   ]
  },
  {
   "cell_type": "markdown",
   "id": "dd347f04-7317-4998-b438-716300e97e59",
   "metadata": {},
   "source": [
    "### Finding the compliment of a sequence and reversing it:"
   ]
  },
  {
   "cell_type": "code",
   "execution_count": 14,
   "id": "58120f00-de49-4b5e-86b4-74300fa36d08",
   "metadata": {
    "tags": []
   },
   "outputs": [
    {
     "name": "stdout",
     "output_type": "stream",
     "text": [
      "Original Sequence: ACCTCAGGTT...GATAACCTTC\n",
      "\n",
      "Reversed Complementary Sequence: GAAGGTTATC...AACCTGAGGT\n"
     ]
    }
   ],
   "source": [
    "# Obtaining the reverse compliment of a DNA sequence\n",
    "def reverse_compliment(seq):\n",
    "    # Assign complimentary letters\n",
    "    comp_dict = {'A':'T', 'T':'A', 'C':'G', 'G':'C'}\n",
    "    # Replace each nucleotide with its complementary letter\n",
    "    comp_seq = ''.join(comp_dict[n] for n in seq)\n",
    "    # Reverse the entire string\n",
    "    rev_comp_seq = comp_seq[::-1]\n",
    "    return rev_comp_seq\n",
    "\n",
    "\n",
    "\n",
    "file_path = r'C:\\Users\\ryanr\\OneDrive\\Desktop\\Coursera\\Bioinformatics UCSD\\dataset_30273_2.txt'\n",
    "with open(file_path, 'r') as file:\n",
    "    Seq = file.readline().strip()\n",
    "\n",
    "rev_comp_seq = reverse_compliment(Seq)\n",
    "print(\"Original Sequence: \", Seq[:10], \"...\", Seq[-10:], sep='')\n",
    "print(\"\\nReversed Complementary Sequence: \", rev_comp_seq[:10], \"...\", rev_comp_seq[-10:], sep='')"
   ]
  },
  {
   "cell_type": "markdown",
   "id": "6d4ffe78-eff5-461f-a8dd-9959415c9b1f",
   "metadata": {},
   "source": [
    "### Finding all locations/occurrences of a pattern within a sequence:"
   ]
  },
  {
   "cell_type": "code",
   "execution_count": 15,
   "id": "49266c49-3b6d-4bcc-8fd1-f3bc1dcb386c",
   "metadata": {
    "tags": []
   },
   "outputs": [
    {
     "name": "stdout",
     "output_type": "stream",
     "text": [
      "The pattern 'ATTATCAAT' occurs at indices:\n",
      "11 141 148 155 172 278 285 354 428 468 566 573 593 765 772 779 798 805 853 882 889 904 973 980 987 994 1074 1081 1088 1138 1171 1201 1208 1261 1347 1362 1386 1393 1421 1465 1481 1507 1607 1737 1744 1759 1766 1814 1824 1881 1964 1982 2017 2040 2142 2186 2193 2223 2230 2257 2285 2301 2325 2332 2359 2422 2429 2476 2483 2499 2537 2615 2634 2643 2650 2657 2664 2717 2724 2740 2747 2757 2788 2833 2881 2926 3008 3053 3060 3091 3106 3135 3151 3195 3233 3240 3277 3323 3330 3345 3352 3418 3456 3463 3577 3584 3591 3598 3660 3676 3731 3738 3798 3851 3858 3865 3983 4018 4198 4205 4212 4219 4259 4274 4322 4354 4382 4463 4487 4541 4556 4563 4659 4696 4738 4807 4833 4840 4857 4864 4919 4954 4961 4986 4993 5076 5091 5116 5136 5233 5302 5309 5364 5374 5405 5412 5428 5498 5518 5525 5567 5585 5602 5649 5716 5827 5950 6053 6117 6124 6133 6140 6147 6218 6271 6288 6295 6323 6330 6395 6462 6560 6567 6602 6627 6642 6659 6738 6745 6756 6786 6801 6820 6843 6850 6882 6982 7132 7176 7217 7243 7250 7257 7276 7292 7441 7516 7523 7530 7537 7586 7593 7636 7653 7660 7683 7690 7697 7720 7821 7848 7864 7882 7924 7940 7994 8014 8021 8051 8075 8095 8193 8224 8273 8298 8359 8453 8474 8490 8553 8600 8607 8634 8725 8737 8764\n"
     ]
    }
   ],
   "source": [
    "# Find locations of a k-mer pattern within a DNA sequence\n",
    "def find_pattern_indices(seq, pattern):\n",
    "    occurrences = []\n",
    "    k = len(pattern)\n",
    "    # For whole sequence - k\n",
    "    for i in range(len(seq) - k + 1):\n",
    "        # Checking for our pattern using a scanning window of size k \n",
    "        if seq[i:i + k] == pattern:\n",
    "            # If our pattern is found, append the index to occurences list\n",
    "            occurrences.append(i)\n",
    "    occurrences_nocommas = ' '.join(map(str, occurrences))\n",
    "    return occurrences_nocommas\n",
    "\n",
    "\n",
    "\n",
    "file_path = r'C:\\Users\\ryanr\\OneDrive\\Desktop\\Coursera\\Bioinformatics UCSD\\dataset_30273_5.txt'\n",
    "with open(file_path, 'r') as file:\n",
    "    Pattern = file.readline().strip()\n",
    "    Seq = file.readline().strip()\n",
    "\n",
    "result = find_pattern_indices(Seq, Pattern)\n",
    "print(f\"The pattern '{Pattern}' occurs at indices:\\n{result}\")"
   ]
  },
  {
   "cell_type": "markdown",
   "id": "6b824c37-2c3a-4a02-be48-17965c6b26cb",
   "metadata": {},
   "source": [
    "### Finding where 'CTTGATCAT' occurs in the *Vibrio cholerae* genome:"
   ]
  },
  {
   "cell_type": "code",
   "execution_count": 16,
   "id": "c70a97f9-5662-4c85-b37f-23ca7be79195",
   "metadata": {
    "tags": []
   },
   "outputs": [
    {
     "name": "stdout",
     "output_type": "stream",
     "text": [
      "The pattern 'CTTGATCAT' occurs at indices:\n",
      "60039 98409 129189 152283 152354 152411 163207 197028 200160 357976 376771 392723 532935 600085 622755 1065555\n"
     ]
    }
   ],
   "source": [
    "file_path = r'C:\\Users\\ryanr\\OneDrive\\Desktop\\Coursera\\Bioinformatics UCSD\\Vibrio_cholerae.txt'\n",
    "with open(file_path, 'r') as genome:\n",
    "    Seq = genome.readline().strip()\n",
    "    \n",
    "Pattern = 'CTTGATCAT'\n",
    "\n",
    "result = find_pattern_indices(Seq, Pattern)\n",
    "print(f\"The pattern '{Pattern}' occurs at indices:\\n{result}\")"
   ]
  },
  {
   "cell_type": "markdown",
   "id": "83219886-0de2-49ec-b708-e75e2fe4b021",
   "metadata": {},
   "source": [
    "### Find a k-mer pattern forming a 'clump' in a sequence:\n",
    " - ### *Clump(L, t)* denotes a pattern being found *t* times within *L* nucleotides\n",
    " - ### e.g. (50,4)-clump: find all k-mers occuring *t* = 4 times within an *L* = 50 nucleotide section"
   ]
  },
  {
   "cell_type": "raw",
   "id": "8125d2ce-db33-43c8-bb09-f38c79622c6c",
   "metadata": {},
   "source": [
    "# Pseudocode\n",
    "# Uses previous dictionary method, FrequencyTable\n",
    "FindClumps(Seq, k, L, t)\n",
    "    Patterns ← an array of strings of length 0\n",
    "    n ← |Seq|\n",
    "    for every integer i between 0 and n − L\n",
    "        Window ← Seq(i, L)\n",
    "        freqMap ← FrequencyTable(Window, k)\n",
    "        for every key s in freqMap\n",
    "            if freqMap[s] ≥ t\n",
    "                append s to Patterns\n",
    "    remove duplicates from Patterns\n",
    "    return Patterns"
   ]
  },
  {
   "cell_type": "code",
   "execution_count": 17,
   "id": "49140495-576b-45d0-86f9-87d0dbceeb02",
   "metadata": {
    "tags": []
   },
   "outputs": [
    {
     "name": "stdout",
     "output_type": "stream",
     "text": [
      "10-mers occurring at least 4 times in 100-long segments: GAACCTGGGT AACCTGGGTT CCCCATTGCG CCCCCATTGC CTTGTTGGTG CGCGAGCGGT GCGAGCGGTG TACCTAAAGT TCCAGATACC GTCCAGATAC TGTTACTGCA ACACCCAAAC GCACGGGAGG CACGGGAGGC\n"
     ]
    }
   ],
   "source": [
    "# Find patterns that form (L,t)-clumps i.e., occurring t times within an L-nucleotide stretch\n",
    "def find_clumps(seq, k, L, t):\n",
    "    patterns = []\n",
    "    for i in range(len(seq) - int(L) + 1):\n",
    "        # Scanning window of length L\n",
    "        window = seq[i:i + int(L)]\n",
    "        # Get freqTable dictionaries of k-mers within L-length windows of sequence\n",
    "        freqMap = freq_table(window, k)\n",
    "        # For each item in dictionary\n",
    "        for j in freqMap:\n",
    "            # If value of key (counts) is t or higher, add to Patterns list\n",
    "            if freqMap[j] >= int(t) and j not in patterns:\n",
    "                patterns.append(j)\n",
    "    patterns_nocommas = ' '.join(map(str, patterns))\n",
    "    return patterns_nocommas\n",
    "\n",
    "\n",
    "\n",
    "file_path = r'C:\\Users\\ryanr\\OneDrive\\Desktop\\Coursera\\Bioinformatics UCSD\\dataset_30274_5.txt'\n",
    "with open(file_path, 'r') as file:\n",
    "    Seq = file.readline().strip()\n",
    "    k, L, t = file.readline().strip().split()\n",
    "\n",
    "result = find_clumps(Seq, k, L, t)\n",
    "print(f\"{k}-mers occurring at least {t} times in {L}-long segments: {result}\")"
   ]
  },
  {
   "cell_type": "markdown",
   "id": "093daf23-cbb3-460c-9f35-a9ba81e5aee1",
   "metadata": {},
   "source": [
    "### How many different 9-mers form (500,3)-clumps in the E. coli genome?"
   ]
  },
  {
   "cell_type": "code",
   "execution_count": 30,
   "id": "a85a4ff8-3fd7-4aff-b1a5-33c5b6729e13",
   "metadata": {
    "tags": []
   },
   "outputs": [
    {
     "name": "stdout",
     "output_type": "stream",
     "text": [
      "Total number of 9-mers that form (500, 3)-Clumps: 1904\n",
      "9-mers occurring in (500, 3)-Clumps in E-coli:\n",
      "['CCGGATGCG', 'CCCTGCGGG', 'GCCTGCGGC', 'CAGCAGGCC', 'GTCGGGGCT', 'CGTCGAAGC', 'TCGGATAAG', 'GATGGTGGT', 'AGCCGCTAT', 'GCCGACCAG']...\n"
     ]
    }
   ],
   "source": [
    "from collections import defaultdict\n",
    "\n",
    "# Faster/more efficient code for longer genomes\n",
    "def find_clumps_V2(seq, k, L, t):\n",
    "    patterns = set()\n",
    "    # Make one freqMap dictionary, default key values = 0\n",
    "    freqMap = defaultdict(int)\n",
    "    # Add each pattern to freqMap for first window\n",
    "    for nuc in range(L):\n",
    "        pattern = seq[nuc:nuc + k]\n",
    "        freqMap[pattern] += 1\n",
    "        if freqMap[pattern] == t:\n",
    "            patterns.add(pattern)\n",
    "    # Slide the window and update the frequency table incrementally\n",
    "    for nuc in range(1, len(seq) - L + 1):\n",
    "        old_pattern = seq[nuc - 1:nuc - 1 + k]\n",
    "        # Decrement the k-mer that exited to avoid double counts in the current window\n",
    "        freqMap[old_pattern] -= 1\n",
    "        new_pattern = seq[nuc + L - k:nuc + L]\n",
    "        # Increment the new k-mer that entered window\n",
    "        freqMap[new_pattern] += 1\n",
    "        if freqMap[new_pattern] == t:\n",
    "            patterns.add(new_pattern)\n",
    "    return list(patterns)\n",
    "\n",
    "\n",
    "\n",
    "file_path = r'C:\\Users\\ryanr\\OneDrive\\Desktop\\Coursera\\Bioinformatics UCSD\\E_coli.txt'\n",
    "with open(file_path, 'r') as file:\n",
    "    Seq = file.readline().strip()\n",
    "    \n",
    "k = 9\n",
    "L = 500\n",
    "t = 3\n",
    "\n",
    "result = find_clumps_V2(Seq, k, L, t)\n",
    "print(f\"Total number of {k}-mers that form (500, 3)-Clumps: {len(result)}\")\n",
    "print(f\"{k}-mers occurring in (500, 3)-Clumps in E-coli:\\n{result[:10]}...\")"
   ]
  },
  {
   "cell_type": "markdown",
   "id": "080d6b2b-ff70-41e2-abd0-f77788c4677a",
   "metadata": {},
   "source": [
    "## Using Object Oriented Programming to Create a DNASequence Class "
   ]
  },
  {
   "cell_type": "code",
   "execution_count": 31,
   "id": "2d415733-bb61-4802-8a37-241b18037c1f",
   "metadata": {
    "tags": []
   },
   "outputs": [
    {
     "name": "stdout",
     "output_type": "stream",
     "text": [
      "Sequence: AACATCCATGACAGCCTTCGGTTAGTGGTTAAGGTACCAGTCCGCATAAGCCGTAGAAGATAGCCAAAGTGGCCTCGCCGGAGTTCGTTCCGACGTGTTT\n",
      "Length: 100\n",
      "Nucleotide counts: {'A': 24, 'C': 25, 'G': 27, 'T': 24}\n",
      "Reverse compliment sequence: AAACACGTCGGAACGAACTCCGGCGAGGCCACTTTGGCTATCTTCTACGGCTTATGCGGACTGGTACCTTAACCACTAACCGAAGGCTGTCATGGATGTT\n",
      "\n",
      "Sequence: TCTAAGAGTAATAACAGCGGCCGACCAATACAAGCCCACTTCACACTACGGCCGTTGCCTCGTCATGGAAATGTCCTGCCCGCCTTCCCACGCCCGGGGAATTCTAGTATAAAAGCGTCCCATAAGTCAGTTACTAGAAAAGTTATGGGTAACTGCACGAAATAATATGCTGCGCGTGAAACATTCTATAGCGCCATTTCAAGGAGGTTTAGACAAAGCGACGAAACCAGCCTTTATCCTGGAGGCGCTAATTAGTTCCTTGCCGGAAAGAGTCGCCTGAGTCCATTGATAGCGCGGCACGAAGATGGTAGCCCGCTTCTGAATATATGTGACTACCATCTGCTGAATACAAGCTGCTGCAGACGTTCCCCACGGCTTGATCCGTAGGAGTTTCTAACAATGTTACCGTAGGAAGCAACTCCTTATCGCTGTTCGTATCTCATTGTGTGTCCTTTGGTGCAGCGCGAGAGTACGCCAAGCGCTGATCCACTCGGTTTCAA\n",
      "Length: 500\n",
      "Nucleotide counts: {'A': 130, 'C': 130, 'G': 117, 'T': 123}\n",
      "Reverse compliment sequence: TTGAAACCGAGTGGATCAGCGCTTGGCGTACTCTCGCGCTGCACCAAAGGACACACAATGAGATACGAACAGCGATAAGGAGTTGCTTCCTACGGTAACATTGTTAGAAACTCCTACGGATCAAGCCGTGGGGAACGTCTGCAGCAGCTTGTATTCAGCAGATGGTAGTCACATATATTCAGAAGCGGGCTACCATCTTCGTGCCGCGCTATCAATGGACTCAGGCGACTCTTTCCGGCAAGGAACTAATTAGCGCCTCCAGGATAAAGGCTGGTTTCGTCGCTTTGTCTAAACCTCCTTGAAATGGCGCTATAGAATGTTTCACGCGCAGCATATTATTTCGTGCAGTTACCCATAACTTTTCTAGTAACTGACTTATGGGACGCTTTTATACTAGAATTCCCCGGGCGTGGGAAGGCGGGCAGGACATTTCCATGACGAGGCAACGGCCGTAGTGTGAAGTGGGCTTGTATTGGTCGGCCGCTGTTATTACTCTTAGA\n"
     ]
    }
   ],
   "source": [
    "from DNASequenceClass import DNASequence \n",
    "import random_sequence\n",
    "\n",
    "s1 = random_sequence.random_sequence(100)\n",
    "s2 = random_sequence.random_sequence(500)\n",
    "\n",
    "seq1 = DNASequence(s1)\n",
    "seq2 = DNASequence(s2)\n",
    "\n",
    "print(f\"Sequence: {s1}\")\n",
    "print(f\"Length: {len(seq1)}\")\n",
    "print(f\"Nucleotide counts: {seq1.nuc_count()}\")\n",
    "print(f\"Reverse compliment sequence: {seq1.rev_comp()}\")\n",
    "print(f\"\\nSequence: {s2}\")\n",
    "print(f\"Length: {len(seq2)}\")\n",
    "print(f\"Nucleotide counts: {seq2.nuc_count()}\")\n",
    "print(f\"Reverse compliment sequence: {seq2.rev_comp()}\")"
   ]
  }
 ],
 "metadata": {
  "kernelspec": {
   "display_name": "Python 3 (ipykernel)",
   "language": "python",
   "name": "python3"
  },
  "language_info": {
   "codemirror_mode": {
    "name": "ipython",
    "version": 3
   },
   "file_extension": ".py",
   "mimetype": "text/x-python",
   "name": "python",
   "nbconvert_exporter": "python",
   "pygments_lexer": "ipython3",
   "version": "3.11.3"
  }
 },
 "nbformat": 4,
 "nbformat_minor": 5
}
